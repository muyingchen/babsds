{
 "cells": [
  {
   "cell_type": "markdown",
   "metadata": {},
   "source": [
    "# The code here is to combine weather data and trip data"
   ]
  },
  {
   "cell_type": "code",
   "execution_count": 1,
   "metadata": {
    "collapsed": false
   },
   "outputs": [],
   "source": [
    "from datetime import datetime, date, time\n",
    "from pandas import DataFrame, read_csv\n",
    "import pandas as pd\n",
    "import numpy as np\n",
    "import matplotlib.pyplot as plt\n",
    "%matplotlib inline\n",
    "#from ggplot import *"
   ]
  },
  {
   "cell_type": "code",
   "execution_count": 2,
   "metadata": {
    "collapsed": true
   },
   "outputs": [],
   "source": [
    "# lambdas & functions\n",
    "lambda_city = lambda x: station_data['city'].ix[x]\n",
    "\n",
    "def convert_float(val):\n",
    "    try:\n",
    "        return float(val)\n",
    "    except ValueError:\n",
    "        return 0\n",
    "\n",
    "# dictionary reference\n",
    "seasons_dict = {\n",
    "    1: 'Winter',2: 'Spring',3: 'Spring',4: 'Spring',\n",
    "    5: 'Summer',6: 'Summer',7: 'Summer',8: 'Autumn',\n",
    "    9: 'Autumn',10: 'Autumn',11: 'Winter',12: 'Winter'}\n",
    "\n",
    "city_dict = {\n",
    "    94107: 'San Francisco',\n",
    "    94063: 'Redwood City',\n",
    "    94301: 'Palo Alto', \n",
    "    94041: 'Mountain View', \n",
    "    95113: 'San Jose'}\n",
    "\n",
    "# header reference\n",
    "station_headers = ['station_id','station_name','lat','long',\n",
    "                   'dock_count','city','install_date']\n",
    "\n",
    "status_headers = ['station_id','bikes_free','docks_free','time']\n",
    "\n",
    "trip_headers = ['trip_id','trip_time',\n",
    "                'start_dt','start_station','start_id',\n",
    "                'end_dt','end_station','end_id',\n",
    "                'bike_num','user_type','ZIP']\n",
    "\n",
    "weather_headers = ['date',\n",
    "                   'max_temp','mean_temp','min_temp',\n",
    "                   'max_dp','mean_dp','min_dp',\n",
    "                   'max_hum','mean_hum','min_hum',\n",
    "                   'max_sea','mean_sea','min_sea',\n",
    "                   'max_vis','mean_vis','min_vis',\n",
    "                   'max_wind','mean_wind','max_gust',\n",
    "                   'rain_inches','cloud_cover','events',\n",
    "                   'wind_dir_degrees','ZIP']"
   ]
  },
  {
   "cell_type": "markdown",
   "metadata": {},
   "source": [
    "## Weather data"
   ]
  },
  {
   "cell_type": "code",
   "execution_count": 3,
   "metadata": {
    "collapsed": false
   },
   "outputs": [],
   "source": [
    "# read weather data\n",
    "weather_data = pd.read_csv('weather_data_new.csv', parse_dates=['date'])\n",
    "weather_data['season'] = weather_data['date'].dt.month.map(seasons_dict)\n",
    "weather_data['city'] = weather_data['ZIP'].map(city_dict)\n",
    "# scrubbed columns from weather_data\n",
    "weather_data['rain_inches'] = weather_data['rain_inches'].map(convert_float)"
   ]
  },
  {
   "cell_type": "code",
   "execution_count": 4,
   "metadata": {
    "collapsed": true
   },
   "outputs": [],
   "source": [
    "import datetime"
   ]
  },
  {
   "cell_type": "code",
   "execution_count": 5,
   "metadata": {
    "collapsed": false
   },
   "outputs": [
    {
     "name": "stderr",
     "output_type": "stream",
     "text": [
      "//anaconda/lib/python3.5/site-packages/ipykernel/__main__.py:6: SettingWithCopyWarning: \n",
      "A value is trying to be set on a copy of a slice from a DataFrame.\n",
      "Try using .loc[row_indexer,col_indexer] = value instead\n",
      "\n",
      "See the caveats in the documentation: http://pandas.pydata.org/pandas-docs/stable/indexing.html#indexing-view-versus-copy\n",
      "//anaconda/lib/python3.5/site-packages/ipykernel/__main__.py:7: SettingWithCopyWarning: \n",
      "A value is trying to be set on a copy of a slice from a DataFrame.\n",
      "Try using .loc[row_indexer,col_indexer] = value instead\n",
      "\n",
      "See the caveats in the documentation: http://pandas.pydata.org/pandas-docs/stable/indexing.html#indexing-view-versus-copy\n"
     ]
    }
   ],
   "source": [
    "# split weather data to 2014 and 2015\n",
    "weather_2015 = weather_data[weather_data['date'] >='2014-09-01']\n",
    "weather_2014 = weather_data[weather_data['date'] <'2014-09-01']\n",
    "\n",
    "# label the datasets by month\n",
    "weather_2014['month'] = weather_2014['date'].dt.month\n",
    "weather_2015['month'] = weather_2015['date'].dt.month\n"
   ]
  },
  {
   "cell_type": "code",
   "execution_count": 6,
   "metadata": {
    "collapsed": false
   },
   "outputs": [],
   "source": [
    "# create a new dataframe that contains only the info that I need (month, season, avg_tem)\n",
    "weather_2014_for_me = weather_2014[['date', 'mean_temp','mean_wind','season', 'city','month']]\n",
    "weather_2015_for_me = weather_2015[['date', 'mean_temp','mean_wind','season', 'city','month']]"
   ]
  },
  {
   "cell_type": "code",
   "execution_count": null,
   "metadata": {
    "collapsed": false
   },
   "outputs": [],
   "source": []
  },
  {
   "cell_type": "markdown",
   "metadata": {},
   "source": [
    "## Trip data"
   ]
  },
  {
   "cell_type": "code",
   "execution_count": 9,
   "metadata": {
    "collapsed": false
   },
   "outputs": [],
   "source": [
    "# read trip data and split it for 2014 and 2015\n",
    "trip_data = pd.read_csv('trip_data_new.csv', parse_dates = ['date'])\n",
    "trip_data_2014 = trip_data[trip_data['date'] < '2014-09-01']\n",
    "trip_data_2015 = trip_data[trip_data['date'] >= '2014-09-01']"
   ]
  },
  {
   "cell_type": "code",
   "execution_count": 10,
   "metadata": {
    "collapsed": false
   },
   "outputs": [
    {
     "name": "stderr",
     "output_type": "stream",
     "text": [
      "//anaconda/lib/python3.5/site-packages/ipykernel/__main__.py:2: SettingWithCopyWarning: \n",
      "A value is trying to be set on a copy of a slice from a DataFrame.\n",
      "Try using .loc[row_indexer,col_indexer] = value instead\n",
      "\n",
      "See the caveats in the documentation: http://pandas.pydata.org/pandas-docs/stable/indexing.html#indexing-view-versus-copy\n",
      "  from ipykernel import kernelapp as app\n",
      "//anaconda/lib/python3.5/site-packages/ipykernel/__main__.py:3: SettingWithCopyWarning: \n",
      "A value is trying to be set on a copy of a slice from a DataFrame.\n",
      "Try using .loc[row_indexer,col_indexer] = value instead\n",
      "\n",
      "See the caveats in the documentation: http://pandas.pydata.org/pandas-docs/stable/indexing.html#indexing-view-versus-copy\n",
      "  app.launch_new_instance()\n",
      "//anaconda/lib/python3.5/site-packages/ipykernel/__main__.py:4: SettingWithCopyWarning: \n",
      "A value is trying to be set on a copy of a slice from a DataFrame.\n",
      "Try using .loc[row_indexer,col_indexer] = value instead\n",
      "\n",
      "See the caveats in the documentation: http://pandas.pydata.org/pandas-docs/stable/indexing.html#indexing-view-versus-copy\n",
      "//anaconda/lib/python3.5/site-packages/ipykernel/__main__.py:5: SettingWithCopyWarning: \n",
      "A value is trying to be set on a copy of a slice from a DataFrame.\n",
      "Try using .loc[row_indexer,col_indexer] = value instead\n",
      "\n",
      "See the caveats in the documentation: http://pandas.pydata.org/pandas-docs/stable/indexing.html#indexing-view-versus-copy\n"
     ]
    }
   ],
   "source": [
    "# label the trip datasets by month\n",
    "trip_data_2014['month'] = trip_data_2014['date'].dt.month\n",
    "trip_data_2015['month'] = trip_data_2015['date'].dt.month\n",
    "trip_data_2014['trip_time'] = trip_data_2014['trip_time'] / 60   # concert trip time unit to minute\n",
    "trip_data_2015['trip_time'] = trip_data_2015['trip_time'] / 60  "
   ]
  },
  {
   "cell_type": "code",
   "execution_count": 11,
   "metadata": {
    "collapsed": false
   },
   "outputs": [],
   "source": [
    "# create a new dataframe that contains only the info that I need (month, season, trip time, user type, city)\n",
    "trip_data_2014_for_me = trip_data_2014[['date', 'trip_time','user_type','start_city', 'month']]\n",
    "trip_data_2015_for_me = trip_data_2015[['date', 'trip_time','user_type','start_city','month']]"
   ]
  },
  {
   "cell_type": "markdown",
   "metadata": {},
   "source": [
    "## Weather and trip data together per city"
   ]
  },
  {
   "cell_type": "markdown",
   "metadata": {},
   "source": [
    "### San Francisco 2014 and 2015"
   ]
  },
  {
   "cell_type": "code",
   "execution_count": 13,
   "metadata": {
    "collapsed": false
   },
   "outputs": [],
   "source": [
    "# sf weather and trip data\n",
    "SF_weather_2014 = weather_2014_for_me[weather_2014_for_me['city']=='San Francisco']\n",
    "SF_trip_data_2014 = trip_data_2014_for_me[trip_data_2014_for_me['start_city'] =='San Francisco']\n",
    "\n",
    "SF_all_2014 = pd.merge(SF_trip_data_2014, SF_weather_2014,on='date')\n",
    "SF_all_2014 = SF_all_2014.drop(['start_city', 'month_x'], axis=1)\n",
    "SF_all_2014 = SF_all_2014.rename(columns={'month_y': 'month'})"
   ]
  },
  {
   "cell_type": "code",
   "execution_count": 14,
   "metadata": {
    "collapsed": false
   },
   "outputs": [
    {
     "data": {
      "text/html": [
       "<div>\n",
       "<table border=\"1\" class=\"dataframe\">\n",
       "  <thead>\n",
       "    <tr style=\"text-align: right;\">\n",
       "      <th></th>\n",
       "      <th>date</th>\n",
       "      <th>trip_time</th>\n",
       "      <th>user_type</th>\n",
       "      <th>mean_temp</th>\n",
       "      <th>mean_wind</th>\n",
       "      <th>season</th>\n",
       "      <th>city</th>\n",
       "      <th>month</th>\n",
       "    </tr>\n",
       "  </thead>\n",
       "  <tbody>\n",
       "    <tr>\n",
       "      <th>0</th>\n",
       "      <td>2013-09-01</td>\n",
       "      <td>25.133333</td>\n",
       "      <td>Customer</td>\n",
       "      <td>66</td>\n",
       "      <td>13</td>\n",
       "      <td>Autumn</td>\n",
       "      <td>San Francisco</td>\n",
       "      <td>9</td>\n",
       "    </tr>\n",
       "    <tr>\n",
       "      <th>1</th>\n",
       "      <td>2013-09-01</td>\n",
       "      <td>4.566667</td>\n",
       "      <td>Subscriber</td>\n",
       "      <td>66</td>\n",
       "      <td>13</td>\n",
       "      <td>Autumn</td>\n",
       "      <td>San Francisco</td>\n",
       "      <td>9</td>\n",
       "    </tr>\n",
       "    <tr>\n",
       "      <th>2</th>\n",
       "      <td>2013-09-01</td>\n",
       "      <td>19.950000</td>\n",
       "      <td>Customer</td>\n",
       "      <td>66</td>\n",
       "      <td>13</td>\n",
       "      <td>Autumn</td>\n",
       "      <td>San Francisco</td>\n",
       "      <td>9</td>\n",
       "    </tr>\n",
       "    <tr>\n",
       "      <th>3</th>\n",
       "      <td>2013-09-01</td>\n",
       "      <td>25.183333</td>\n",
       "      <td>Customer</td>\n",
       "      <td>66</td>\n",
       "      <td>13</td>\n",
       "      <td>Autumn</td>\n",
       "      <td>San Francisco</td>\n",
       "      <td>9</td>\n",
       "    </tr>\n",
       "    <tr>\n",
       "      <th>4</th>\n",
       "      <td>2013-09-01</td>\n",
       "      <td>25.183333</td>\n",
       "      <td>Customer</td>\n",
       "      <td>66</td>\n",
       "      <td>13</td>\n",
       "      <td>Autumn</td>\n",
       "      <td>San Francisco</td>\n",
       "      <td>9</td>\n",
       "    </tr>\n",
       "  </tbody>\n",
       "</table>\n",
       "</div>"
      ],
      "text/plain": [
       "        date  trip_time   user_type  mean_temp  mean_wind  season  \\\n",
       "0 2013-09-01  25.133333    Customer         66         13  Autumn   \n",
       "1 2013-09-01   4.566667  Subscriber         66         13  Autumn   \n",
       "2 2013-09-01  19.950000    Customer         66         13  Autumn   \n",
       "3 2013-09-01  25.183333    Customer         66         13  Autumn   \n",
       "4 2013-09-01  25.183333    Customer         66         13  Autumn   \n",
       "\n",
       "            city  month  \n",
       "0  San Francisco      9  \n",
       "1  San Francisco      9  \n",
       "2  San Francisco      9  \n",
       "3  San Francisco      9  \n",
       "4  San Francisco      9  "
      ]
     },
     "execution_count": 14,
     "metadata": {},
     "output_type": "execute_result"
    }
   ],
   "source": [
    "# sf by user statistics\n",
    "SF_all_2014.head()"
   ]
  },
  {
   "cell_type": "code",
   "execution_count": 15,
   "metadata": {
    "collapsed": false
   },
   "outputs": [],
   "source": [
    "# function used to create frames for each month/season in 2014\n",
    "def trip_count_to_frame(data, column, elem):\n",
    "    temp = data[data[column] == elem].groupby('user_type')['date'].count()\n",
    "    temp = temp.to_frame(name=elem).T\n",
    "    return temp\n",
    "# define sort_range\n",
    "sort_range_month = [9, 10, 11, 12, 1, 2, 3, 4, 5, 6, 7, 8]  # sort_range for month\n",
    "sort_range_season = ['Autumn','Winter','Spring','Summer']"
   ]
  },
  {
   "cell_type": "code",
   "execution_count": 16,
   "metadata": {
    "collapsed": false
   },
   "outputs": [
    {
     "data": {
      "text/html": [
       "<div>\n",
       "<table border=\"1\" class=\"dataframe\">\n",
       "  <thead>\n",
       "    <tr style=\"text-align: right;\">\n",
       "      <th>user_type</th>\n",
       "      <th>Customer</th>\n",
       "      <th>Subscriber</th>\n",
       "      <th>mean_temp</th>\n",
       "    </tr>\n",
       "  </thead>\n",
       "  <tbody>\n",
       "    <tr>\n",
       "      <th>9</th>\n",
       "      <td>8590</td>\n",
       "      <td>14114</td>\n",
       "      <td>NaN</td>\n",
       "    </tr>\n",
       "    <tr>\n",
       "      <th>10</th>\n",
       "      <td>5493</td>\n",
       "      <td>20659</td>\n",
       "      <td>NaN</td>\n",
       "    </tr>\n",
       "    <tr>\n",
       "      <th>11</th>\n",
       "      <td>3965</td>\n",
       "      <td>18008</td>\n",
       "      <td>NaN</td>\n",
       "    </tr>\n",
       "    <tr>\n",
       "      <th>12</th>\n",
       "      <td>2909</td>\n",
       "      <td>15228</td>\n",
       "      <td>NaN</td>\n",
       "    </tr>\n",
       "    <tr>\n",
       "      <th>1</th>\n",
       "      <td>2955</td>\n",
       "      <td>19044</td>\n",
       "      <td>NaN</td>\n",
       "    </tr>\n",
       "    <tr>\n",
       "      <th>2</th>\n",
       "      <td>2165</td>\n",
       "      <td>14919</td>\n",
       "      <td>NaN</td>\n",
       "    </tr>\n",
       "    <tr>\n",
       "      <th>3</th>\n",
       "      <td>3451</td>\n",
       "      <td>18530</td>\n",
       "      <td>NaN</td>\n",
       "    </tr>\n",
       "    <tr>\n",
       "      <th>5</th>\n",
       "      <td>4338</td>\n",
       "      <td>20796</td>\n",
       "      <td>NaN</td>\n",
       "    </tr>\n",
       "    <tr>\n",
       "      <th>6</th>\n",
       "      <td>4126</td>\n",
       "      <td>22370</td>\n",
       "      <td>NaN</td>\n",
       "    </tr>\n",
       "    <tr>\n",
       "      <th>7</th>\n",
       "      <td>4476</td>\n",
       "      <td>23280</td>\n",
       "      <td>NaN</td>\n",
       "    </tr>\n",
       "    <tr>\n",
       "      <th>8</th>\n",
       "      <td>5052</td>\n",
       "      <td>22913</td>\n",
       "      <td>NaN</td>\n",
       "    </tr>\n",
       "  </tbody>\n",
       "</table>\n",
       "</div>"
      ],
      "text/plain": [
       "user_type  Customer  Subscriber mean_temp\n",
       "9              8590       14114       NaN\n",
       "10             5493       20659       NaN\n",
       "11             3965       18008       NaN\n",
       "12             2909       15228       NaN\n",
       "1              2955       19044       NaN\n",
       "2              2165       14919       NaN\n",
       "3              3451       18530       NaN\n",
       "5              4338       20796       NaN\n",
       "6              4126       22370       NaN\n",
       "7              4476       23280       NaN\n",
       "8              5052       22913       NaN"
      ]
     },
     "execution_count": 16,
     "metadata": {},
     "output_type": "execute_result"
    }
   ],
   "source": [
    "# SF DATA PER MONTH\n",
    "SF_0913_result = trip_count_to_frame(SF_all_2014, 'month', 9)\n",
    "SF_1013_result = trip_count_to_frame(SF_all_2014, 'month', 10)\n",
    "SF_1113_result = trip_count_to_frame(SF_all_2014, 'month', 11)\n",
    "SF_1213_result = trip_count_to_frame(SF_all_2014, 'month', 12)\n",
    "SF_0114_result = trip_count_to_frame(SF_all_2014, 'month', 1)\n",
    "SF_0214_result = trip_count_to_frame(SF_all_2014, 'month', 2)\n",
    "SF_0314_result = trip_count_to_frame(SF_all_2014, 'month', 3)\n",
    "SF_0414_result = trip_count_to_frame(SF_all_2014, 'month', 4)\n",
    "SF_0514_result = trip_count_to_frame(SF_all_2014, 'month', 5)\n",
    "SF_0614_result = trip_count_to_frame(SF_all_2014, 'month', 6)\n",
    "SF_0714_result = trip_count_to_frame(SF_all_2014, 'month', 7)\n",
    "SF_0814_result = trip_count_to_frame(SF_all_2014, 'month', 8)\n",
    "# concat all the above dataframes\n",
    "SF_trip_count_month_2014_all = pd.concat([SF_0913_result,SF_1013_result,SF_1113_result,SF_1213_result,SF_0114_result,\n",
    "                  SF_0214_result,SF_0314_result,SF_0514_result,SF_0614_result,SF_0714_result,\n",
    "                  SF_0814_result])\n",
    "SF_trip_count_month_2014_all['mean_temp'] = 'NaN'\n",
    "#SF_trip_count_month_2014_all.plot(kind='bar')\n",
    "SF_trip_count_month_2014_all"
   ]
  },
  {
   "cell_type": "code",
   "execution_count": 20,
   "metadata": {
    "collapsed": false
   },
   "outputs": [
    {
     "data": {
      "text/html": [
       "<div>\n",
       "<table border=\"1\" class=\"dataframe\">\n",
       "  <thead>\n",
       "    <tr style=\"text-align: right;\">\n",
       "      <th>user_type</th>\n",
       "      <th>Customer</th>\n",
       "      <th>Subscriber</th>\n",
       "      <th>mean_temp</th>\n",
       "    </tr>\n",
       "  </thead>\n",
       "  <tbody>\n",
       "    <tr>\n",
       "      <th>9</th>\n",
       "      <td>8590</td>\n",
       "      <td>14114</td>\n",
       "      <td>65.652132</td>\n",
       "    </tr>\n",
       "    <tr>\n",
       "      <th>10</th>\n",
       "      <td>5493</td>\n",
       "      <td>20659</td>\n",
       "      <td>61.320893</td>\n",
       "    </tr>\n",
       "    <tr>\n",
       "      <th>11</th>\n",
       "      <td>3965</td>\n",
       "      <td>18008</td>\n",
       "      <td>58.154144</td>\n",
       "    </tr>\n",
       "    <tr>\n",
       "      <th>12</th>\n",
       "      <td>2909</td>\n",
       "      <td>15228</td>\n",
       "      <td>49.496940</td>\n",
       "    </tr>\n",
       "    <tr>\n",
       "      <th>1</th>\n",
       "      <td>2955</td>\n",
       "      <td>19044</td>\n",
       "      <td>55.759489</td>\n",
       "    </tr>\n",
       "    <tr>\n",
       "      <th>2</th>\n",
       "      <td>2165</td>\n",
       "      <td>14919</td>\n",
       "      <td>55.032369</td>\n",
       "    </tr>\n",
       "    <tr>\n",
       "      <th>3</th>\n",
       "      <td>3451</td>\n",
       "      <td>18530</td>\n",
       "      <td>59.186024</td>\n",
       "    </tr>\n",
       "    <tr>\n",
       "      <th>5</th>\n",
       "      <td>4338</td>\n",
       "      <td>20796</td>\n",
       "      <td>67.149508</td>\n",
       "    </tr>\n",
       "    <tr>\n",
       "      <th>6</th>\n",
       "      <td>4126</td>\n",
       "      <td>22370</td>\n",
       "      <td>67.149508</td>\n",
       "    </tr>\n",
       "    <tr>\n",
       "      <th>7</th>\n",
       "      <td>4476</td>\n",
       "      <td>23280</td>\n",
       "      <td>67.149508</td>\n",
       "    </tr>\n",
       "    <tr>\n",
       "      <th>8</th>\n",
       "      <td>5052</td>\n",
       "      <td>22913</td>\n",
       "      <td>67.149508</td>\n",
       "    </tr>\n",
       "  </tbody>\n",
       "</table>\n",
       "</div>"
      ],
      "text/plain": [
       "user_type  Customer  Subscriber  mean_temp\n",
       "9              8590       14114  65.652132\n",
       "10             5493       20659  61.320893\n",
       "11             3965       18008  58.154144\n",
       "12             2909       15228  49.496940\n",
       "1              2955       19044  55.759489\n",
       "2              2165       14919  55.032369\n",
       "3              3451       18530  59.186024\n",
       "5              4338       20796  67.149508\n",
       "6              4126       22370  67.149508\n",
       "7              4476       23280  67.149508\n",
       "8              5052       22913  67.149508"
      ]
     },
     "execution_count": 20,
     "metadata": {},
     "output_type": "execute_result"
    }
   ],
   "source": [
    "# add avg temp to table\n",
    "def add_avg_temp_to_data(data, data_add,column_name, sort_range):\n",
    "    for i in sort_range:\n",
    "        avg_temp = data[data[column_name] == i]['mean_temp'].mean()\n",
    "        data_add['mean_temp'].loc[i] = avg_temp        \n",
    "    return data_add\n",
    "\n",
    "SF_trip_count_month_2014_all = add_avg_temp_to_data(SF_all_2014, SF_trip_count_month_2014_all, 'month', sort_range_month)\n",
    "SF_trip_count_month_2014_all"
   ]
  },
  {
   "cell_type": "code",
   "execution_count": 121,
   "metadata": {
    "collapsed": false
   },
   "outputs": [
    {
     "data": {
      "text/plain": [
       "<matplotlib.axes._subplots.AxesSubplot at 0x125f95cf8>"
      ]
     },
     "execution_count": 121,
     "metadata": {},
     "output_type": "execute_result"
    },
    {
     "data": {
      "image/png": "[encoded data removed]",
      "text/plain": [
       "<matplotlib.figure.Figure at 0x125f95be0>"
      ]
     },
     "metadata": {},
     "output_type": "display_data"
    }
   ],
   "source": [
    "# plot SF 2014 trip count v. avg weather for 12 months in one plot\n",
    "fig = plt.figure() # Create matplotlib figure\n",
    "\n",
    "SF_trip_count_month_2014_all.Customer.plot(kind='bar', color='red',width=0.3, position=1, figsize=(10,10))\n",
    "SF_trip_count_month_2014_all.Subscriber.plot(kind='bar', color='blue', width=0.3, position=0)"
   ]
  },
  {
   "cell_type": "code",
   "execution_count": null,
   "metadata": {
    "collapsed": true
   },
   "outputs": [],
   "source": []
  },
  {
   "cell_type": "code",
   "execution_count": null,
   "metadata": {
    "collapsed": true
   },
   "outputs": [],
   "source": []
  },
  {
   "cell_type": "code",
   "execution_count": null,
   "metadata": {
    "collapsed": true
   },
   "outputs": [],
   "source": []
  },
  {
   "cell_type": "code",
   "execution_count": null,
   "metadata": {
    "collapsed": true
   },
   "outputs": [],
   "source": []
  },
  {
   "cell_type": "code",
   "execution_count": null,
   "metadata": {
    "collapsed": true
   },
   "outputs": [],
   "source": []
  },
  {
   "cell_type": "code",
   "execution_count": null,
   "metadata": {
    "collapsed": true
   },
   "outputs": [],
   "source": []
  },
  {
   "cell_type": "code",
   "execution_count": null,
   "metadata": {
    "collapsed": true
   },
   "outputs": [],
   "source": []
  },
  {
   "cell_type": "code",
   "execution_count": null,
   "metadata": {
    "collapsed": true
   },
   "outputs": [],
   "source": []
  },
  {
   "cell_type": "code",
   "execution_count": null,
   "metadata": {
    "collapsed": true
   },
   "outputs": [],
   "source": []
  },
  {
   "cell_type": "code",
   "execution_count": null,
   "metadata": {
    "collapsed": true
   },
   "outputs": [],
   "source": []
  },
  {
   "cell_type": "code",
   "execution_count": null,
   "metadata": {
    "collapsed": true
   },
   "outputs": [],
   "source": []
  },
  {
   "cell_type": "code",
   "execution_count": null,
   "metadata": {
    "collapsed": true
   },
   "outputs": [],
   "source": []
  },
  {
   "cell_type": "code",
   "execution_count": 43,
   "metadata": {
    "collapsed": false
   },
   "outputs": [
    {
     "data": {
      "image/png": "[encoded data removed]",
      "text/plain": [
       "<matplotlib.figure.Figure at 0x10f832cc0>"
      ]
     },
     "metadata": {},
     "output_type": "display_data"
    }
   ],
   "source": [
    "import matplotlib.pyplot as plt\n",
    "import numpy as np\n",
    "import pandas as pd\n",
    "s = StringIO(\"\"\"     amount     price\n",
    "A     40929   4066443\n",
    "B     93904   9611272\n",
    "C    188349  19360005\n",
    "D    248438  24335536\n",
    "E    205622  18888604\n",
    "F    140173  12580900\n",
    "G     76243   6751731\n",
    "H     36859   3418329\n",
    "I     29304   2758928\n",
    "J     39768   3201269\n",
    "K     30350   2867059\"\"\")\n",
    "\n",
    "df = pd.read_csv(s, index_col=0, delimiter=' ', skipinitialspace=True)\n",
    "\n",
    "fig = plt.figure() # Create matplotlib figure\n",
    "\n",
    "ax = fig.add_subplot(111) # Create matplotlib axes\n",
    "ax2 = ax.twinx() # Create another axes that shares the same x-axis as ax.\n",
    "\n",
    "#width = 0.4\n",
    "\n",
    "df.amount.plot(kind='bar', color='red', ax=ax, width=width, position=1)\n",
    "df.price.plot(kind='bar', color='blue', ax=ax, width=width, position=0\n",
    "            )\n",
    "\n",
    "ax.set_ylabel('Amount')\n",
    "#ax2.set_ylabel('Price')\n",
    "\n",
    "plt.show()"
   ]
  },
  {
   "cell_type": "code",
   "execution_count": null,
   "metadata": {
    "collapsed": true
   },
   "outputs": [],
   "source": []
  },
  {
   "cell_type": "code",
   "execution_count": null,
   "metadata": {
    "collapsed": true
   },
   "outputs": [],
   "source": []
  }
 ],
 "metadata": {
  "kernelspec": {
   "display_name": "Python 3",
   "language": "python",
   "name": "python3"
  },
  "language_info": {
   "codemirror_mode": {
    "name": "ipython",
    "version": 3
   },
   "file_extension": ".py",
   "mimetype": "text/x-python",
   "name": "python",
   "nbconvert_exporter": "python",
   "pygments_lexer": "ipython3",
   "version": "3.5.1"
  }
 },
 "nbformat": 4,
 "nbformat_minor": 0
}
