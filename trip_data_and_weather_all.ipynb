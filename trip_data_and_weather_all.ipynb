{
 "cells": [
  {
   "cell_type": "markdown",
   "metadata": {},
   "source": [
    "# The code here is to combine weather data and trip data"
   ]
  },
  {
   "cell_type": "code",
   "execution_count": 1,
   "metadata": {
    "collapsed": false
   },
   "outputs": [],
   "source": [
    "from datetime import datetime, date, time\n",
    "from pandas import DataFrame, read_csv\n",
    "import pandas as pd\n",
    "import numpy as np\n",
    "import matplotlib.pyplot as plt\n",
    "%matplotlib inline\n",
    "#from ggplot import *"
   ]
  },
  {
   "cell_type": "code",
   "execution_count": 2,
   "metadata": {
    "collapsed": true
   },
   "outputs": [],
   "source": [
    "# lambdas & functions\n",
    "lambda_city = lambda x: station_data['city'].ix[x]\n",
    "\n",
    "def convert_float(val):\n",
    "    try:\n",
    "        return float(val)\n",
    "    except ValueError:\n",
    "        return 0\n",
    "\n",
    "# dictionary reference\n",
    "seasons_dict = {\n",
    "    1: 'Winter',2: 'Spring',3: 'Spring',4: 'Spring',\n",
    "    5: 'Summer',6: 'Summer',7: 'Summer',8: 'Autumn',\n",
    "    9: 'Autumn',10: 'Autumn',11: 'Winter',12: 'Winter'}\n",
    "\n",
    "city_dict = {\n",
    "    94107: 'San Francisco',\n",
    "    94063: 'Redwood City',\n",
    "    94301: 'Palo Alto', \n",
    "    94041: 'Mountain View', \n",
    "    95113: 'San Jose'}\n",
    "\n",
    "# header reference\n",
    "station_headers = ['station_id','station_name','lat','long',\n",
    "                   'dock_count','city','install_date']\n",
    "\n",
    "status_headers = ['station_id','bikes_free','docks_free','time']\n",
    "\n",
    "trip_headers = ['trip_id','trip_time',\n",
    "                'start_dt','start_station','start_id',\n",
    "                'end_dt','end_station','end_id',\n",
    "                'bike_num','user_type','ZIP']\n",
    "\n",
    "weather_headers = ['date',\n",
    "                   'max_temp','mean_temp','min_temp',\n",
    "                   'max_dp','mean_dp','min_dp',\n",
    "                   'max_hum','mean_hum','min_hum',\n",
    "                   'max_sea','mean_sea','min_sea',\n",
    "                   'max_vis','mean_vis','min_vis',\n",
    "                   'max_wind','mean_wind','max_gust',\n",
    "                   'rain_inches','cloud_cover','events',\n",
    "                   'wind_dir_degrees','ZIP']"
   ]
  },
  {
   "cell_type": "markdown",
   "metadata": {},
   "source": [
    "## Weather data"
   ]
  },
  {
   "cell_type": "code",
   "execution_count": 24,
   "metadata": {
    "collapsed": false
   },
   "outputs": [],
   "source": [
    "# read weather data\n",
    "weather_data = pd.read_csv('weather_data_new.csv', parse_dates=['date'])\n",
    "weather_data['season'] = weather_data['date'].dt.month.map(seasons_dict)\n",
    "weather_data['city'] = weather_data['ZIP'].map(city_dict)\n",
    "# scrubbed columns from weather_data\n",
    "weather_data['rain_inches'] = weather_data['rain_inches'].map(convert_float)"
   ]
  },
  {
   "cell_type": "code",
   "execution_count": 25,
   "metadata": {
    "collapsed": true
   },
   "outputs": [],
   "source": [
    "import datetime"
   ]
  },
  {
   "cell_type": "code",
   "execution_count": 31,
   "metadata": {
    "collapsed": false
   },
   "outputs": [
    {
     "name": "stderr",
     "output_type": "stream",
     "text": [
      "//anaconda/lib/python3.5/site-packages/ipykernel/__main__.py:6: SettingWithCopyWarning: \n",
      "A value is trying to be set on a copy of a slice from a DataFrame.\n",
      "Try using .loc[row_indexer,col_indexer] = value instead\n",
      "\n",
      "See the caveats in the documentation: http://pandas.pydata.org/pandas-docs/stable/indexing.html#indexing-view-versus-copy\n",
      "//anaconda/lib/python3.5/site-packages/ipykernel/__main__.py:7: SettingWithCopyWarning: \n",
      "A value is trying to be set on a copy of a slice from a DataFrame.\n",
      "Try using .loc[row_indexer,col_indexer] = value instead\n",
      "\n",
      "See the caveats in the documentation: http://pandas.pydata.org/pandas-docs/stable/indexing.html#indexing-view-versus-copy\n"
     ]
    }
   ],
   "source": [
    "# split weather data to 2014 and 2015\n",
    "weather_2015 = weather_data[weather_data['date'] >='2014-09-01']\n",
    "weather_2014 = weather_data[weather_data['date'] <'2014-09-01']\n",
    "\n",
    "# label the datasets by month\n",
    "weather_2014['month'] = weather_2014['date'].dt.month\n",
    "weather_2015['month'] = weather_2015['date'].dt.month\n"
   ]
  },
  {
   "cell_type": "code",
   "execution_count": 37,
   "metadata": {
    "collapsed": false
   },
   "outputs": [],
   "source": [
    "# create a new dataframe that contains only the info that I need (month, season, avg_tem)\n",
    "weather_2014_for_me = weather_2014[['date', 'mean_temp','mean_wind','season', 'city','month']]\n",
    "weather_2015_for_me = weather_2015[['date', 'mean_temp','mean_wind','season', 'city','month']]"
   ]
  },
  {
   "cell_type": "code",
   "execution_count": 86,
   "metadata": {
    "collapsed": false
   },
   "outputs": [
    {
     "data": {
      "text/html": [
       "<div>\n",
       "<table border=\"1\" class=\"dataframe\">\n",
       "  <thead>\n",
       "    <tr style=\"text-align: right;\">\n",
       "      <th></th>\n",
       "      <th>date</th>\n",
       "      <th>mean_temp</th>\n",
       "      <th>mean_wind</th>\n",
       "      <th>season</th>\n",
       "      <th>city</th>\n",
       "      <th>month</th>\n",
       "    </tr>\n",
       "  </thead>\n",
       "  <tbody>\n",
       "    <tr>\n",
       "      <th>0</th>\n",
       "      <td>2013-09-01</td>\n",
       "      <td>66</td>\n",
       "      <td>13</td>\n",
       "      <td>Autumn</td>\n",
       "      <td>San Francisco</td>\n",
       "      <td>9</td>\n",
       "    </tr>\n",
       "    <tr>\n",
       "      <th>1</th>\n",
       "      <td>2013-09-01</td>\n",
       "      <td>70</td>\n",
       "      <td>4</td>\n",
       "      <td>Autumn</td>\n",
       "      <td>Mountain View</td>\n",
       "      <td>9</td>\n",
       "    </tr>\n",
       "    <tr>\n",
       "      <th>2</th>\n",
       "      <td>2013-09-01</td>\n",
       "      <td>71</td>\n",
       "      <td>7</td>\n",
       "      <td>Autumn</td>\n",
       "      <td>Palo Alto</td>\n",
       "      <td>9</td>\n",
       "    </tr>\n",
       "    <tr>\n",
       "      <th>3</th>\n",
       "      <td>2013-09-01</td>\n",
       "      <td>72</td>\n",
       "      <td>7</td>\n",
       "      <td>Autumn</td>\n",
       "      <td>San Jose</td>\n",
       "      <td>9</td>\n",
       "    </tr>\n",
       "    <tr>\n",
       "      <th>4</th>\n",
       "      <td>2013-09-01</td>\n",
       "      <td>71</td>\n",
       "      <td>5</td>\n",
       "      <td>Autumn</td>\n",
       "      <td>Redwood City</td>\n",
       "      <td>9</td>\n",
       "    </tr>\n",
       "  </tbody>\n",
       "</table>\n",
       "</div>"
      ],
      "text/plain": [
       "        date  mean_temp  mean_wind  season           city  month\n",
       "0 2013-09-01         66         13  Autumn  San Francisco      9\n",
       "1 2013-09-01         70          4  Autumn  Mountain View      9\n",
       "2 2013-09-01         71          7  Autumn      Palo Alto      9\n",
       "3 2013-09-01         72          7  Autumn       San Jose      9\n",
       "4 2013-09-01         71          5  Autumn   Redwood City      9"
      ]
     },
     "execution_count": 86,
     "metadata": {},
     "output_type": "execute_result"
    }
   ],
   "source": [
    "weather_2014_for_me['city'=='San Francisco']"
   ]
  },
  {
   "cell_type": "code",
   "execution_count": null,
   "metadata": {
    "collapsed": false
   },
   "outputs": [],
   "source": []
  },
  {
   "cell_type": "markdown",
   "metadata": {},
   "source": [
    "## Trip data"
   ]
  },
  {
   "cell_type": "code",
   "execution_count": 47,
   "metadata": {
    "collapsed": false
   },
   "outputs": [],
   "source": [
    "# read trip data and split it for 2014 and 2015\n",
    "trip_data = pd.read_csv('trip_data_new.csv', parse_dates = ['date'])\n",
    "trip_data_2014 = trip_data[trip_data['date'] < '2014-09-01']\n",
    "trip_data_2015 = trip_data[trip_data['date'] >= '2014-09-01']"
   ]
  },
  {
   "cell_type": "code",
   "execution_count": 48,
   "metadata": {
    "collapsed": false
   },
   "outputs": [
    {
     "name": "stderr",
     "output_type": "stream",
     "text": [
      "//anaconda/lib/python3.5/site-packages/ipykernel/__main__.py:2: SettingWithCopyWarning: \n",
      "A value is trying to be set on a copy of a slice from a DataFrame.\n",
      "Try using .loc[row_indexer,col_indexer] = value instead\n",
      "\n",
      "See the caveats in the documentation: http://pandas.pydata.org/pandas-docs/stable/indexing.html#indexing-view-versus-copy\n",
      "  from ipykernel import kernelapp as app\n",
      "//anaconda/lib/python3.5/site-packages/ipykernel/__main__.py:3: SettingWithCopyWarning: \n",
      "A value is trying to be set on a copy of a slice from a DataFrame.\n",
      "Try using .loc[row_indexer,col_indexer] = value instead\n",
      "\n",
      "See the caveats in the documentation: http://pandas.pydata.org/pandas-docs/stable/indexing.html#indexing-view-versus-copy\n",
      "  app.launch_new_instance()\n",
      "//anaconda/lib/python3.5/site-packages/ipykernel/__main__.py:4: SettingWithCopyWarning: \n",
      "A value is trying to be set on a copy of a slice from a DataFrame.\n",
      "Try using .loc[row_indexer,col_indexer] = value instead\n",
      "\n",
      "See the caveats in the documentation: http://pandas.pydata.org/pandas-docs/stable/indexing.html#indexing-view-versus-copy\n",
      "//anaconda/lib/python3.5/site-packages/ipykernel/__main__.py:5: SettingWithCopyWarning: \n",
      "A value is trying to be set on a copy of a slice from a DataFrame.\n",
      "Try using .loc[row_indexer,col_indexer] = value instead\n",
      "\n",
      "See the caveats in the documentation: http://pandas.pydata.org/pandas-docs/stable/indexing.html#indexing-view-versus-copy\n"
     ]
    }
   ],
   "source": [
    "# label the trip datasets by month\n",
    "trip_data_2014['month'] = trip_data_2014['date'].dt.month\n",
    "trip_data_2015['month'] = trip_data_2015['date'].dt.month\n",
    "trip_data_2014['trip_time'] = trip_data_2014['trip_time'] / 60   # concert trip time unit to minute\n",
    "trip_data_2015['trip_time'] = trip_data_2015['trip_time'] / 60  "
   ]
  },
  {
   "cell_type": "code",
   "execution_count": 72,
   "metadata": {
    "collapsed": false
   },
   "outputs": [],
   "source": [
    "# create a new dataframe that contains only the info that I need (month, season, trip time, user type, city)\n",
    "trip_data_2014_for_me = trip_data_2014[['date', 'trip_time','user_type','start_city', 'month']]\n",
    "trip_data_2015_for_me = trip_data_2015[['date', 'trip_time','user_type','start_city','month']]"
   ]
  },
  {
   "cell_type": "markdown",
   "metadata": {},
   "source": [
    "## Weather and trip data together per city"
   ]
  },
  {
   "cell_type": "markdown",
   "metadata": {},
   "source": [
    "### San Francisco 2014 and 2015"
   ]
  },
  {
   "cell_type": "code",
   "execution_count": 126,
   "metadata": {
    "collapsed": false
   },
   "outputs": [],
   "source": [
    "# sf weather and trip data\n",
    "SF_weather_2014 = weather_2014_for_me[weather_2014_for_me['city']=='San Francisco']\n",
    "SF_trip_data_2014 = trip_data_2014_for_me[trip_data_2014_for_me['start_city'] =='San Francisco']"
   ]
  },
  {
   "cell_type": "code",
   "execution_count": 127,
   "metadata": {
    "collapsed": false
   },
   "outputs": [
    {
     "data": {
      "text/plain": [
       "Index(['date', 'trip_time', 'user_type', 'start_city', 'month_x', 'mean_temp',\n",
       "       'mean_wind', 'season', 'city', 'month_y'],\n",
       "      dtype='object')"
      ]
     },
     "execution_count": 127,
     "metadata": {},
     "output_type": "execute_result"
    }
   ],
   "source": [
    "SF_all_2014 = pd.merge(SF_trip_data_2014, SF_weather_2014,on='date')\n",
    "SF_all_2014.columns"
   ]
  },
  {
   "cell_type": "code",
   "execution_count": 128,
   "metadata": {
    "collapsed": false
   },
   "outputs": [],
   "source": [
    "SF_all_2014 = SF_all_2014.drop(['start_city', 'month_x'], axis=1)"
   ]
  },
  {
   "cell_type": "code",
   "execution_count": 143,
   "metadata": {
    "collapsed": false
   },
   "outputs": [],
   "source": [
    "# sf by user statistics\n",
    "SF_all_2014.rename(columns={'month_y': 'month'})\n",
    "SF_by_user_2014 = SF_all_2014.groupby('user_type')\n",
    "#SF_by_user_2014_avg_trip_time = SF_by_user_2014.mean()['trip_time']\n",
    "#SF_by_user_2014_avg_trip_time "
   ]
  },
  {
   "cell_type": "code",
   "execution_count": 146,
   "metadata": {
    "collapsed": false
   },
   "outputs": [
    {
     "data": {
      "text/html": [
       "<div>\n",
       "<table border=\"1\" class=\"dataframe\">\n",
       "  <thead>\n",
       "    <tr style=\"text-align: right;\">\n",
       "      <th></th>\n",
       "      <th>date</th>\n",
       "      <th>trip_time</th>\n",
       "      <th>user_type</th>\n",
       "      <th>mean_temp</th>\n",
       "      <th>mean_wind</th>\n",
       "      <th>season</th>\n",
       "      <th>city</th>\n",
       "      <th>month_y</th>\n",
       "    </tr>\n",
       "  </thead>\n",
       "  <tbody>\n",
       "    <tr>\n",
       "      <th>0</th>\n",
       "      <td>2013-09-01</td>\n",
       "      <td>25.133333</td>\n",
       "      <td>Customer</td>\n",
       "      <td>66</td>\n",
       "      <td>13</td>\n",
       "      <td>Autumn</td>\n",
       "      <td>San Francisco</td>\n",
       "      <td>9</td>\n",
       "    </tr>\n",
       "    <tr>\n",
       "      <th>1</th>\n",
       "      <td>2013-09-01</td>\n",
       "      <td>4.566667</td>\n",
       "      <td>Subscriber</td>\n",
       "      <td>66</td>\n",
       "      <td>13</td>\n",
       "      <td>Autumn</td>\n",
       "      <td>San Francisco</td>\n",
       "      <td>9</td>\n",
       "    </tr>\n",
       "    <tr>\n",
       "      <th>2</th>\n",
       "      <td>2013-09-01</td>\n",
       "      <td>19.950000</td>\n",
       "      <td>Customer</td>\n",
       "      <td>66</td>\n",
       "      <td>13</td>\n",
       "      <td>Autumn</td>\n",
       "      <td>San Francisco</td>\n",
       "      <td>9</td>\n",
       "    </tr>\n",
       "    <tr>\n",
       "      <th>3</th>\n",
       "      <td>2013-09-01</td>\n",
       "      <td>25.183333</td>\n",
       "      <td>Customer</td>\n",
       "      <td>66</td>\n",
       "      <td>13</td>\n",
       "      <td>Autumn</td>\n",
       "      <td>San Francisco</td>\n",
       "      <td>9</td>\n",
       "    </tr>\n",
       "    <tr>\n",
       "      <th>4</th>\n",
       "      <td>2013-09-01</td>\n",
       "      <td>25.183333</td>\n",
       "      <td>Customer</td>\n",
       "      <td>66</td>\n",
       "      <td>13</td>\n",
       "      <td>Autumn</td>\n",
       "      <td>San Francisco</td>\n",
       "      <td>9</td>\n",
       "    </tr>\n",
       "    <tr>\n",
       "      <th>5</th>\n",
       "      <td>2013-09-01</td>\n",
       "      <td>13.966667</td>\n",
       "      <td>Customer</td>\n",
       "      <td>66</td>\n",
       "      <td>13</td>\n",
       "      <td>Autumn</td>\n",
       "      <td>San Francisco</td>\n",
       "      <td>9</td>\n",
       "    </tr>\n",
       "    <tr>\n",
       "      <th>19</th>\n",
       "      <td>2013-09-01</td>\n",
       "      <td>18.433333</td>\n",
       "      <td>Subscriber</td>\n",
       "      <td>66</td>\n",
       "      <td>13</td>\n",
       "      <td>Autumn</td>\n",
       "      <td>San Francisco</td>\n",
       "      <td>9</td>\n",
       "    </tr>\n",
       "    <tr>\n",
       "      <th>37</th>\n",
       "      <td>2013-09-01</td>\n",
       "      <td>17.300000</td>\n",
       "      <td>Subscriber</td>\n",
       "      <td>66</td>\n",
       "      <td>13</td>\n",
       "      <td>Autumn</td>\n",
       "      <td>San Francisco</td>\n",
       "      <td>9</td>\n",
       "    </tr>\n",
       "    <tr>\n",
       "      <th>40</th>\n",
       "      <td>2013-09-01</td>\n",
       "      <td>3.416667</td>\n",
       "      <td>Subscriber</td>\n",
       "      <td>66</td>\n",
       "      <td>13</td>\n",
       "      <td>Autumn</td>\n",
       "      <td>San Francisco</td>\n",
       "      <td>9</td>\n",
       "    </tr>\n",
       "    <tr>\n",
       "      <th>41</th>\n",
       "      <td>2013-09-01</td>\n",
       "      <td>14.333333</td>\n",
       "      <td>Subscriber</td>\n",
       "      <td>66</td>\n",
       "      <td>13</td>\n",
       "      <td>Autumn</td>\n",
       "      <td>San Francisco</td>\n",
       "      <td>9</td>\n",
       "    </tr>\n",
       "  </tbody>\n",
       "</table>\n",
       "</div>"
      ],
      "text/plain": [
       "         date  trip_time   user_type  mean_temp  mean_wind  season  \\\n",
       "0  2013-09-01  25.133333    Customer         66         13  Autumn   \n",
       "1  2013-09-01   4.566667  Subscriber         66         13  Autumn   \n",
       "2  2013-09-01  19.950000    Customer         66         13  Autumn   \n",
       "3  2013-09-01  25.183333    Customer         66         13  Autumn   \n",
       "4  2013-09-01  25.183333    Customer         66         13  Autumn   \n",
       "5  2013-09-01  13.966667    Customer         66         13  Autumn   \n",
       "19 2013-09-01  18.433333  Subscriber         66         13  Autumn   \n",
       "37 2013-09-01  17.300000  Subscriber         66         13  Autumn   \n",
       "40 2013-09-01   3.416667  Subscriber         66         13  Autumn   \n",
       "41 2013-09-01  14.333333  Subscriber         66         13  Autumn   \n",
       "\n",
       "             city  month_y  \n",
       "0   San Francisco        9  \n",
       "1   San Francisco        9  \n",
       "2   San Francisco        9  \n",
       "3   San Francisco        9  \n",
       "4   San Francisco        9  \n",
       "5   San Francisco        9  \n",
       "19  San Francisco        9  \n",
       "37  San Francisco        9  \n",
       "40  San Francisco        9  \n",
       "41  San Francisco        9  "
      ]
     },
     "execution_count": 146,
     "metadata": {},
     "output_type": "execute_result"
    }
   ],
   "source": [
    "SF_by_user_2014.head()"
   ]
  },
  {
   "cell_type": "code",
   "execution_count": null,
   "metadata": {
    "collapsed": true
   },
   "outputs": [],
   "source": []
  },
  {
   "cell_type": "code",
   "execution_count": null,
   "metadata": {
    "collapsed": true
   },
   "outputs": [],
   "source": []
  },
  {
   "cell_type": "code",
   "execution_count": null,
   "metadata": {
    "collapsed": true
   },
   "outputs": [],
   "source": []
  },
  {
   "cell_type": "code",
   "execution_count": null,
   "metadata": {
    "collapsed": true
   },
   "outputs": [],
   "source": []
  },
  {
   "cell_type": "code",
   "execution_count": null,
   "metadata": {
    "collapsed": true
   },
   "outputs": [],
   "source": []
  },
  {
   "cell_type": "code",
   "execution_count": null,
   "metadata": {
    "collapsed": true
   },
   "outputs": [],
   "source": []
  },
  {
   "cell_type": "code",
   "execution_count": null,
   "metadata": {
    "collapsed": true
   },
   "outputs": [],
   "source": []
  },
  {
   "cell_type": "code",
   "execution_count": null,
   "metadata": {
    "collapsed": true
   },
   "outputs": [],
   "source": []
  },
  {
   "cell_type": "code",
   "execution_count": null,
   "metadata": {
    "collapsed": true
   },
   "outputs": [],
   "source": []
  },
  {
   "cell_type": "code",
   "execution_count": null,
   "metadata": {
    "collapsed": true
   },
   "outputs": [],
   "source": []
  },
  {
   "cell_type": "code",
   "execution_count": null,
   "metadata": {
    "collapsed": true
   },
   "outputs": [],
   "source": []
  }
 ],
 "metadata": {
  "kernelspec": {
   "display_name": "Python 3",
   "language": "python",
   "name": "python3"
  },
  "language_info": {
   "codemirror_mode": {
    "name": "ipython",
    "version": 3
   },
   "file_extension": ".py",
   "mimetype": "text/x-python",
   "name": "python",
   "nbconvert_exporter": "python",
   "pygments_lexer": "ipython3",
   "version": "3.5.1"
  }
 },
 "nbformat": 4,
 "nbformat_minor": 0
}
