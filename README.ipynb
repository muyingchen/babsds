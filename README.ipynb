{
 "cells": [
  {
   "cell_type": "markdown",
   "metadata": {},
   "source": [
    "# Project 2\n",
    "***\n",
    "    By: Muying Chen, Jenny Jiang, Bryan Chung\n",
    "    MIDS-INFO-W18\n",
    "    SUMMER SESSION 2016\n",
    "    Professor Gunnar Kleemann\n",
    "---\n",
    "## Bay Area Bikeshare (Raw Data)\n",
    "https://www.dropbox.com/s/jb3q97i27ujtxsg/babs.zip?dl=0\n",
    "\n",
    "## Finalized Datasets\n",
    "https://www.dropbox.com/s/wqnyvsjp5ggweyf/babs_new.zip?dl=0\n"
   ]
  }
 ],
 "metadata": {
  "kernelspec": {
   "display_name": "Python 3",
   "language": "python",
   "name": "python3"
  },
  "language_info": {
   "codemirror_mode": {
    "name": "ipython",
    "version": 3
   },
   "file_extension": ".py",
   "mimetype": "text/x-python",
   "name": "python",
   "nbconvert_exporter": "python",
   "pygments_lexer": "ipython3",
   "version": "3.5.1"
  }
 },
 "nbformat": 4,
 "nbformat_minor": 0
}
