{
 "cells": [
  {
   "cell_type": "markdown",
   "metadata": {},
   "source": [
    "# The code here is for the analysis of membership type \n",
    "- Comparing subscriber and customer in total trip count and trip count per city\n",
    "- (Not This Part) Comparing subscriber and customer bike share usage on different weather at different time of the year"
   ]
  },
  {
   "cell_type": "markdown",
   "metadata": {},
   "source": [
    "### ------- Reading data and creating columns --------"
   ]
  },
  {
   "cell_type": "code",
   "execution_count": 131,
   "metadata": {
    "collapsed": false
   },
   "outputs": [],
   "source": [
    "from pandas import DataFrame, read_csv\n",
    "import pandas as pd\n",
    "import numpy as np\n",
    "import matplotlib.pyplot as plt\n",
    "%matplotlib inline\n",
    "pd.options.display.float_format = '{:,.2f}'.format   # all results in 2 decimal points\n",
    "#from ggplot import *"
   ]
  },
  {
   "cell_type": "code",
   "execution_count": 127,
   "metadata": {
    "collapsed": true
   },
   "outputs": [],
   "source": [
    "# formatting lambdas & functions\n",
    "#fnone = lambda x : '{0:g}'.format(float(x))\n",
    "#fshort = lambda x : '{:,.2f}'.format(x)\n",
    "\n",
    "def convert_float(val):\n",
    "    try:\n",
    "        return float(val)\n",
    "    except ValueError:\n",
    "        return 0\n",
    "\n",
    "# dictionary reference\n",
    "seasons_dict = {\n",
    "    1: 'Winter',2: 'Spring',3: 'Spring',4: 'Spring',\n",
    "    5: 'Summer',6: 'Summer',7: 'Summer',8: 'Autumn',\n",
    "    9: 'Autumn',10: 'Autumn',11: 'Winter',12: 'Winter'}\n",
    "\n",
    "city_dict = {\n",
    "    94107: 'San Francisco',\n",
    "    94063: 'Redwood City',\n",
    "    94301: 'Palo Alto', \n",
    "    94041: 'Mountain View', \n",
    "    95113: 'San Jose'}\n",
    "\n",
    "# header reference\n",
    "station_headers = ['station_id','station_name','lat','long',\n",
    "                   'dock_count','city','install_date']\n",
    "\n",
    "status_headers = ['station_id','bikes_free','docks_free','time']\n",
    "\n",
    "trip_headers = ['trip_id','trip_time',\n",
    "                'start_dt','start_station','start_terminal',\n",
    "                'end_dt','end_station','end_terminal',\n",
    "                'bike_num','user_type','ZIP']\n",
    "\n",
    "weather_headers = ['date',\n",
    "                   'max_temp','mean_temp','min_temp',\n",
    "                   'max_dp','mean_dp','min_dp',\n",
    "                   'max_hum','mean_hum','min_hum',\n",
    "                   'max_sea','mean_sea','min_sea',\n",
    "                   'max_vis','mean_vis','min_vis',\n",
    "                   'max_wind','mean_wind','max_gust',\n",
    "                   'rain_inches','cloud_cover','events',\n",
    "                   'wind_dir_degrees','ZIP']"
   ]
  },
  {
   "cell_type": "code",
   "execution_count": 56,
   "metadata": {
    "collapsed": false
   },
   "outputs": [],
   "source": [
    "# read trip data for 2014 \n",
    "raw_data_201402 = pd.read_csv('201402_trip_data_new.csv', parse_dates=True)\n",
    "raw_data_201402.columns = trip_headers\n",
    "raw_data_201408 = pd.read_csv('201408_trip_data_new.csv', parse_dates=True)\n",
    "raw_data_201408.columns = trip_headers"
   ]
  },
  {
   "cell_type": "code",
   "execution_count": 57,
   "metadata": {
    "collapsed": false
   },
   "outputs": [],
   "source": [
    "# joining 201402 and 201408 together\n",
    "raw_data_2014 = pd.concat([raw_data_201402, raw_data_201408])\n",
    "# convert duration column \"trip_time\" to unit of minutes\n",
    "raw_data_2014['trip_time'] = raw_data_2014['trip_time'] / 60   # trip time unit in minute"
   ]
  },
  {
   "cell_type": "code",
   "execution_count": 229,
   "metadata": {
    "collapsed": false
   },
   "outputs": [],
   "source": [
    "# read trip data for 2015\n",
    "raw_data_2015 = pd.read_csv('201508_trip_data_new.csv', parse_dates=True)\n",
    "raw_data_2015.columns = trip_headers\n",
    "raw_data_2015['trip_time'] = raw_data_2015['trip_time'] / 60 # trip time unit in minute "
   ]
  },
  {
   "cell_type": "markdown",
   "metadata": {},
   "source": [
    "## Part 1 - Membership count in total and per city"
   ]
  },
  {
   "cell_type": "markdown",
   "metadata": {},
   "source": [
    "### ------------- Year 2014 ------------- "
   ]
  },
  {
   "cell_type": "code",
   "execution_count": 59,
   "metadata": {
    "collapsed": false
   },
   "outputs": [
    {
     "data": {
      "text/html": [
       "<div>\n",
       "<table border=\"1\" class=\"dataframe\">\n",
       "  <thead>\n",
       "    <tr style=\"text-align: right;\">\n",
       "      <th></th>\n",
       "      <th>trip_id</th>\n",
       "      <th>trip_time</th>\n",
       "      <th>start_dt</th>\n",
       "      <th>start_station</th>\n",
       "      <th>start_terminal</th>\n",
       "      <th>end_dt</th>\n",
       "      <th>end_station</th>\n",
       "      <th>end_terminal</th>\n",
       "      <th>bike_num</th>\n",
       "      <th>user_type</th>\n",
       "      <th>ZIP</th>\n",
       "    </tr>\n",
       "  </thead>\n",
       "  <tbody>\n",
       "    <tr>\n",
       "      <th>0</th>\n",
       "      <td>7442</td>\n",
       "      <td>25.13</td>\n",
       "      <td>9/1/13 0:11</td>\n",
       "      <td>Mechanics Plaza (Market at Battery)</td>\n",
       "      <td>75</td>\n",
       "      <td>9/1/13 0:36</td>\n",
       "      <td>Beale at Market</td>\n",
       "      <td>56</td>\n",
       "      <td>506</td>\n",
       "      <td>Customer</td>\n",
       "      <td>55405</td>\n",
       "    </tr>\n",
       "    <tr>\n",
       "      <th>1</th>\n",
       "      <td>7443</td>\n",
       "      <td>25.22</td>\n",
       "      <td>9/1/13 0:12</td>\n",
       "      <td>Mechanics Plaza (Market at Battery)</td>\n",
       "      <td>75</td>\n",
       "      <td>9/1/13 0:37</td>\n",
       "      <td>Beale at Market</td>\n",
       "      <td>56</td>\n",
       "      <td>334</td>\n",
       "      <td>Customer</td>\n",
       "      <td>55405</td>\n",
       "    </tr>\n",
       "    <tr>\n",
       "      <th>2</th>\n",
       "      <td>7444</td>\n",
       "      <td>22.42</td>\n",
       "      <td>9/1/13 0:19</td>\n",
       "      <td>South Van Ness at Market</td>\n",
       "      <td>66</td>\n",
       "      <td>9/1/13 0:41</td>\n",
       "      <td>Harry Bridges Plaza (Ferry Building)</td>\n",
       "      <td>50</td>\n",
       "      <td>464</td>\n",
       "      <td>Customer</td>\n",
       "      <td>NaN</td>\n",
       "    </tr>\n",
       "    <tr>\n",
       "      <th>3</th>\n",
       "      <td>7445</td>\n",
       "      <td>15.52</td>\n",
       "      <td>9/1/13 0:21</td>\n",
       "      <td>Mechanics Plaza (Market at Battery)</td>\n",
       "      <td>75</td>\n",
       "      <td>9/1/13 0:36</td>\n",
       "      <td>Mechanics Plaza (Market at Battery)</td>\n",
       "      <td>75</td>\n",
       "      <td>422</td>\n",
       "      <td>Customer</td>\n",
       "      <td>NaN</td>\n",
       "    </tr>\n",
       "    <tr>\n",
       "      <th>4</th>\n",
       "      <td>7446</td>\n",
       "      <td>2.65</td>\n",
       "      <td>9/1/13 0:23</td>\n",
       "      <td>Broadway at Main</td>\n",
       "      <td>25</td>\n",
       "      <td>9/1/13 0:25</td>\n",
       "      <td>Franklin at Maple</td>\n",
       "      <td>21</td>\n",
       "      <td>239</td>\n",
       "      <td>Subscriber</td>\n",
       "      <td>94063</td>\n",
       "    </tr>\n",
       "  </tbody>\n",
       "</table>\n",
       "</div>"
      ],
      "text/plain": [
       "   trip_id  trip_time     start_dt                        start_station  \\\n",
       "0     7442      25.13  9/1/13 0:11  Mechanics Plaza (Market at Battery)   \n",
       "1     7443      25.22  9/1/13 0:12  Mechanics Plaza (Market at Battery)   \n",
       "2     7444      22.42  9/1/13 0:19             South Van Ness at Market   \n",
       "3     7445      15.52  9/1/13 0:21  Mechanics Plaza (Market at Battery)   \n",
       "4     7446       2.65  9/1/13 0:23                     Broadway at Main   \n",
       "\n",
       "   start_terminal       end_dt                           end_station  \\\n",
       "0              75  9/1/13 0:36                       Beale at Market   \n",
       "1              75  9/1/13 0:37                       Beale at Market   \n",
       "2              66  9/1/13 0:41  Harry Bridges Plaza (Ferry Building)   \n",
       "3              75  9/1/13 0:36   Mechanics Plaza (Market at Battery)   \n",
       "4              25  9/1/13 0:25                     Franklin at Maple   \n",
       "\n",
       "   end_terminal  bike_num   user_type    ZIP  \n",
       "0            56       506    Customer  55405  \n",
       "1            56       334    Customer  55405  \n",
       "2            50       464    Customer    NaN  \n",
       "3            75       422    Customer    NaN  \n",
       "4            21       239  Subscriber  94063  "
      ]
     },
     "execution_count": 59,
     "metadata": {},
     "output_type": "execute_result"
    }
   ],
   "source": [
    "raw_data_2014.head()"
   ]
  },
  {
   "cell_type": "code",
   "execution_count": 61,
   "metadata": {
    "collapsed": false
   },
   "outputs": [
    {
     "data": {
      "text/html": [
       "<div>\n",
       "<table border=\"1\" class=\"dataframe\">\n",
       "  <thead>\n",
       "    <tr style=\"text-align: right;\">\n",
       "      <th></th>\n",
       "      <th>membership</th>\n",
       "      <th>trip_duration</th>\n",
       "    </tr>\n",
       "  </thead>\n",
       "  <tbody>\n",
       "    <tr>\n",
       "      <th>0</th>\n",
       "      <td>Customer</td>\n",
       "      <td>25.13</td>\n",
       "    </tr>\n",
       "    <tr>\n",
       "      <th>1</th>\n",
       "      <td>Customer</td>\n",
       "      <td>25.22</td>\n",
       "    </tr>\n",
       "    <tr>\n",
       "      <th>2</th>\n",
       "      <td>Customer</td>\n",
       "      <td>22.42</td>\n",
       "    </tr>\n",
       "    <tr>\n",
       "      <th>3</th>\n",
       "      <td>Customer</td>\n",
       "      <td>15.52</td>\n",
       "    </tr>\n",
       "    <tr>\n",
       "      <th>4</th>\n",
       "      <td>Subscriber</td>\n",
       "      <td>2.65</td>\n",
       "    </tr>\n",
       "  </tbody>\n",
       "</table>\n",
       "</div>"
      ],
      "text/plain": [
       "   membership  trip_duration\n",
       "0    Customer          25.13\n",
       "1    Customer          25.22\n",
       "2    Customer          22.42\n",
       "3    Customer          15.52\n",
       "4  Subscriber           2.65"
      ]
     },
     "execution_count": 61,
     "metadata": {},
     "output_type": "execute_result"
    }
   ],
   "source": [
    "# create new dataframes with columns related to only trip time (duration) and user type (subscription)\n",
    "duration_data_2014 = pd.DataFrame(raw_data_2014, columns=['user_type', 'trip_time'])\n",
    "duration_data_2014.columns = ['membership', 'trip_duration']  \n",
    "duration_data_2014.head()"
   ]
  },
  {
   "cell_type": "markdown",
   "metadata": {},
   "source": [
    "## Total Count and membership in total"
   ]
  },
  {
   "cell_type": "code",
   "execution_count": 177,
   "metadata": {
    "collapsed": false
   },
   "outputs": [
    {
     "data": {
      "text/html": [
       "<div>\n",
       "<table border=\"1\" class=\"dataframe\">\n",
       "  <thead>\n",
       "    <tr style=\"text-align: right;\">\n",
       "      <th></th>\n",
       "      <th>trip_duration</th>\n",
       "    </tr>\n",
       "  </thead>\n",
       "  <tbody>\n",
       "    <tr>\n",
       "      <th>count</th>\n",
       "      <td>313,705.00</td>\n",
       "    </tr>\n",
       "    <tr>\n",
       "      <th>mean</th>\n",
       "      <td>19.47</td>\n",
       "    </tr>\n",
       "    <tr>\n",
       "      <th>std</th>\n",
       "      <td>105.33</td>\n",
       "    </tr>\n",
       "    <tr>\n",
       "      <th>min</th>\n",
       "      <td>1.00</td>\n",
       "    </tr>\n",
       "    <tr>\n",
       "      <th>25%</th>\n",
       "      <td>5.77</td>\n",
       "    </tr>\n",
       "    <tr>\n",
       "      <th>50%</th>\n",
       "      <td>8.70</td>\n",
       "    </tr>\n",
       "    <tr>\n",
       "      <th>75%</th>\n",
       "      <td>12.90</td>\n",
       "    </tr>\n",
       "    <tr>\n",
       "      <th>max</th>\n",
       "      <td>12,037.27</td>\n",
       "    </tr>\n",
       "  </tbody>\n",
       "</table>\n",
       "</div>"
      ],
      "text/plain": [
       "       trip_duration\n",
       "count     313,705.00\n",
       "mean           19.47\n",
       "std           105.33\n",
       "min             1.00\n",
       "25%             5.77\n",
       "50%             8.70\n",
       "75%            12.90\n",
       "max        12,037.27"
      ]
     },
     "execution_count": 177,
     "metadata": {},
     "output_type": "execute_result"
    }
   ],
   "source": [
    "# duration description in total\n",
    "duration_data_2014.describe()"
   ]
  },
  {
   "cell_type": "code",
   "execution_count": 283,
   "metadata": {
    "collapsed": false
   },
   "outputs": [
    {
     "data": {
      "text/plain": [
       "<matplotlib.text.Text at 0x11cb35358>"
      ]
     },
     "execution_count": 283,
     "metadata": {},
     "output_type": "execute_result"
    },
    {
     "data": {
      "image/png": "[encoded data removed]",
      "text/plain": [
       "<matplotlib.figure.Figure at 0x119256748>"
      ]
     },
     "metadata": {},
     "output_type": "display_data"
    }
   ],
   "source": [
    "# membership count (same as trip count) counts in total\n",
    "membership_2014 = duration_data_2014.groupby('membership')\n",
    "count_2014 = membership_2014.count()['trip_duration']\n",
    "count_2014.plot.pie(autopct='%.2f', fontsize=25, figsize=(8,8),colors=['g', 'c'])\n",
    "plt.ylabel('')\n",
    "plt.xlabel('Membership Total Count in Percentage 2014', fontsize=20)"
   ]
  },
  {
   "cell_type": "code",
   "execution_count": 64,
   "metadata": {
    "collapsed": false
   },
   "outputs": [
    {
     "data": {
      "text/html": [
       "<div>\n",
       "<table border=\"1\" class=\"dataframe\">\n",
       "  <thead>\n",
       "    <tr style=\"text-align: right;\">\n",
       "      <th></th>\n",
       "      <th></th>\n",
       "      <th>trip_duration</th>\n",
       "    </tr>\n",
       "    <tr>\n",
       "      <th>membership</th>\n",
       "      <th></th>\n",
       "      <th></th>\n",
       "    </tr>\n",
       "  </thead>\n",
       "  <tbody>\n",
       "    <tr>\n",
       "      <th rowspan=\"8\" valign=\"top\">Customer</th>\n",
       "      <th>count</th>\n",
       "      <td>58,105.00</td>\n",
       "    </tr>\n",
       "    <tr>\n",
       "      <th>mean</th>\n",
       "      <td>62.56</td>\n",
       "    </tr>\n",
       "    <tr>\n",
       "      <th>std</th>\n",
       "      <td>221.02</td>\n",
       "    </tr>\n",
       "    <tr>\n",
       "      <th>min</th>\n",
       "      <td>1.02</td>\n",
       "    </tr>\n",
       "    <tr>\n",
       "      <th>25%</th>\n",
       "      <td>10.87</td>\n",
       "    </tr>\n",
       "    <tr>\n",
       "      <th>50%</th>\n",
       "      <td>18.43</td>\n",
       "    </tr>\n",
       "    <tr>\n",
       "      <th>75%</th>\n",
       "      <td>37.83</td>\n",
       "    </tr>\n",
       "    <tr>\n",
       "      <th>max</th>\n",
       "      <td>12,037.27</td>\n",
       "    </tr>\n",
       "    <tr>\n",
       "      <th rowspan=\"8\" valign=\"top\">Subscriber</th>\n",
       "      <th>count</th>\n",
       "      <td>255,600.00</td>\n",
       "    </tr>\n",
       "    <tr>\n",
       "      <th>mean</th>\n",
       "      <td>9.67</td>\n",
       "    </tr>\n",
       "    <tr>\n",
       "      <th>std</th>\n",
       "      <td>44.64</td>\n",
       "    </tr>\n",
       "    <tr>\n",
       "      <th>min</th>\n",
       "      <td>1.00</td>\n",
       "    </tr>\n",
       "    <tr>\n",
       "      <th>25%</th>\n",
       "      <td>5.33</td>\n",
       "    </tr>\n",
       "    <tr>\n",
       "      <th>50%</th>\n",
       "      <td>7.85</td>\n",
       "    </tr>\n",
       "    <tr>\n",
       "      <th>75%</th>\n",
       "      <td>11.02</td>\n",
       "    </tr>\n",
       "    <tr>\n",
       "      <th>max</th>\n",
       "      <td>11,941.33</td>\n",
       "    </tr>\n",
       "  </tbody>\n",
       "</table>\n",
       "</div>"
      ],
      "text/plain": [
       "                  trip_duration\n",
       "membership                     \n",
       "Customer   count      58,105.00\n",
       "           mean           62.56\n",
       "           std           221.02\n",
       "           min             1.02\n",
       "           25%            10.87\n",
       "           50%            18.43\n",
       "           75%            37.83\n",
       "           max        12,037.27\n",
       "Subscriber count     255,600.00\n",
       "           mean            9.67\n",
       "           std            44.64\n",
       "           min             1.00\n",
       "           25%             5.33\n",
       "           50%             7.85\n",
       "           75%            11.02\n",
       "           max        11,941.33"
      ]
     },
     "execution_count": 64,
     "metadata": {},
     "output_type": "execute_result"
    }
   ],
   "source": [
    "# statistics table for total customer and subscribers in 2014\n",
    "membership_2014.describe()"
   ]
  },
  {
   "cell_type": "code",
   "execution_count": 86,
   "metadata": {
    "collapsed": false
   },
   "outputs": [
    {
     "data": {
      "text/plain": [
       "<matplotlib.text.Text at 0x1131e20f0>"
      ]
     },
     "execution_count": 86,
     "metadata": {},
     "output_type": "execute_result"
    },
    {
     "data": {
      "image/png": "[encoded data removed]",
      "text/plain": [
       "<matplotlib.figure.Figure at 0x1131de198>"
      ]
     },
     "metadata": {},
     "output_type": "display_data"
    }
   ],
   "source": [
    "# make a new table with min, max, mean for both membership\n",
    "mean_2014 = membership_2014.mean()['trip_duration'] / 60  # unit in hour\n",
    "min_2014 = membership_2014.min()['trip_duration'] / 60 # unit in hour  \n",
    "mid_2014 = membership_2014.quantile(0.5)['trip_duration'] / 60  # unit in hour\n",
    "#max_2014 = membership_2014.max()['trip_duration'] / 60 # unit in hour ---> too big\n",
    "\n",
    "member_time_2014 = pd.DataFrame({'Average': mean_2014, '50 percentile': mid_2014, 'Minimum': min_2014})\n",
    "member_time_2014.plot.bar(figsize=(8,8),fontsize=15)\n",
    "plt.xlabel('User Duration of Trip Total Count 2014', fontsize=25)"
   ]
  },
  {
   "cell_type": "markdown",
   "metadata": {},
   "source": [
    "## Trip Count and membershio info per city (SF, RC, PA, SJ, MV)"
   ]
  },
  {
   "cell_type": "code",
   "execution_count": 156,
   "metadata": {
    "collapsed": false
   },
   "outputs": [
    {
     "data": {
      "text/html": [
       "<div>\n",
       "<table border=\"1\" class=\"dataframe\">\n",
       "  <thead>\n",
       "    <tr style=\"text-align: right;\">\n",
       "      <th></th>\n",
       "      <th>station_id</th>\n",
       "      <th>station_name</th>\n",
       "      <th>lat</th>\n",
       "      <th>long</th>\n",
       "      <th>dock_count</th>\n",
       "      <th>city</th>\n",
       "      <th>install_date</th>\n",
       "    </tr>\n",
       "  </thead>\n",
       "  <tbody>\n",
       "    <tr>\n",
       "      <th>0</th>\n",
       "      <td>2</td>\n",
       "      <td>San Jose Diridon Caltrain Station</td>\n",
       "      <td>37.33</td>\n",
       "      <td>-121.90</td>\n",
       "      <td>27</td>\n",
       "      <td>San Jose</td>\n",
       "      <td>8/6/2013</td>\n",
       "    </tr>\n",
       "    <tr>\n",
       "      <th>1</th>\n",
       "      <td>3</td>\n",
       "      <td>San Jose Civic Center</td>\n",
       "      <td>37.33</td>\n",
       "      <td>-121.89</td>\n",
       "      <td>15</td>\n",
       "      <td>San Jose</td>\n",
       "      <td>8/5/2013</td>\n",
       "    </tr>\n",
       "    <tr>\n",
       "      <th>2</th>\n",
       "      <td>4</td>\n",
       "      <td>Santa Clara at Almaden</td>\n",
       "      <td>37.33</td>\n",
       "      <td>-121.89</td>\n",
       "      <td>11</td>\n",
       "      <td>San Jose</td>\n",
       "      <td>8/6/2013</td>\n",
       "    </tr>\n",
       "    <tr>\n",
       "      <th>3</th>\n",
       "      <td>5</td>\n",
       "      <td>Adobe on Almaden</td>\n",
       "      <td>37.33</td>\n",
       "      <td>-121.89</td>\n",
       "      <td>19</td>\n",
       "      <td>San Jose</td>\n",
       "      <td>8/5/2013</td>\n",
       "    </tr>\n",
       "    <tr>\n",
       "      <th>4</th>\n",
       "      <td>6</td>\n",
       "      <td>San Pedro Square</td>\n",
       "      <td>37.34</td>\n",
       "      <td>-121.89</td>\n",
       "      <td>15</td>\n",
       "      <td>San Jose</td>\n",
       "      <td>8/7/2013</td>\n",
       "    </tr>\n",
       "  </tbody>\n",
       "</table>\n",
       "</div>"
      ],
      "text/plain": [
       "   station_id                       station_name   lat    long  dock_count  \\\n",
       "0           2  San Jose Diridon Caltrain Station 37.33 -121.90          27   \n",
       "1           3              San Jose Civic Center 37.33 -121.89          15   \n",
       "2           4             Santa Clara at Almaden 37.33 -121.89          11   \n",
       "3           5                   Adobe on Almaden 37.33 -121.89          19   \n",
       "4           6                   San Pedro Square 37.34 -121.89          15   \n",
       "\n",
       "       city install_date  \n",
       "0  San Jose     8/6/2013  \n",
       "1  San Jose     8/5/2013  \n",
       "2  San Jose     8/6/2013  \n",
       "3  San Jose     8/5/2013  \n",
       "4  San Jose     8/7/2013  "
      ]
     },
     "execution_count": 156,
     "metadata": {},
     "output_type": "execute_result"
    }
   ],
   "source": [
    "# STATION_DATA\n",
    "# read station data, grou\n",
    "raw_data_1 = pd.read_csv('201402_station_data.csv')\n",
    "raw_data_1.columns = station_headers\n",
    "raw_data_2 = pd.read_csv('201408_station_data.csv')\n",
    "raw_data_2.columns = station_headers\n",
    "raw_data_3 = pd.read_csv('201508_station_data.csv') # current dataset\n",
    "raw_data_3.columns = station_headers\n",
    "\n",
    "# merged station datasets\n",
    "station_data = pd.concat([raw_data_1, raw_data_2, raw_data_3])\n",
    "station_data.head()"
   ]
  },
  {
   "cell_type": "code",
   "execution_count": 174,
   "metadata": {
    "collapsed": false
   },
   "outputs": [],
   "source": [
    "# sort station ID by city\n",
    "san_jose_station_id = list(set(station_data[station_data['city']=='San Jose']['station_id']))\n",
    "san_francisco_station_id = list(set(station_data[station_data['city']=='San Francisco']['station_id']))\n",
    "redwood_city_station_id = list(set(station_data[station_data['city']=='Redwood City']['station_id']))\n",
    "palo_alto_station_id = list(set(station_data[station_data['city']=='Palo Alto']['station_id']))\n",
    "mountain_view_station_id = list(set(station_data[station_data['city']=='Mountain View']['station_id']))"
   ]
  },
  {
   "cell_type": "code",
   "execution_count": 190,
   "metadata": {
    "collapsed": false
   },
   "outputs": [],
   "source": [
    "# filter raw trip data 2014 according to station ID\n",
    "sf_trip_data_2014 = raw_data_2014[raw_data_2014['start_terminal'].isin(palo_alto_station_id)]\n",
    "sj_trip_data_2014 = raw_data_2014[raw_data_2014['start_terminal'].isin(san_jose_station_id)]\n",
    "rc_trip_data_2014 = raw_data_2014[raw_data_2014['start_terminal'].isin(redwood_city_station_id)]\n",
    "pa_trip_data_2014 = raw_data_2014[raw_data_2014['start_terminal'].isin(palo_alto_station_id)]\n",
    "mv_trip_data_2014 = raw_data_2014[raw_data_2014['start_terminal'].isin(mountain_view_station_id)]"
   ]
  },
  {
   "cell_type": "markdown",
   "metadata": {},
   "source": [
    "### San Francisco Trip Count and Membership info"
   ]
  },
  {
   "cell_type": "code",
   "execution_count": 192,
   "metadata": {
    "collapsed": false
   },
   "outputs": [
    {
     "data": {
      "text/html": [
       "<div>\n",
       "<table border=\"1\" class=\"dataframe\">\n",
       "  <thead>\n",
       "    <tr style=\"text-align: right;\">\n",
       "      <th></th>\n",
       "      <th>membership</th>\n",
       "      <th>trip_duration</th>\n",
       "    </tr>\n",
       "  </thead>\n",
       "  <tbody>\n",
       "    <tr>\n",
       "      <th>228</th>\n",
       "      <td>Customer</td>\n",
       "      <td>21.75</td>\n",
       "    </tr>\n",
       "    <tr>\n",
       "      <th>253</th>\n",
       "      <td>Customer</td>\n",
       "      <td>33.78</td>\n",
       "    </tr>\n",
       "    <tr>\n",
       "      <th>287</th>\n",
       "      <td>Customer</td>\n",
       "      <td>75.80</td>\n",
       "    </tr>\n",
       "    <tr>\n",
       "      <th>376</th>\n",
       "      <td>Customer</td>\n",
       "      <td>106.07</td>\n",
       "    </tr>\n",
       "    <tr>\n",
       "      <th>377</th>\n",
       "      <td>Customer</td>\n",
       "      <td>99.10</td>\n",
       "    </tr>\n",
       "  </tbody>\n",
       "</table>\n",
       "</div>"
      ],
      "text/plain": [
       "    membership  trip_duration\n",
       "228   Customer          21.75\n",
       "253   Customer          33.78\n",
       "287   Customer          75.80\n",
       "376   Customer         106.07\n",
       "377   Customer          99.10"
      ]
     },
     "execution_count": 192,
     "metadata": {},
     "output_type": "execute_result"
    }
   ],
   "source": [
    "sf_trip_data_2014 = pd.DataFrame(sf_trip_data_2014, columns=['user_type', 'trip_time'])\n",
    "sf_trip_data_2014.columns = ['membership', 'trip_duration']  \n",
    "sf_trip_data_2014.head()"
   ]
  },
  {
   "cell_type": "code",
   "execution_count": 196,
   "metadata": {
    "collapsed": false
   },
   "outputs": [
    {
     "data": {
      "text/html": [
       "<div>\n",
       "<table border=\"1\" class=\"dataframe\">\n",
       "  <thead>\n",
       "    <tr style=\"text-align: right;\">\n",
       "      <th></th>\n",
       "      <th>trip_duration</th>\n",
       "    </tr>\n",
       "  </thead>\n",
       "  <tbody>\n",
       "    <tr>\n",
       "      <th>count</th>\n",
       "      <td>3,636.00</td>\n",
       "    </tr>\n",
       "    <tr>\n",
       "      <th>mean</th>\n",
       "      <td>72.66</td>\n",
       "    </tr>\n",
       "    <tr>\n",
       "      <th>std</th>\n",
       "      <td>354.07</td>\n",
       "    </tr>\n",
       "    <tr>\n",
       "      <th>min</th>\n",
       "      <td>1.05</td>\n",
       "    </tr>\n",
       "    <tr>\n",
       "      <th>25%</th>\n",
       "      <td>5.56</td>\n",
       "    </tr>\n",
       "    <tr>\n",
       "      <th>50%</th>\n",
       "      <td>15.63</td>\n",
       "    </tr>\n",
       "    <tr>\n",
       "      <th>75%</th>\n",
       "      <td>44.95</td>\n",
       "    </tr>\n",
       "    <tr>\n",
       "      <th>max</th>\n",
       "      <td>12,037.27</td>\n",
       "    </tr>\n",
       "  </tbody>\n",
       "</table>\n",
       "</div>"
      ],
      "text/plain": [
       "       trip_duration\n",
       "count       3,636.00\n",
       "mean           72.66\n",
       "std           354.07\n",
       "min             1.05\n",
       "25%             5.56\n",
       "50%            15.63\n",
       "75%            44.95\n",
       "max        12,037.27"
      ]
     },
     "execution_count": 196,
     "metadata": {},
     "output_type": "execute_result"
    }
   ],
   "source": [
    "# SF trip data statistics for both user type\n",
    "sf_trip_data_2014.describe()"
   ]
  },
  {
   "cell_type": "code",
   "execution_count": 198,
   "metadata": {
    "collapsed": false
   },
   "outputs": [
    {
     "data": {
      "text/html": [
       "<div>\n",
       "<table border=\"1\" class=\"dataframe\">\n",
       "  <thead>\n",
       "    <tr style=\"text-align: right;\">\n",
       "      <th></th>\n",
       "      <th></th>\n",
       "      <th>trip_duration</th>\n",
       "    </tr>\n",
       "    <tr>\n",
       "      <th>membership</th>\n",
       "      <th></th>\n",
       "      <th></th>\n",
       "    </tr>\n",
       "  </thead>\n",
       "  <tbody>\n",
       "    <tr>\n",
       "      <th rowspan=\"8\" valign=\"top\">Customer</th>\n",
       "      <th>count</th>\n",
       "      <td>1,688.00</td>\n",
       "    </tr>\n",
       "    <tr>\n",
       "      <th>mean</th>\n",
       "      <td>140.22</td>\n",
       "    </tr>\n",
       "    <tr>\n",
       "      <th>std</th>\n",
       "      <td>503.83</td>\n",
       "    </tr>\n",
       "    <tr>\n",
       "      <th>min</th>\n",
       "      <td>1.05</td>\n",
       "    </tr>\n",
       "    <tr>\n",
       "      <th>25%</th>\n",
       "      <td>20.13</td>\n",
       "    </tr>\n",
       "    <tr>\n",
       "      <th>50%</th>\n",
       "      <td>49.53</td>\n",
       "    </tr>\n",
       "    <tr>\n",
       "      <th>75%</th>\n",
       "      <td>99.54</td>\n",
       "    </tr>\n",
       "    <tr>\n",
       "      <th>max</th>\n",
       "      <td>12,037.27</td>\n",
       "    </tr>\n",
       "    <tr>\n",
       "      <th rowspan=\"8\" valign=\"top\">Subscriber</th>\n",
       "      <th>count</th>\n",
       "      <td>1,948.00</td>\n",
       "    </tr>\n",
       "    <tr>\n",
       "      <th>mean</th>\n",
       "      <td>14.11</td>\n",
       "    </tr>\n",
       "    <tr>\n",
       "      <th>std</th>\n",
       "      <td>81.94</td>\n",
       "    </tr>\n",
       "    <tr>\n",
       "      <th>min</th>\n",
       "      <td>1.10</td>\n",
       "    </tr>\n",
       "    <tr>\n",
       "      <th>25%</th>\n",
       "      <td>3.66</td>\n",
       "    </tr>\n",
       "    <tr>\n",
       "      <th>50%</th>\n",
       "      <td>9.09</td>\n",
       "    </tr>\n",
       "    <tr>\n",
       "      <th>75%</th>\n",
       "      <td>14.57</td>\n",
       "    </tr>\n",
       "    <tr>\n",
       "      <th>max</th>\n",
       "      <td>3,235.87</td>\n",
       "    </tr>\n",
       "  </tbody>\n",
       "</table>\n",
       "</div>"
      ],
      "text/plain": [
       "                  trip_duration\n",
       "membership                     \n",
       "Customer   count       1,688.00\n",
       "           mean          140.22\n",
       "           std           503.83\n",
       "           min             1.05\n",
       "           25%            20.13\n",
       "           50%            49.53\n",
       "           75%            99.54\n",
       "           max        12,037.27\n",
       "Subscriber count       1,948.00\n",
       "           mean           14.11\n",
       "           std            81.94\n",
       "           min             1.10\n",
       "           25%             3.66\n",
       "           50%             9.09\n",
       "           75%            14.57\n",
       "           max         3,235.87"
      ]
     },
     "execution_count": 198,
     "metadata": {},
     "output_type": "execute_result"
    }
   ],
   "source": [
    "# SF trip data for each user type\n",
    "sf_trip_data_membership_2014.describe()"
   ]
  },
  {
   "cell_type": "code",
   "execution_count": 197,
   "metadata": {
    "collapsed": false
   },
   "outputs": [
    {
     "data": {
      "text/plain": [
       "<matplotlib.text.Text at 0x1137a2128>"
      ]
     },
     "execution_count": 197,
     "metadata": {},
     "output_type": "execute_result"
    },
    {
     "data": {
      "image/png": "[encoded data removed]",
      "text/plain": [
       "<matplotlib.figure.Figure at 0x113d72b38>"
      ]
     },
     "metadata": {},
     "output_type": "display_data"
    }
   ],
   "source": [
    "# membership count (same as trip count) counts in San Francisco\n",
    "sf_trip_data_membership_2014 = sf_trip_data_2014.groupby('membership')\n",
    "sf_count_2014 = sf_trip_data_membership_2014.count()['trip_duration']\n",
    "sf_count_2014.plot.pie(autopct='%.2f', fontsize=25, figsize=(8,8),colors=['g', 'c'])\n",
    "plt.ylabel('')\n",
    "plt.xlabel('Trip Count in San Francisco in Percentage 2014', fontsize=20)"
   ]
  },
  {
   "cell_type": "markdown",
   "metadata": {
    "collapsed": true
   },
   "source": [
    "### San Jose Trip Count and Membership info"
   ]
  },
  {
   "cell_type": "code",
   "execution_count": 199,
   "metadata": {
    "collapsed": false
   },
   "outputs": [
    {
     "data": {
      "text/html": [
       "<div>\n",
       "<table border=\"1\" class=\"dataframe\">\n",
       "  <thead>\n",
       "    <tr style=\"text-align: right;\">\n",
       "      <th></th>\n",
       "      <th>membership</th>\n",
       "      <th>trip_duration</th>\n",
       "    </tr>\n",
       "  </thead>\n",
       "  <tbody>\n",
       "    <tr>\n",
       "      <th>18</th>\n",
       "      <td>Customer</td>\n",
       "      <td>662.52</td>\n",
       "    </tr>\n",
       "    <tr>\n",
       "      <th>92</th>\n",
       "      <td>Customer</td>\n",
       "      <td>43.65</td>\n",
       "    </tr>\n",
       "    <tr>\n",
       "      <th>141</th>\n",
       "      <td>Customer</td>\n",
       "      <td>21.48</td>\n",
       "    </tr>\n",
       "    <tr>\n",
       "      <th>148</th>\n",
       "      <td>Customer</td>\n",
       "      <td>18.43</td>\n",
       "    </tr>\n",
       "    <tr>\n",
       "      <th>167</th>\n",
       "      <td>Customer</td>\n",
       "      <td>8.18</td>\n",
       "    </tr>\n",
       "  </tbody>\n",
       "</table>\n",
       "</div>"
      ],
      "text/plain": [
       "    membership  trip_duration\n",
       "18    Customer         662.52\n",
       "92    Customer          43.65\n",
       "141   Customer          21.48\n",
       "148   Customer          18.43\n",
       "167   Customer           8.18"
      ]
     },
     "execution_count": 199,
     "metadata": {},
     "output_type": "execute_result"
    }
   ],
   "source": [
    "sj_trip_data_2014 = pd.DataFrame(sj_trip_data_2014, columns=['user_type', 'trip_time'])\n",
    "sj_trip_data_2014.columns = ['membership', 'trip_duration']  \n",
    "sj_trip_data_2014.head()"
   ]
  },
  {
   "cell_type": "code",
   "execution_count": 200,
   "metadata": {
    "collapsed": false
   },
   "outputs": [
    {
     "data": {
      "text/html": [
       "<div>\n",
       "<table border=\"1\" class=\"dataframe\">\n",
       "  <thead>\n",
       "    <tr style=\"text-align: right;\">\n",
       "      <th></th>\n",
       "      <th>trip_duration</th>\n",
       "    </tr>\n",
       "  </thead>\n",
       "  <tbody>\n",
       "    <tr>\n",
       "      <th>count</th>\n",
       "      <td>19,764.00</td>\n",
       "    </tr>\n",
       "    <tr>\n",
       "      <th>mean</th>\n",
       "      <td>22.66</td>\n",
       "    </tr>\n",
       "    <tr>\n",
       "      <th>std</th>\n",
       "      <td>163.44</td>\n",
       "    </tr>\n",
       "    <tr>\n",
       "      <th>min</th>\n",
       "      <td>1.02</td>\n",
       "    </tr>\n",
       "    <tr>\n",
       "      <th>25%</th>\n",
       "      <td>4.87</td>\n",
       "    </tr>\n",
       "    <tr>\n",
       "      <th>50%</th>\n",
       "      <td>7.57</td>\n",
       "    </tr>\n",
       "    <tr>\n",
       "      <th>75%</th>\n",
       "      <td>11.52</td>\n",
       "    </tr>\n",
       "    <tr>\n",
       "      <th>max</th>\n",
       "      <td>11,922.32</td>\n",
       "    </tr>\n",
       "  </tbody>\n",
       "</table>\n",
       "</div>"
      ],
      "text/plain": [
       "       trip_duration\n",
       "count      19,764.00\n",
       "mean           22.66\n",
       "std           163.44\n",
       "min             1.02\n",
       "25%             4.87\n",
       "50%             7.57\n",
       "75%            11.52\n",
       "max        11,922.32"
      ]
     },
     "execution_count": 200,
     "metadata": {},
     "output_type": "execute_result"
    }
   ],
   "source": [
    "# SJ trip data statistics for both user type\n",
    "sj_trip_data_2014.describe()"
   ]
  },
  {
   "cell_type": "code",
   "execution_count": 207,
   "metadata": {
    "collapsed": false
   },
   "outputs": [
    {
     "data": {
      "text/plain": [
       "<matplotlib.text.Text at 0x113dd0748>"
      ]
     },
     "execution_count": 207,
     "metadata": {},
     "output_type": "execute_result"
    },
    {
     "data": {
      "image/png": "[encoded data removed]",
      "text/plain": [
       "<matplotlib.figure.Figure at 0x11493bb38>"
      ]
     },
     "metadata": {},
     "output_type": "display_data"
    }
   ],
   "source": [
    "# membership count (same as trip count) counts in San Jose\n",
    "sj_trip_data_membership_2014 = sj_trip_data_2014.groupby('membership')\n",
    "sj_count_2014 = sj_trip_data_membership_2014.count()['trip_duration']\n",
    "sj_count_2014.plot.pie(autopct='%.2f', fontsize=25, figsize=(8,8),colors=['g', 'c'])\n",
    "plt.ylabel('')\n",
    "plt.xlabel('Trip Count in San Jose in Percentage 2014', fontsize=20)"
   ]
  },
  {
   "cell_type": "code",
   "execution_count": 204,
   "metadata": {
    "collapsed": false
   },
   "outputs": [
    {
     "data": {
      "text/html": [
       "<div>\n",
       "<table border=\"1\" class=\"dataframe\">\n",
       "  <thead>\n",
       "    <tr style=\"text-align: right;\">\n",
       "      <th></th>\n",
       "      <th></th>\n",
       "      <th>trip_duration</th>\n",
       "    </tr>\n",
       "    <tr>\n",
       "      <th>membership</th>\n",
       "      <th></th>\n",
       "      <th></th>\n",
       "    </tr>\n",
       "  </thead>\n",
       "  <tbody>\n",
       "    <tr>\n",
       "      <th rowspan=\"8\" valign=\"top\">Customer</th>\n",
       "      <th>count</th>\n",
       "      <td>3,632.00</td>\n",
       "    </tr>\n",
       "    <tr>\n",
       "      <th>mean</th>\n",
       "      <td>80.79</td>\n",
       "    </tr>\n",
       "    <tr>\n",
       "      <th>std</th>\n",
       "      <td>327.31</td>\n",
       "    </tr>\n",
       "    <tr>\n",
       "      <th>min</th>\n",
       "      <td>1.02</td>\n",
       "    </tr>\n",
       "    <tr>\n",
       "      <th>25%</th>\n",
       "      <td>10.05</td>\n",
       "    </tr>\n",
       "    <tr>\n",
       "      <th>50%</th>\n",
       "      <td>17.86</td>\n",
       "    </tr>\n",
       "    <tr>\n",
       "      <th>75%</th>\n",
       "      <td>44.53</td>\n",
       "    </tr>\n",
       "    <tr>\n",
       "      <th>max</th>\n",
       "      <td>11,922.32</td>\n",
       "    </tr>\n",
       "    <tr>\n",
       "      <th rowspan=\"8\" valign=\"top\">Subscriber</th>\n",
       "      <th>count</th>\n",
       "      <td>16,132.00</td>\n",
       "    </tr>\n",
       "    <tr>\n",
       "      <th>mean</th>\n",
       "      <td>9.57</td>\n",
       "    </tr>\n",
       "    <tr>\n",
       "      <th>std</th>\n",
       "      <td>87.63</td>\n",
       "    </tr>\n",
       "    <tr>\n",
       "      <th>min</th>\n",
       "      <td>1.05</td>\n",
       "    </tr>\n",
       "    <tr>\n",
       "      <th>25%</th>\n",
       "      <td>4.55</td>\n",
       "    </tr>\n",
       "    <tr>\n",
       "      <th>50%</th>\n",
       "      <td>6.80</td>\n",
       "    </tr>\n",
       "    <tr>\n",
       "      <th>75%</th>\n",
       "      <td>9.58</td>\n",
       "    </tr>\n",
       "    <tr>\n",
       "      <th>max</th>\n",
       "      <td>10,322.03</td>\n",
       "    </tr>\n",
       "  </tbody>\n",
       "</table>\n",
       "</div>"
      ],
      "text/plain": [
       "                  trip_duration\n",
       "membership                     \n",
       "Customer   count       3,632.00\n",
       "           mean           80.79\n",
       "           std           327.31\n",
       "           min             1.02\n",
       "           25%            10.05\n",
       "           50%            17.86\n",
       "           75%            44.53\n",
       "           max        11,922.32\n",
       "Subscriber count      16,132.00\n",
       "           mean            9.57\n",
       "           std            87.63\n",
       "           min             1.05\n",
       "           25%             4.55\n",
       "           50%             6.80\n",
       "           75%             9.58\n",
       "           max        10,322.03"
      ]
     },
     "execution_count": 204,
     "metadata": {},
     "output_type": "execute_result"
    }
   ],
   "source": [
    "# SJ trip data for each user type\n",
    "sj_trip_data_membership_2014.describe()"
   ]
  },
  {
   "cell_type": "markdown",
   "metadata": {
    "collapsed": true
   },
   "source": [
    "### Palo Alto Trip Count and Membership info"
   ]
  },
  {
   "cell_type": "code",
   "execution_count": 206,
   "metadata": {
    "collapsed": false
   },
   "outputs": [
    {
     "data": {
      "text/html": [
       "<div>\n",
       "<table border=\"1\" class=\"dataframe\">\n",
       "  <thead>\n",
       "    <tr style=\"text-align: right;\">\n",
       "      <th></th>\n",
       "      <th>membership</th>\n",
       "      <th>trip_duration</th>\n",
       "    </tr>\n",
       "  </thead>\n",
       "  <tbody>\n",
       "    <tr>\n",
       "      <th>228</th>\n",
       "      <td>Customer</td>\n",
       "      <td>21.75</td>\n",
       "    </tr>\n",
       "    <tr>\n",
       "      <th>253</th>\n",
       "      <td>Customer</td>\n",
       "      <td>33.78</td>\n",
       "    </tr>\n",
       "    <tr>\n",
       "      <th>287</th>\n",
       "      <td>Customer</td>\n",
       "      <td>75.80</td>\n",
       "    </tr>\n",
       "    <tr>\n",
       "      <th>376</th>\n",
       "      <td>Customer</td>\n",
       "      <td>106.07</td>\n",
       "    </tr>\n",
       "    <tr>\n",
       "      <th>377</th>\n",
       "      <td>Customer</td>\n",
       "      <td>99.10</td>\n",
       "    </tr>\n",
       "  </tbody>\n",
       "</table>\n",
       "</div>"
      ],
      "text/plain": [
       "    membership  trip_duration\n",
       "228   Customer          21.75\n",
       "253   Customer          33.78\n",
       "287   Customer          75.80\n",
       "376   Customer         106.07\n",
       "377   Customer          99.10"
      ]
     },
     "execution_count": 206,
     "metadata": {},
     "output_type": "execute_result"
    }
   ],
   "source": [
    "pa_trip_data_2014 = pd.DataFrame(pa_trip_data_2014, columns=['user_type', 'trip_time'])\n",
    "pa_trip_data_2014.columns = ['membership', 'trip_duration']  \n",
    "pa_trip_data_2014.head()"
   ]
  },
  {
   "cell_type": "code",
   "execution_count": 210,
   "metadata": {
    "collapsed": false
   },
   "outputs": [
    {
     "data": {
      "text/html": [
       "<div>\n",
       "<table border=\"1\" class=\"dataframe\">\n",
       "  <thead>\n",
       "    <tr style=\"text-align: right;\">\n",
       "      <th></th>\n",
       "      <th>trip_duration</th>\n",
       "    </tr>\n",
       "  </thead>\n",
       "  <tbody>\n",
       "    <tr>\n",
       "      <th>count</th>\n",
       "      <td>3,636.00</td>\n",
       "    </tr>\n",
       "    <tr>\n",
       "      <th>mean</th>\n",
       "      <td>72.66</td>\n",
       "    </tr>\n",
       "    <tr>\n",
       "      <th>std</th>\n",
       "      <td>354.07</td>\n",
       "    </tr>\n",
       "    <tr>\n",
       "      <th>min</th>\n",
       "      <td>1.05</td>\n",
       "    </tr>\n",
       "    <tr>\n",
       "      <th>25%</th>\n",
       "      <td>5.56</td>\n",
       "    </tr>\n",
       "    <tr>\n",
       "      <th>50%</th>\n",
       "      <td>15.63</td>\n",
       "    </tr>\n",
       "    <tr>\n",
       "      <th>75%</th>\n",
       "      <td>44.95</td>\n",
       "    </tr>\n",
       "    <tr>\n",
       "      <th>max</th>\n",
       "      <td>12,037.27</td>\n",
       "    </tr>\n",
       "  </tbody>\n",
       "</table>\n",
       "</div>"
      ],
      "text/plain": [
       "       trip_duration\n",
       "count       3,636.00\n",
       "mean           72.66\n",
       "std           354.07\n",
       "min             1.05\n",
       "25%             5.56\n",
       "50%            15.63\n",
       "75%            44.95\n",
       "max        12,037.27"
      ]
     },
     "execution_count": 210,
     "metadata": {},
     "output_type": "execute_result"
    }
   ],
   "source": [
    "# PA trip data statistics for both user type\n",
    "pa_trip_data_2014.describe()"
   ]
  },
  {
   "cell_type": "code",
   "execution_count": 211,
   "metadata": {
    "collapsed": false
   },
   "outputs": [
    {
     "data": {
      "text/plain": [
       "<matplotlib.text.Text at 0x114029978>"
      ]
     },
     "execution_count": 211,
     "metadata": {},
     "output_type": "execute_result"
    },
    {
     "data": {
      "image/png": "[encoded data removed]",
      "text/plain": [
       "<matplotlib.figure.Figure at 0x114017b38>"
      ]
     },
     "metadata": {},
     "output_type": "display_data"
    }
   ],
   "source": [
    "# membership count (same as trip count) counts in Palo Alto\n",
    "pa_trip_data_membership_2014 = pa_trip_data_2014.groupby('membership')\n",
    "pa_count_2014 = pa_trip_data_membership_2014.count()['trip_duration']\n",
    "pa_count_2014.plot.pie(autopct='%.2f', fontsize=25, figsize=(8,8),colors=['g', 'c'])\n",
    "plt.ylabel('')\n",
    "plt.xlabel('Trip Count in Palo Alto in Percentage 2014', fontsize=20)"
   ]
  },
  {
   "cell_type": "code",
   "execution_count": 212,
   "metadata": {
    "collapsed": false
   },
   "outputs": [
    {
     "data": {
      "text/html": [
       "<div>\n",
       "<table border=\"1\" class=\"dataframe\">\n",
       "  <thead>\n",
       "    <tr style=\"text-align: right;\">\n",
       "      <th></th>\n",
       "      <th></th>\n",
       "      <th>trip_duration</th>\n",
       "    </tr>\n",
       "    <tr>\n",
       "      <th>membership</th>\n",
       "      <th></th>\n",
       "      <th></th>\n",
       "    </tr>\n",
       "  </thead>\n",
       "  <tbody>\n",
       "    <tr>\n",
       "      <th rowspan=\"8\" valign=\"top\">Customer</th>\n",
       "      <th>count</th>\n",
       "      <td>1,688.00</td>\n",
       "    </tr>\n",
       "    <tr>\n",
       "      <th>mean</th>\n",
       "      <td>140.22</td>\n",
       "    </tr>\n",
       "    <tr>\n",
       "      <th>std</th>\n",
       "      <td>503.83</td>\n",
       "    </tr>\n",
       "    <tr>\n",
       "      <th>min</th>\n",
       "      <td>1.05</td>\n",
       "    </tr>\n",
       "    <tr>\n",
       "      <th>25%</th>\n",
       "      <td>20.13</td>\n",
       "    </tr>\n",
       "    <tr>\n",
       "      <th>50%</th>\n",
       "      <td>49.53</td>\n",
       "    </tr>\n",
       "    <tr>\n",
       "      <th>75%</th>\n",
       "      <td>99.54</td>\n",
       "    </tr>\n",
       "    <tr>\n",
       "      <th>max</th>\n",
       "      <td>12,037.27</td>\n",
       "    </tr>\n",
       "    <tr>\n",
       "      <th rowspan=\"8\" valign=\"top\">Subscriber</th>\n",
       "      <th>count</th>\n",
       "      <td>1,948.00</td>\n",
       "    </tr>\n",
       "    <tr>\n",
       "      <th>mean</th>\n",
       "      <td>14.11</td>\n",
       "    </tr>\n",
       "    <tr>\n",
       "      <th>std</th>\n",
       "      <td>81.94</td>\n",
       "    </tr>\n",
       "    <tr>\n",
       "      <th>min</th>\n",
       "      <td>1.10</td>\n",
       "    </tr>\n",
       "    <tr>\n",
       "      <th>25%</th>\n",
       "      <td>3.66</td>\n",
       "    </tr>\n",
       "    <tr>\n",
       "      <th>50%</th>\n",
       "      <td>9.09</td>\n",
       "    </tr>\n",
       "    <tr>\n",
       "      <th>75%</th>\n",
       "      <td>14.57</td>\n",
       "    </tr>\n",
       "    <tr>\n",
       "      <th>max</th>\n",
       "      <td>3,235.87</td>\n",
       "    </tr>\n",
       "  </tbody>\n",
       "</table>\n",
       "</div>"
      ],
      "text/plain": [
       "                  trip_duration\n",
       "membership                     \n",
       "Customer   count       1,688.00\n",
       "           mean          140.22\n",
       "           std           503.83\n",
       "           min             1.05\n",
       "           25%            20.13\n",
       "           50%            49.53\n",
       "           75%            99.54\n",
       "           max        12,037.27\n",
       "Subscriber count       1,948.00\n",
       "           mean           14.11\n",
       "           std            81.94\n",
       "           min             1.10\n",
       "           25%             3.66\n",
       "           50%             9.09\n",
       "           75%            14.57\n",
       "           max         3,235.87"
      ]
     },
     "execution_count": 212,
     "metadata": {},
     "output_type": "execute_result"
    }
   ],
   "source": [
    "# PA trip data for each user type\n",
    "pa_trip_data_membership_2014.describe()"
   ]
  },
  {
   "cell_type": "markdown",
   "metadata": {},
   "source": [
    "### Redwood CIty Trip Count and Membership info"
   ]
  },
  {
   "cell_type": "code",
   "execution_count": 214,
   "metadata": {
    "collapsed": false
   },
   "outputs": [
    {
     "data": {
      "text/html": [
       "<div>\n",
       "<table border=\"1\" class=\"dataframe\">\n",
       "  <thead>\n",
       "    <tr style=\"text-align: right;\">\n",
       "      <th></th>\n",
       "      <th>membership</th>\n",
       "      <th>trip_duration</th>\n",
       "    </tr>\n",
       "  </thead>\n",
       "  <tbody>\n",
       "    <tr>\n",
       "      <th>4</th>\n",
       "      <td>Subscriber</td>\n",
       "      <td>2.65</td>\n",
       "    </tr>\n",
       "    <tr>\n",
       "      <th>101</th>\n",
       "      <td>Subscriber</td>\n",
       "      <td>5.32</td>\n",
       "    </tr>\n",
       "    <tr>\n",
       "      <th>259</th>\n",
       "      <td>Customer</td>\n",
       "      <td>435.47</td>\n",
       "    </tr>\n",
       "    <tr>\n",
       "      <th>261</th>\n",
       "      <td>Customer</td>\n",
       "      <td>435.00</td>\n",
       "    </tr>\n",
       "    <tr>\n",
       "      <th>380</th>\n",
       "      <td>Customer</td>\n",
       "      <td>27.62</td>\n",
       "    </tr>\n",
       "  </tbody>\n",
       "</table>\n",
       "</div>"
      ],
      "text/plain": [
       "     membership  trip_duration\n",
       "4    Subscriber           2.65\n",
       "101  Subscriber           5.32\n",
       "259    Customer         435.47\n",
       "261    Customer         435.00\n",
       "380    Customer          27.62"
      ]
     },
     "execution_count": 214,
     "metadata": {},
     "output_type": "execute_result"
    }
   ],
   "source": [
    "rc_trip_data_2014 = pd.DataFrame(rc_trip_data_2014, columns=['user_type', 'trip_time'])\n",
    "rc_trip_data_2014.columns = ['membership', 'trip_duration']  \n",
    "rc_trip_data_2014.head()"
   ]
  },
  {
   "cell_type": "code",
   "execution_count": 215,
   "metadata": {
    "collapsed": false
   },
   "outputs": [
    {
     "data": {
      "text/html": [
       "<div>\n",
       "<table border=\"1\" class=\"dataframe\">\n",
       "  <thead>\n",
       "    <tr style=\"text-align: right;\">\n",
       "      <th></th>\n",
       "      <th>trip_duration</th>\n",
       "    </tr>\n",
       "  </thead>\n",
       "  <tbody>\n",
       "    <tr>\n",
       "      <th>count</th>\n",
       "      <td>1,391.00</td>\n",
       "    </tr>\n",
       "    <tr>\n",
       "      <th>mean</th>\n",
       "      <td>44.57</td>\n",
       "    </tr>\n",
       "    <tr>\n",
       "      <th>std</th>\n",
       "      <td>208.12</td>\n",
       "    </tr>\n",
       "    <tr>\n",
       "      <th>min</th>\n",
       "      <td>1.00</td>\n",
       "    </tr>\n",
       "    <tr>\n",
       "      <th>25%</th>\n",
       "      <td>3.82</td>\n",
       "    </tr>\n",
       "    <tr>\n",
       "      <th>50%</th>\n",
       "      <td>4.83</td>\n",
       "    </tr>\n",
       "    <tr>\n",
       "      <th>75%</th>\n",
       "      <td>8.72</td>\n",
       "    </tr>\n",
       "    <tr>\n",
       "      <th>max</th>\n",
       "      <td>3,831.90</td>\n",
       "    </tr>\n",
       "  </tbody>\n",
       "</table>\n",
       "</div>"
      ],
      "text/plain": [
       "       trip_duration\n",
       "count       1,391.00\n",
       "mean           44.57\n",
       "std           208.12\n",
       "min             1.00\n",
       "25%             3.82\n",
       "50%             4.83\n",
       "75%             8.72\n",
       "max         3,831.90"
      ]
     },
     "execution_count": 215,
     "metadata": {},
     "output_type": "execute_result"
    }
   ],
   "source": [
    "# RC trip data statistics for both user type\n",
    "rc_trip_data_2014.describe()"
   ]
  },
  {
   "cell_type": "code",
   "execution_count": 277,
   "metadata": {
    "collapsed": false
   },
   "outputs": [
    {
     "data": {
      "text/plain": [
       "<matplotlib.text.Text at 0x1103cb908>"
      ]
     },
     "execution_count": 277,
     "metadata": {},
     "output_type": "execute_result"
    },
    {
     "data": {
      "image/png": "[encoded data removed]",
      "text/plain": [
       "<matplotlib.figure.Figure at 0x117305d30>"
      ]
     },
     "metadata": {},
     "output_type": "display_data"
    }
   ],
   "source": [
    "# membership count (same as trip count) counts in Redwood City\n",
    "rc_trip_data_membership_2014 = rc_trip_data_2014.groupby('membership')\n",
    "rc_count_2014 = rc_trip_data_membership_2014.count()['trip_duration']\n",
    "rc_count_2014.plot.pie(autopct='%.2f', fontsize=25, figsize=(8,8),colors=['g', 'c'])\n",
    "plt.ylabel('')\n",
    "plt.xlabel('Trip Count in Redwood City in Percentage 2014', fontsize=20)"
   ]
  },
  {
   "cell_type": "code",
   "execution_count": 217,
   "metadata": {
    "collapsed": false
   },
   "outputs": [
    {
     "data": {
      "text/html": [
       "<div>\n",
       "<table border=\"1\" class=\"dataframe\">\n",
       "  <thead>\n",
       "    <tr style=\"text-align: right;\">\n",
       "      <th></th>\n",
       "      <th></th>\n",
       "      <th>trip_duration</th>\n",
       "    </tr>\n",
       "    <tr>\n",
       "      <th>membership</th>\n",
       "      <th></th>\n",
       "      <th></th>\n",
       "    </tr>\n",
       "  </thead>\n",
       "  <tbody>\n",
       "    <tr>\n",
       "      <th rowspan=\"8\" valign=\"top\">Customer</th>\n",
       "      <th>count</th>\n",
       "      <td>303.00</td>\n",
       "    </tr>\n",
       "    <tr>\n",
       "      <th>mean</th>\n",
       "      <td>168.87</td>\n",
       "    </tr>\n",
       "    <tr>\n",
       "      <th>std</th>\n",
       "      <td>361.28</td>\n",
       "    </tr>\n",
       "    <tr>\n",
       "      <th>min</th>\n",
       "      <td>1.42</td>\n",
       "    </tr>\n",
       "    <tr>\n",
       "      <th>25%</th>\n",
       "      <td>9.07</td>\n",
       "    </tr>\n",
       "    <tr>\n",
       "      <th>50%</th>\n",
       "      <td>26.18</td>\n",
       "    </tr>\n",
       "    <tr>\n",
       "      <th>75%</th>\n",
       "      <td>118.93</td>\n",
       "    </tr>\n",
       "    <tr>\n",
       "      <th>max</th>\n",
       "      <td>2,635.80</td>\n",
       "    </tr>\n",
       "    <tr>\n",
       "      <th rowspan=\"8\" valign=\"top\">Subscriber</th>\n",
       "      <th>count</th>\n",
       "      <td>1,088.00</td>\n",
       "    </tr>\n",
       "    <tr>\n",
       "      <th>mean</th>\n",
       "      <td>9.95</td>\n",
       "    </tr>\n",
       "    <tr>\n",
       "      <th>std</th>\n",
       "      <td>116.71</td>\n",
       "    </tr>\n",
       "    <tr>\n",
       "      <th>min</th>\n",
       "      <td>1.00</td>\n",
       "    </tr>\n",
       "    <tr>\n",
       "      <th>25%</th>\n",
       "      <td>3.60</td>\n",
       "    </tr>\n",
       "    <tr>\n",
       "      <th>50%</th>\n",
       "      <td>4.40</td>\n",
       "    </tr>\n",
       "    <tr>\n",
       "      <th>75%</th>\n",
       "      <td>5.55</td>\n",
       "    </tr>\n",
       "    <tr>\n",
       "      <th>max</th>\n",
       "      <td>3,831.90</td>\n",
       "    </tr>\n",
       "  </tbody>\n",
       "</table>\n",
       "</div>"
      ],
      "text/plain": [
       "                  trip_duration\n",
       "membership                     \n",
       "Customer   count         303.00\n",
       "           mean          168.87\n",
       "           std           361.28\n",
       "           min             1.42\n",
       "           25%             9.07\n",
       "           50%            26.18\n",
       "           75%           118.93\n",
       "           max         2,635.80\n",
       "Subscriber count       1,088.00\n",
       "           mean            9.95\n",
       "           std           116.71\n",
       "           min             1.00\n",
       "           25%             3.60\n",
       "           50%             4.40\n",
       "           75%             5.55\n",
       "           max         3,831.90"
      ]
     },
     "execution_count": 217,
     "metadata": {},
     "output_type": "execute_result"
    }
   ],
   "source": [
    "# RC trip data for each user type\n",
    "rc_trip_data_membership_2014.describe()"
   ]
  },
  {
   "cell_type": "markdown",
   "metadata": {},
   "source": [
    "### Mountain View Trip Count and Membership info"
   ]
  },
  {
   "cell_type": "code",
   "execution_count": 218,
   "metadata": {
    "collapsed": false
   },
   "outputs": [
    {
     "data": {
      "text/html": [
       "<div>\n",
       "<table border=\"1\" class=\"dataframe\">\n",
       "  <thead>\n",
       "    <tr style=\"text-align: right;\">\n",
       "      <th></th>\n",
       "      <th>membership</th>\n",
       "      <th>trip_duration</th>\n",
       "    </tr>\n",
       "  </thead>\n",
       "  <tbody>\n",
       "    <tr>\n",
       "      <th>38</th>\n",
       "      <td>Subscriber</td>\n",
       "      <td>14.03</td>\n",
       "    </tr>\n",
       "    <tr>\n",
       "      <th>55</th>\n",
       "      <td>Subscriber</td>\n",
       "      <td>14.45</td>\n",
       "    </tr>\n",
       "    <tr>\n",
       "      <th>78</th>\n",
       "      <td>Subscriber</td>\n",
       "      <td>8.62</td>\n",
       "    </tr>\n",
       "    <tr>\n",
       "      <th>125</th>\n",
       "      <td>Customer</td>\n",
       "      <td>14.08</td>\n",
       "    </tr>\n",
       "    <tr>\n",
       "      <th>206</th>\n",
       "      <td>Subscriber</td>\n",
       "      <td>23.47</td>\n",
       "    </tr>\n",
       "  </tbody>\n",
       "</table>\n",
       "</div>"
      ],
      "text/plain": [
       "     membership  trip_duration\n",
       "38   Subscriber          14.03\n",
       "55   Subscriber          14.45\n",
       "78   Subscriber           8.62\n",
       "125    Customer          14.08\n",
       "206  Subscriber          23.47"
      ]
     },
     "execution_count": 218,
     "metadata": {},
     "output_type": "execute_result"
    }
   ],
   "source": [
    "mv_trip_data_2014 = pd.DataFrame(mv_trip_data_2014, columns=['user_type', 'trip_time'])\n",
    "mv_trip_data_2014.columns = ['membership', 'trip_duration']  \n",
    "mv_trip_data_2014.head()"
   ]
  },
  {
   "cell_type": "code",
   "execution_count": 220,
   "metadata": {
    "collapsed": false
   },
   "outputs": [
    {
     "data": {
      "text/html": [
       "<div>\n",
       "<table border=\"1\" class=\"dataframe\">\n",
       "  <thead>\n",
       "    <tr style=\"text-align: right;\">\n",
       "      <th></th>\n",
       "      <th>trip_duration</th>\n",
       "    </tr>\n",
       "  </thead>\n",
       "  <tbody>\n",
       "    <tr>\n",
       "      <th>count</th>\n",
       "      <td>8,115.00</td>\n",
       "    </tr>\n",
       "    <tr>\n",
       "      <th>mean</th>\n",
       "      <td>37.08</td>\n",
       "    </tr>\n",
       "    <tr>\n",
       "      <th>std</th>\n",
       "      <td>274.56</td>\n",
       "    </tr>\n",
       "    <tr>\n",
       "      <th>min</th>\n",
       "      <td>1.00</td>\n",
       "    </tr>\n",
       "    <tr>\n",
       "      <th>25%</th>\n",
       "      <td>4.05</td>\n",
       "    </tr>\n",
       "    <tr>\n",
       "      <th>50%</th>\n",
       "      <td>5.05</td>\n",
       "    </tr>\n",
       "    <tr>\n",
       "      <th>75%</th>\n",
       "      <td>10.35</td>\n",
       "    </tr>\n",
       "    <tr>\n",
       "      <th>max</th>\n",
       "      <td>9,772.60</td>\n",
       "    </tr>\n",
       "  </tbody>\n",
       "</table>\n",
       "</div>"
      ],
      "text/plain": [
       "       trip_duration\n",
       "count       8,115.00\n",
       "mean           37.08\n",
       "std           274.56\n",
       "min             1.00\n",
       "25%             4.05\n",
       "50%             5.05\n",
       "75%            10.35\n",
       "max         9,772.60"
      ]
     },
     "execution_count": 220,
     "metadata": {},
     "output_type": "execute_result"
    }
   ],
   "source": [
    "# MV trip data statistics for both user type\n",
    "mv_trip_data_2014.describe()"
   ]
  },
  {
   "cell_type": "code",
   "execution_count": 265,
   "metadata": {
    "collapsed": false
   },
   "outputs": [
    {
     "data": {
      "text/plain": [
       "<matplotlib.text.Text at 0x1131c0f60>"
      ]
     },
     "execution_count": 265,
     "metadata": {},
     "output_type": "execute_result"
    },
    {
     "data": {
      "image/png": "[encoded data removed]",
      "text/plain": [
       "<matplotlib.figure.Figure at 0x1137f69b0>"
      ]
     },
     "metadata": {},
     "output_type": "display_data"
    }
   ],
   "source": [
    "# membership count (same as trip count) counts in Mountain View\n",
    "mv_trip_data_membership_2014 = mv_trip_data_2014.groupby('membership')\n",
    "mv_count_2014 = mv_trip_data_membership_2014.count()['trip_duration']\n",
    "mv_count_2014.plot.pie(autopct='%.2f', fontsize=25, figsize=(8,8),colors=['g', 'c'])\n",
    "plt.ylabel('')\n",
    "plt.xlabel('Trip Count in Mountain View in Percentage 2014', fontsize=20)"
   ]
  },
  {
   "cell_type": "code",
   "execution_count": 266,
   "metadata": {
    "collapsed": false
   },
   "outputs": [
    {
     "data": {
      "text/html": [
       "<div>\n",
       "<table border=\"1\" class=\"dataframe\">\n",
       "  <thead>\n",
       "    <tr style=\"text-align: right;\">\n",
       "      <th></th>\n",
       "      <th></th>\n",
       "      <th>trip_duration</th>\n",
       "    </tr>\n",
       "    <tr>\n",
       "      <th>membership</th>\n",
       "      <th></th>\n",
       "      <th></th>\n",
       "    </tr>\n",
       "  </thead>\n",
       "  <tbody>\n",
       "    <tr>\n",
       "      <th rowspan=\"8\" valign=\"top\">Customer</th>\n",
       "      <th>count</th>\n",
       "      <td>1,440.00</td>\n",
       "    </tr>\n",
       "    <tr>\n",
       "      <th>mean</th>\n",
       "      <td>173.08</td>\n",
       "    </tr>\n",
       "    <tr>\n",
       "      <th>std</th>\n",
       "      <td>619.51</td>\n",
       "    </tr>\n",
       "    <tr>\n",
       "      <th>min</th>\n",
       "      <td>1.08</td>\n",
       "    </tr>\n",
       "    <tr>\n",
       "      <th>25%</th>\n",
       "      <td>13.60</td>\n",
       "    </tr>\n",
       "    <tr>\n",
       "      <th>50%</th>\n",
       "      <td>28.06</td>\n",
       "    </tr>\n",
       "    <tr>\n",
       "      <th>75%</th>\n",
       "      <td>98.65</td>\n",
       "    </tr>\n",
       "    <tr>\n",
       "      <th>max</th>\n",
       "      <td>9,772.60</td>\n",
       "    </tr>\n",
       "    <tr>\n",
       "      <th rowspan=\"8\" valign=\"top\">Subscriber</th>\n",
       "      <th>count</th>\n",
       "      <td>6,675.00</td>\n",
       "    </tr>\n",
       "    <tr>\n",
       "      <th>mean</th>\n",
       "      <td>7.74</td>\n",
       "    </tr>\n",
       "    <tr>\n",
       "      <th>std</th>\n",
       "      <td>63.61</td>\n",
       "    </tr>\n",
       "    <tr>\n",
       "      <th>min</th>\n",
       "      <td>1.00</td>\n",
       "    </tr>\n",
       "    <tr>\n",
       "      <th>25%</th>\n",
       "      <td>3.93</td>\n",
       "    </tr>\n",
       "    <tr>\n",
       "      <th>50%</th>\n",
       "      <td>4.65</td>\n",
       "    </tr>\n",
       "    <tr>\n",
       "      <th>75%</th>\n",
       "      <td>6.17</td>\n",
       "    </tr>\n",
       "    <tr>\n",
       "      <th>max</th>\n",
       "      <td>4,748.67</td>\n",
       "    </tr>\n",
       "  </tbody>\n",
       "</table>\n",
       "</div>"
      ],
      "text/plain": [
       "                  trip_duration\n",
       "membership                     \n",
       "Customer   count       1,440.00\n",
       "           mean          173.08\n",
       "           std           619.51\n",
       "           min             1.08\n",
       "           25%            13.60\n",
       "           50%            28.06\n",
       "           75%            98.65\n",
       "           max         9,772.60\n",
       "Subscriber count       6,675.00\n",
       "           mean            7.74\n",
       "           std            63.61\n",
       "           min             1.00\n",
       "           25%             3.93\n",
       "           50%             4.65\n",
       "           75%             6.17\n",
       "           max         4,748.67"
      ]
     },
     "execution_count": 266,
     "metadata": {},
     "output_type": "execute_result"
    }
   ],
   "source": [
    "# MV trip data for each user type\n",
    "mv_trip_data_membership_2014.describe()"
   ]
  },
  {
   "cell_type": "code",
   "execution_count": null,
   "metadata": {
    "collapsed": true
   },
   "outputs": [],
   "source": []
  },
  {
   "cell_type": "markdown",
   "metadata": {},
   "source": [
    "### ------------- Year 2015 ------------- "
   ]
  },
  {
   "cell_type": "code",
   "execution_count": 230,
   "metadata": {
    "collapsed": false
   },
   "outputs": [
    {
     "data": {
      "text/html": [
       "<div>\n",
       "<table border=\"1\" class=\"dataframe\">\n",
       "  <thead>\n",
       "    <tr style=\"text-align: right;\">\n",
       "      <th></th>\n",
       "      <th>trip_id</th>\n",
       "      <th>trip_time</th>\n",
       "      <th>start_dt</th>\n",
       "      <th>start_station</th>\n",
       "      <th>start_terminal</th>\n",
       "      <th>end_dt</th>\n",
       "      <th>end_station</th>\n",
       "      <th>end_terminal</th>\n",
       "      <th>bike_num</th>\n",
       "      <th>user_type</th>\n",
       "      <th>ZIP</th>\n",
       "    </tr>\n",
       "  </thead>\n",
       "  <tbody>\n",
       "    <tr>\n",
       "      <th>0</th>\n",
       "      <td>432949</td>\n",
       "      <td>8.97</td>\n",
       "      <td>9/1/14 0:05</td>\n",
       "      <td>South Van Ness at Market</td>\n",
       "      <td>66</td>\n",
       "      <td>9/1/14 0:14</td>\n",
       "      <td>5th at Howard</td>\n",
       "      <td>57</td>\n",
       "      <td>466</td>\n",
       "      <td>Customer</td>\n",
       "      <td>32</td>\n",
       "    </tr>\n",
       "    <tr>\n",
       "      <th>1</th>\n",
       "      <td>432948</td>\n",
       "      <td>9.47</td>\n",
       "      <td>9/1/14 0:05</td>\n",
       "      <td>South Van Ness at Market</td>\n",
       "      <td>66</td>\n",
       "      <td>9/1/14 0:15</td>\n",
       "      <td>5th at Howard</td>\n",
       "      <td>57</td>\n",
       "      <td>461</td>\n",
       "      <td>Customer</td>\n",
       "      <td>32</td>\n",
       "    </tr>\n",
       "    <tr>\n",
       "      <th>2</th>\n",
       "      <td>432947</td>\n",
       "      <td>9.48</td>\n",
       "      <td>9/1/14 0:05</td>\n",
       "      <td>South Van Ness at Market</td>\n",
       "      <td>66</td>\n",
       "      <td>9/1/14 0:15</td>\n",
       "      <td>5th at Howard</td>\n",
       "      <td>57</td>\n",
       "      <td>318</td>\n",
       "      <td>Customer</td>\n",
       "      <td>32</td>\n",
       "    </tr>\n",
       "    <tr>\n",
       "      <th>3</th>\n",
       "      <td>432950</td>\n",
       "      <td>111.87</td>\n",
       "      <td>9/1/14 3:16</td>\n",
       "      <td>Harry Bridges Plaza (Ferry Building)</td>\n",
       "      <td>50</td>\n",
       "      <td>9/1/14 5:08</td>\n",
       "      <td>San Francisco Caltrain (Townsend at 4th)</td>\n",
       "      <td>70</td>\n",
       "      <td>259</td>\n",
       "      <td>Customer</td>\n",
       "      <td>44100</td>\n",
       "    </tr>\n",
       "    <tr>\n",
       "      <th>4</th>\n",
       "      <td>432951</td>\n",
       "      <td>10.32</td>\n",
       "      <td>9/1/14 4:21</td>\n",
       "      <td>Powell Street BART</td>\n",
       "      <td>39</td>\n",
       "      <td>9/1/14 4:32</td>\n",
       "      <td>Townsend at 7th</td>\n",
       "      <td>65</td>\n",
       "      <td>335</td>\n",
       "      <td>Subscriber</td>\n",
       "      <td>94118</td>\n",
       "    </tr>\n",
       "  </tbody>\n",
       "</table>\n",
       "</div>"
      ],
      "text/plain": [
       "   trip_id  trip_time     start_dt                         start_station  \\\n",
       "0   432949       8.97  9/1/14 0:05              South Van Ness at Market   \n",
       "1   432948       9.47  9/1/14 0:05              South Van Ness at Market   \n",
       "2   432947       9.48  9/1/14 0:05              South Van Ness at Market   \n",
       "3   432950     111.87  9/1/14 3:16  Harry Bridges Plaza (Ferry Building)   \n",
       "4   432951      10.32  9/1/14 4:21                    Powell Street BART   \n",
       "\n",
       "   start_terminal       end_dt                               end_station  \\\n",
       "0              66  9/1/14 0:14                             5th at Howard   \n",
       "1              66  9/1/14 0:15                             5th at Howard   \n",
       "2              66  9/1/14 0:15                             5th at Howard   \n",
       "3              50  9/1/14 5:08  San Francisco Caltrain (Townsend at 4th)   \n",
       "4              39  9/1/14 4:32                           Townsend at 7th   \n",
       "\n",
       "   end_terminal  bike_num   user_type    ZIP  \n",
       "0            57       466    Customer     32  \n",
       "1            57       461    Customer     32  \n",
       "2            57       318    Customer     32  \n",
       "3            70       259    Customer  44100  \n",
       "4            65       335  Subscriber  94118  "
      ]
     },
     "execution_count": 230,
     "metadata": {},
     "output_type": "execute_result"
    }
   ],
   "source": [
    "raw_data_2015.head()"
   ]
  },
  {
   "cell_type": "code",
   "execution_count": 231,
   "metadata": {
    "collapsed": false
   },
   "outputs": [
    {
     "data": {
      "text/html": [
       "<div>\n",
       "<table border=\"1\" class=\"dataframe\">\n",
       "  <thead>\n",
       "    <tr style=\"text-align: right;\">\n",
       "      <th></th>\n",
       "      <th>membership</th>\n",
       "      <th>trip_duration</th>\n",
       "    </tr>\n",
       "  </thead>\n",
       "  <tbody>\n",
       "    <tr>\n",
       "      <th>0</th>\n",
       "      <td>Customer</td>\n",
       "      <td>8.97</td>\n",
       "    </tr>\n",
       "    <tr>\n",
       "      <th>1</th>\n",
       "      <td>Customer</td>\n",
       "      <td>9.47</td>\n",
       "    </tr>\n",
       "    <tr>\n",
       "      <th>2</th>\n",
       "      <td>Customer</td>\n",
       "      <td>9.48</td>\n",
       "    </tr>\n",
       "    <tr>\n",
       "      <th>3</th>\n",
       "      <td>Customer</td>\n",
       "      <td>111.87</td>\n",
       "    </tr>\n",
       "    <tr>\n",
       "      <th>4</th>\n",
       "      <td>Subscriber</td>\n",
       "      <td>10.32</td>\n",
       "    </tr>\n",
       "  </tbody>\n",
       "</table>\n",
       "</div>"
      ],
      "text/plain": [
       "   membership  trip_duration\n",
       "0    Customer           8.97\n",
       "1    Customer           9.47\n",
       "2    Customer           9.48\n",
       "3    Customer         111.87\n",
       "4  Subscriber          10.32"
      ]
     },
     "execution_count": 231,
     "metadata": {},
     "output_type": "execute_result"
    }
   ],
   "source": [
    "# create new dataframes with columns related to only trip time (duration) and user type (subscription)\n",
    "duration_data_2015 = pd.DataFrame(raw_data_2015, columns=['user_type', 'trip_time'])\n",
    "duration_data_2015.columns = ['membership', 'trip_duration']  \n",
    "duration_data_2015.head()"
   ]
  },
  {
   "cell_type": "markdown",
   "metadata": {},
   "source": [
    "## Total Count and member in total"
   ]
  },
  {
   "cell_type": "code",
   "execution_count": 232,
   "metadata": {
    "collapsed": false
   },
   "outputs": [
    {
     "data": {
      "text/html": [
       "<div>\n",
       "<table border=\"1\" class=\"dataframe\">\n",
       "  <thead>\n",
       "    <tr style=\"text-align: right;\">\n",
       "      <th></th>\n",
       "      <th>trip_duration</th>\n",
       "    </tr>\n",
       "  </thead>\n",
       "  <tbody>\n",
       "    <tr>\n",
       "      <th>count</th>\n",
       "      <td>354,152.00</td>\n",
       "    </tr>\n",
       "    <tr>\n",
       "      <th>mean</th>\n",
       "      <td>17.43</td>\n",
       "    </tr>\n",
       "    <tr>\n",
       "      <th>std</th>\n",
       "      <td>500.28</td>\n",
       "    </tr>\n",
       "    <tr>\n",
       "      <th>min</th>\n",
       "      <td>1.00</td>\n",
       "    </tr>\n",
       "    <tr>\n",
       "      <th>25%</th>\n",
       "      <td>5.70</td>\n",
       "    </tr>\n",
       "    <tr>\n",
       "      <th>50%</th>\n",
       "      <td>8.52</td>\n",
       "    </tr>\n",
       "    <tr>\n",
       "      <th>75%</th>\n",
       "      <td>12.32</td>\n",
       "    </tr>\n",
       "    <tr>\n",
       "      <th>max</th>\n",
       "      <td>287,840.00</td>\n",
       "    </tr>\n",
       "  </tbody>\n",
       "</table>\n",
       "</div>"
      ],
      "text/plain": [
       "       trip_duration\n",
       "count     354,152.00\n",
       "mean           17.43\n",
       "std           500.28\n",
       "min             1.00\n",
       "25%             5.70\n",
       "50%             8.52\n",
       "75%            12.32\n",
       "max       287,840.00"
      ]
     },
     "execution_count": 232,
     "metadata": {},
     "output_type": "execute_result"
    }
   ],
   "source": [
    "# duration description in total --> notice count increases \n",
    "duration_data_2015.describe()"
   ]
  },
  {
   "cell_type": "code",
   "execution_count": 234,
   "metadata": {
    "collapsed": false
   },
   "outputs": [
    {
     "data": {
      "text/plain": [
       "<matplotlib.text.Text at 0x10c1b0358>"
      ]
     },
     "execution_count": 234,
     "metadata": {},
     "output_type": "execute_result"
    },
    {
     "data": {
      "image/png": "[encoded data removed]",
      "text/plain": [
       "<matplotlib.figure.Figure at 0x12e40b2e8>"
      ]
     },
     "metadata": {},
     "output_type": "display_data"
    }
   ],
   "source": [
    "# membership count (same as trip count) counts in total\n",
    "membership_2015 = duration_data_2015.groupby('membership')\n",
    "count_2015 = membership_2015.count()['trip_duration']\n",
    "count_2015.plot.pie(autopct='%.2f', fontsize=25, figsize=(8,8),colors=['g', 'c'])\n",
    "plt.ylabel('')\n",
    "plt.xlabel('Membership Total Count in Percentage 2015', fontsize=20)"
   ]
  },
  {
   "cell_type": "code",
   "execution_count": 267,
   "metadata": {
    "collapsed": false
   },
   "outputs": [
    {
     "data": {
      "text/html": [
       "<div>\n",
       "<table border=\"1\" class=\"dataframe\">\n",
       "  <thead>\n",
       "    <tr style=\"text-align: right;\">\n",
       "      <th></th>\n",
       "      <th></th>\n",
       "      <th>trip_duration</th>\n",
       "    </tr>\n",
       "    <tr>\n",
       "      <th>membership</th>\n",
       "      <th></th>\n",
       "      <th></th>\n",
       "    </tr>\n",
       "  </thead>\n",
       "  <tbody>\n",
       "    <tr>\n",
       "      <th rowspan=\"8\" valign=\"top\">Customer</th>\n",
       "      <th>count</th>\n",
       "      <td>43,935.00</td>\n",
       "    </tr>\n",
       "    <tr>\n",
       "      <th>mean</th>\n",
       "      <td>70.24</td>\n",
       "    </tr>\n",
       "    <tr>\n",
       "      <th>std</th>\n",
       "      <td>1,408.30</td>\n",
       "    </tr>\n",
       "    <tr>\n",
       "      <th>min</th>\n",
       "      <td>1.00</td>\n",
       "    </tr>\n",
       "    <tr>\n",
       "      <th>25%</th>\n",
       "      <td>11.12</td>\n",
       "    </tr>\n",
       "    <tr>\n",
       "      <th>50%</th>\n",
       "      <td>18.85</td>\n",
       "    </tr>\n",
       "    <tr>\n",
       "      <th>75%</th>\n",
       "      <td>40.38</td>\n",
       "    </tr>\n",
       "    <tr>\n",
       "      <th>max</th>\n",
       "      <td>287,840.00</td>\n",
       "    </tr>\n",
       "    <tr>\n",
       "      <th rowspan=\"8\" valign=\"top\">Subscriber</th>\n",
       "      <th>count</th>\n",
       "      <td>310,217.00</td>\n",
       "    </tr>\n",
       "    <tr>\n",
       "      <th>mean</th>\n",
       "      <td>9.95</td>\n",
       "    </tr>\n",
       "    <tr>\n",
       "      <th>std</th>\n",
       "      <td>66.28</td>\n",
       "    </tr>\n",
       "    <tr>\n",
       "      <th>min</th>\n",
       "      <td>1.00</td>\n",
       "    </tr>\n",
       "    <tr>\n",
       "      <th>25%</th>\n",
       "      <td>5.42</td>\n",
       "    </tr>\n",
       "    <tr>\n",
       "      <th>50%</th>\n",
       "      <td>7.98</td>\n",
       "    </tr>\n",
       "    <tr>\n",
       "      <th>75%</th>\n",
       "      <td>11.15</td>\n",
       "    </tr>\n",
       "    <tr>\n",
       "      <th>max</th>\n",
       "      <td>30,876.50</td>\n",
       "    </tr>\n",
       "  </tbody>\n",
       "</table>\n",
       "</div>"
      ],
      "text/plain": [
       "                  trip_duration\n",
       "membership                     \n",
       "Customer   count      43,935.00\n",
       "           mean           70.24\n",
       "           std         1,408.30\n",
       "           min             1.00\n",
       "           25%            11.12\n",
       "           50%            18.85\n",
       "           75%            40.38\n",
       "           max       287,840.00\n",
       "Subscriber count     310,217.00\n",
       "           mean            9.95\n",
       "           std            66.28\n",
       "           min             1.00\n",
       "           25%             5.42\n",
       "           50%             7.98\n",
       "           75%            11.15\n",
       "           max        30,876.50"
      ]
     },
     "execution_count": 267,
     "metadata": {},
     "output_type": "execute_result"
    }
   ],
   "source": [
    "# statistics table for total customer and subscribers in 2015\n",
    "membership_2015.describe()"
   ]
  },
  {
   "cell_type": "code",
   "execution_count": 236,
   "metadata": {
    "collapsed": false
   },
   "outputs": [
    {
     "data": {
      "text/plain": [
       "<matplotlib.text.Text at 0x10fa15f28>"
      ]
     },
     "execution_count": 236,
     "metadata": {},
     "output_type": "execute_result"
    },
    {
     "data": {
      "image/png": "[encoded data removed]",
      "text/plain": [
       "<matplotlib.figure.Figure at 0x10c1c0ba8>"
      ]
     },
     "metadata": {},
     "output_type": "display_data"
    }
   ],
   "source": [
    "# make a new table with min, max, mean for both membership\n",
    "mean_2015 = membership_2015.mean()['trip_duration'] / 60  # unit in hour\n",
    "min_2015 = membership_2015.min()['trip_duration'] / 60 # unit in hour  \n",
    "mid_2015 = membership_2015.quantile(0.5)['trip_duration'] / 60  # unit in hour\n",
    "#max_2015 = membership_2015.max()['trip_duration'] / 60 # unit in hour ---> too big\n",
    "\n",
    "member_time_2015 = pd.DataFrame({'Average': mean_2015, '50 percentile': mid_2015, 'Minimum': min_2015})\n",
    "member_time_2015.plot.bar(figsize=(8,8),fontsize=15)\n",
    "plt.xlabel('User Duration of Trip Total Count 2015', fontsize=25)"
   ]
  },
  {
   "cell_type": "markdown",
   "metadata": {},
   "source": [
    "## Trip Count and membership info per city (SF, RC, PA, SJ, MV)"
   ]
  },
  {
   "cell_type": "code",
   "execution_count": 269,
   "metadata": {
    "collapsed": false
   },
   "outputs": [],
   "source": [
    "# filter raw trip data 2015 according to station ID\n",
    "sf_trip_data_2015 = raw_data_2015[raw_data_2015['start_terminal'].isin(palo_alto_station_id)]\n",
    "sj_trip_data_2015 = raw_data_2015[raw_data_2015['start_terminal'].isin(san_jose_station_id)]\n",
    "rc_trip_data_2015 = raw_data_2015[raw_data_2015['start_terminal'].isin(redwood_city_station_id)]\n",
    "pa_trip_data_2015 = raw_data_2015[raw_data_2015['start_terminal'].isin(palo_alto_station_id)]\n",
    "mv_trip_data_2015 = raw_data_2015[raw_data_2015['start_terminal'].isin(mountain_view_station_id)]"
   ]
  },
  {
   "cell_type": "markdown",
   "metadata": {},
   "source": [
    "### San Francisco Trip Count and Membership info"
   ]
  },
  {
   "cell_type": "code",
   "execution_count": 238,
   "metadata": {
    "collapsed": false
   },
   "outputs": [
    {
     "data": {
      "text/html": [
       "<div>\n",
       "<table border=\"1\" class=\"dataframe\">\n",
       "  <thead>\n",
       "    <tr style=\"text-align: right;\">\n",
       "      <th></th>\n",
       "      <th>membership</th>\n",
       "      <th>trip_duration</th>\n",
       "    </tr>\n",
       "  </thead>\n",
       "  <tbody>\n",
       "    <tr>\n",
       "      <th>78</th>\n",
       "      <td>Customer</td>\n",
       "      <td>227.25</td>\n",
       "    </tr>\n",
       "    <tr>\n",
       "      <th>403</th>\n",
       "      <td>Subscriber</td>\n",
       "      <td>3.63</td>\n",
       "    </tr>\n",
       "    <tr>\n",
       "      <th>473</th>\n",
       "      <td>Customer</td>\n",
       "      <td>170.87</td>\n",
       "    </tr>\n",
       "    <tr>\n",
       "      <th>916</th>\n",
       "      <td>Subscriber</td>\n",
       "      <td>2.87</td>\n",
       "    </tr>\n",
       "    <tr>\n",
       "      <th>940</th>\n",
       "      <td>Customer</td>\n",
       "      <td>9.30</td>\n",
       "    </tr>\n",
       "  </tbody>\n",
       "</table>\n",
       "</div>"
      ],
      "text/plain": [
       "     membership  trip_duration\n",
       "78     Customer         227.25\n",
       "403  Subscriber           3.63\n",
       "473    Customer         170.87\n",
       "916  Subscriber           2.87\n",
       "940    Customer           9.30"
      ]
     },
     "execution_count": 238,
     "metadata": {},
     "output_type": "execute_result"
    }
   ],
   "source": [
    "sf_trip_data_2015 = pd.DataFrame(sf_trip_data_2015, columns=['user_type', 'trip_time'])\n",
    "sf_trip_data_2015.columns = ['membership', 'trip_duration']  \n",
    "sf_trip_data_2015.head()"
   ]
  },
  {
   "cell_type": "code",
   "execution_count": 239,
   "metadata": {
    "collapsed": false
   },
   "outputs": [
    {
     "data": {
      "text/html": [
       "<div>\n",
       "<table border=\"1\" class=\"dataframe\">\n",
       "  <thead>\n",
       "    <tr style=\"text-align: right;\">\n",
       "      <th></th>\n",
       "      <th>trip_duration</th>\n",
       "    </tr>\n",
       "  </thead>\n",
       "  <tbody>\n",
       "    <tr>\n",
       "      <th>count</th>\n",
       "      <td>3,073.00</td>\n",
       "    </tr>\n",
       "    <tr>\n",
       "      <th>mean</th>\n",
       "      <td>70.50</td>\n",
       "    </tr>\n",
       "    <tr>\n",
       "      <th>std</th>\n",
       "      <td>492.46</td>\n",
       "    </tr>\n",
       "    <tr>\n",
       "      <th>min</th>\n",
       "      <td>1.10</td>\n",
       "    </tr>\n",
       "    <tr>\n",
       "      <th>25%</th>\n",
       "      <td>4.80</td>\n",
       "    </tr>\n",
       "    <tr>\n",
       "      <th>50%</th>\n",
       "      <td>14.38</td>\n",
       "    </tr>\n",
       "    <tr>\n",
       "      <th>75%</th>\n",
       "      <td>33.63</td>\n",
       "    </tr>\n",
       "    <tr>\n",
       "      <th>max</th>\n",
       "      <td>18,892.33</td>\n",
       "    </tr>\n",
       "  </tbody>\n",
       "</table>\n",
       "</div>"
      ],
      "text/plain": [
       "       trip_duration\n",
       "count       3,073.00\n",
       "mean           70.50\n",
       "std           492.46\n",
       "min             1.10\n",
       "25%             4.80\n",
       "50%            14.38\n",
       "75%            33.63\n",
       "max        18,892.33"
      ]
     },
     "execution_count": 239,
     "metadata": {},
     "output_type": "execute_result"
    }
   ],
   "source": [
    "# SF trip data statistics for both user type\n",
    "sf_trip_data_2015.describe()"
   ]
  },
  {
   "cell_type": "code",
   "execution_count": 240,
   "metadata": {
    "collapsed": false
   },
   "outputs": [
    {
     "data": {
      "text/plain": [
       "<matplotlib.text.Text at 0x10fa37048>"
      ]
     },
     "execution_count": 240,
     "metadata": {},
     "output_type": "execute_result"
    },
    {
     "data": {
      "image/png": "[encoded data removed]",
      "text/plain": [
       "<matplotlib.figure.Figure at 0x10fa2b400>"
      ]
     },
     "metadata": {},
     "output_type": "display_data"
    }
   ],
   "source": [
    "# membership count (same as trip count) counts in San Francisco\n",
    "sf_trip_data_membership_2015 = sf_trip_data_2015.groupby('membership')\n",
    "sf_count_2015 = sf_trip_data_membership_2015.count()['trip_duration']\n",
    "sf_count_2015.plot.pie(autopct='%.2f', fontsize=25, figsize=(8,8),colors=['g', 'c'])\n",
    "plt.ylabel('')\n",
    "plt.xlabel('Trip Count in San Francisco in Percentage 2015', fontsize=20)"
   ]
  },
  {
   "cell_type": "code",
   "execution_count": 241,
   "metadata": {
    "collapsed": false
   },
   "outputs": [
    {
     "data": {
      "text/html": [
       "<div>\n",
       "<table border=\"1\" class=\"dataframe\">\n",
       "  <thead>\n",
       "    <tr style=\"text-align: right;\">\n",
       "      <th></th>\n",
       "      <th></th>\n",
       "      <th>trip_duration</th>\n",
       "    </tr>\n",
       "    <tr>\n",
       "      <th>membership</th>\n",
       "      <th></th>\n",
       "      <th></th>\n",
       "    </tr>\n",
       "  </thead>\n",
       "  <tbody>\n",
       "    <tr>\n",
       "      <th rowspan=\"8\" valign=\"top\">Customer</th>\n",
       "      <th>count</th>\n",
       "      <td>1,218.00</td>\n",
       "    </tr>\n",
       "    <tr>\n",
       "      <th>mean</th>\n",
       "      <td>147.18</td>\n",
       "    </tr>\n",
       "    <tr>\n",
       "      <th>std</th>\n",
       "      <td>756.34</td>\n",
       "    </tr>\n",
       "    <tr>\n",
       "      <th>min</th>\n",
       "      <td>1.37</td>\n",
       "    </tr>\n",
       "    <tr>\n",
       "      <th>25%</th>\n",
       "      <td>21.12</td>\n",
       "    </tr>\n",
       "    <tr>\n",
       "      <th>50%</th>\n",
       "      <td>44.82</td>\n",
       "    </tr>\n",
       "    <tr>\n",
       "      <th>75%</th>\n",
       "      <td>91.42</td>\n",
       "    </tr>\n",
       "    <tr>\n",
       "      <th>max</th>\n",
       "      <td>18,892.33</td>\n",
       "    </tr>\n",
       "    <tr>\n",
       "      <th rowspan=\"8\" valign=\"top\">Subscriber</th>\n",
       "      <th>count</th>\n",
       "      <td>1,855.00</td>\n",
       "    </tr>\n",
       "    <tr>\n",
       "      <th>mean</th>\n",
       "      <td>20.15</td>\n",
       "    </tr>\n",
       "    <tr>\n",
       "      <th>std</th>\n",
       "      <td>141.21</td>\n",
       "    </tr>\n",
       "    <tr>\n",
       "      <th>min</th>\n",
       "      <td>1.10</td>\n",
       "    </tr>\n",
       "    <tr>\n",
       "      <th>25%</th>\n",
       "      <td>3.97</td>\n",
       "    </tr>\n",
       "    <tr>\n",
       "      <th>50%</th>\n",
       "      <td>9.57</td>\n",
       "    </tr>\n",
       "    <tr>\n",
       "      <th>75%</th>\n",
       "      <td>14.47</td>\n",
       "    </tr>\n",
       "    <tr>\n",
       "      <th>max</th>\n",
       "      <td>3,540.47</td>\n",
       "    </tr>\n",
       "  </tbody>\n",
       "</table>\n",
       "</div>"
      ],
      "text/plain": [
       "                  trip_duration\n",
       "membership                     \n",
       "Customer   count       1,218.00\n",
       "           mean          147.18\n",
       "           std           756.34\n",
       "           min             1.37\n",
       "           25%            21.12\n",
       "           50%            44.82\n",
       "           75%            91.42\n",
       "           max        18,892.33\n",
       "Subscriber count       1,855.00\n",
       "           mean           20.15\n",
       "           std           141.21\n",
       "           min             1.10\n",
       "           25%             3.97\n",
       "           50%             9.57\n",
       "           75%            14.47\n",
       "           max         3,540.47"
      ]
     },
     "execution_count": 241,
     "metadata": {},
     "output_type": "execute_result"
    }
   ],
   "source": [
    "# SF trip data for each user type\n",
    "sf_trip_data_membership_2015.describe()"
   ]
  },
  {
   "cell_type": "markdown",
   "metadata": {},
   "source": [
    "### San Jose Trip Count and Membership info"
   ]
  },
  {
   "cell_type": "code",
   "execution_count": 243,
   "metadata": {
    "collapsed": false
   },
   "outputs": [
    {
     "data": {
      "text/html": [
       "<div>\n",
       "<table border=\"1\" class=\"dataframe\">\n",
       "  <thead>\n",
       "    <tr style=\"text-align: right;\">\n",
       "      <th></th>\n",
       "      <th>membership</th>\n",
       "      <th>trip_duration</th>\n",
       "    </tr>\n",
       "  </thead>\n",
       "  <tbody>\n",
       "    <tr>\n",
       "      <th>8</th>\n",
       "      <td>Customer</td>\n",
       "      <td>94.45</td>\n",
       "    </tr>\n",
       "    <tr>\n",
       "      <th>29</th>\n",
       "      <td>Subscriber</td>\n",
       "      <td>8.63</td>\n",
       "    </tr>\n",
       "    <tr>\n",
       "      <th>66</th>\n",
       "      <td>Subscriber</td>\n",
       "      <td>9.22</td>\n",
       "    </tr>\n",
       "    <tr>\n",
       "      <th>97</th>\n",
       "      <td>Customer</td>\n",
       "      <td>134.13</td>\n",
       "    </tr>\n",
       "    <tr>\n",
       "      <th>113</th>\n",
       "      <td>Subscriber</td>\n",
       "      <td>11.62</td>\n",
       "    </tr>\n",
       "  </tbody>\n",
       "</table>\n",
       "</div>"
      ],
      "text/plain": [
       "     membership  trip_duration\n",
       "8      Customer          94.45\n",
       "29   Subscriber           8.63\n",
       "66   Subscriber           9.22\n",
       "97     Customer         134.13\n",
       "113  Subscriber          11.62"
      ]
     },
     "execution_count": 243,
     "metadata": {},
     "output_type": "execute_result"
    }
   ],
   "source": [
    "sj_trip_data_2015 = pd.DataFrame(sj_trip_data_2015, columns=['user_type', 'trip_time'])\n",
    "sj_trip_data_2015.columns = ['membership', 'trip_duration']  \n",
    "sj_trip_data_2015.head()"
   ]
  },
  {
   "cell_type": "code",
   "execution_count": 244,
   "metadata": {
    "collapsed": false
   },
   "outputs": [
    {
     "data": {
      "text/html": [
       "<div>\n",
       "<table border=\"1\" class=\"dataframe\">\n",
       "  <thead>\n",
       "    <tr style=\"text-align: right;\">\n",
       "      <th></th>\n",
       "      <th>trip_duration</th>\n",
       "    </tr>\n",
       "  </thead>\n",
       "  <tbody>\n",
       "    <tr>\n",
       "      <th>count</th>\n",
       "      <td>17,956.00</td>\n",
       "    </tr>\n",
       "    <tr>\n",
       "      <th>mean</th>\n",
       "      <td>23.35</td>\n",
       "    </tr>\n",
       "    <tr>\n",
       "      <th>std</th>\n",
       "      <td>225.87</td>\n",
       "    </tr>\n",
       "    <tr>\n",
       "      <th>min</th>\n",
       "      <td>1.03</td>\n",
       "    </tr>\n",
       "    <tr>\n",
       "      <th>25%</th>\n",
       "      <td>5.20</td>\n",
       "    </tr>\n",
       "    <tr>\n",
       "      <th>50%</th>\n",
       "      <td>7.77</td>\n",
       "    </tr>\n",
       "    <tr>\n",
       "      <th>75%</th>\n",
       "      <td>11.05</td>\n",
       "    </tr>\n",
       "    <tr>\n",
       "      <th>max</th>\n",
       "      <td>10,932.32</td>\n",
       "    </tr>\n",
       "  </tbody>\n",
       "</table>\n",
       "</div>"
      ],
      "text/plain": [
       "       trip_duration\n",
       "count      17,956.00\n",
       "mean           23.35\n",
       "std           225.87\n",
       "min             1.03\n",
       "25%             5.20\n",
       "50%             7.77\n",
       "75%            11.05\n",
       "max        10,932.32"
      ]
     },
     "execution_count": 244,
     "metadata": {},
     "output_type": "execute_result"
    }
   ],
   "source": [
    "# SJ trip data statistics for both user type\n",
    "sj_trip_data_2015.describe()"
   ]
  },
  {
   "cell_type": "code",
   "execution_count": 246,
   "metadata": {
    "collapsed": false
   },
   "outputs": [
    {
     "data": {
      "text/plain": [
       "<matplotlib.text.Text at 0x10ec01438>"
      ]
     },
     "execution_count": 246,
     "metadata": {},
     "output_type": "execute_result"
    },
    {
     "data": {
      "image/png": "[encoded data removed]",
      "text/plain": [
       "<matplotlib.figure.Figure at 0x110e26cc0>"
      ]
     },
     "metadata": {},
     "output_type": "display_data"
    }
   ],
   "source": [
    "# membership count (same as trip count) counts in San Jose\n",
    "sj_trip_data_membership_2015 = sj_trip_data_2015.groupby('membership')\n",
    "sj_count_2015 = sj_trip_data_membership_2015.count()['trip_duration']\n",
    "sj_count_2015.plot.pie(autopct='%.2f', fontsize=25, figsize=(8,8),colors=['g', 'c'])\n",
    "plt.ylabel('')\n",
    "plt.xlabel('Trip Count in San Jose in Percentage 2015', fontsize=20)"
   ]
  },
  {
   "cell_type": "code",
   "execution_count": 247,
   "metadata": {
    "collapsed": false
   },
   "outputs": [
    {
     "data": {
      "text/html": [
       "<div>\n",
       "<table border=\"1\" class=\"dataframe\">\n",
       "  <thead>\n",
       "    <tr style=\"text-align: right;\">\n",
       "      <th></th>\n",
       "      <th></th>\n",
       "      <th>trip_duration</th>\n",
       "    </tr>\n",
       "    <tr>\n",
       "      <th>membership</th>\n",
       "      <th></th>\n",
       "      <th></th>\n",
       "    </tr>\n",
       "  </thead>\n",
       "  <tbody>\n",
       "    <tr>\n",
       "      <th rowspan=\"8\" valign=\"top\">Customer</th>\n",
       "      <th>count</th>\n",
       "      <td>2,516.00</td>\n",
       "    </tr>\n",
       "    <tr>\n",
       "      <th>mean</th>\n",
       "      <td>100.78</td>\n",
       "    </tr>\n",
       "    <tr>\n",
       "      <th>std</th>\n",
       "      <td>560.92</td>\n",
       "    </tr>\n",
       "    <tr>\n",
       "      <th>min</th>\n",
       "      <td>1.03</td>\n",
       "    </tr>\n",
       "    <tr>\n",
       "      <th>25%</th>\n",
       "      <td>10.48</td>\n",
       "    </tr>\n",
       "    <tr>\n",
       "      <th>50%</th>\n",
       "      <td>19.88</td>\n",
       "    </tr>\n",
       "    <tr>\n",
       "      <th>75%</th>\n",
       "      <td>45.18</td>\n",
       "    </tr>\n",
       "    <tr>\n",
       "      <th>max</th>\n",
       "      <td>10,932.32</td>\n",
       "    </tr>\n",
       "    <tr>\n",
       "      <th rowspan=\"8\" valign=\"top\">Subscriber</th>\n",
       "      <th>count</th>\n",
       "      <td>15,440.00</td>\n",
       "    </tr>\n",
       "    <tr>\n",
       "      <th>mean</th>\n",
       "      <td>10.73</td>\n",
       "    </tr>\n",
       "    <tr>\n",
       "      <th>std</th>\n",
       "      <td>83.31</td>\n",
       "    </tr>\n",
       "    <tr>\n",
       "      <th>min</th>\n",
       "      <td>1.03</td>\n",
       "    </tr>\n",
       "    <tr>\n",
       "      <th>25%</th>\n",
       "      <td>4.88</td>\n",
       "    </tr>\n",
       "    <tr>\n",
       "      <th>50%</th>\n",
       "      <td>7.28</td>\n",
       "    </tr>\n",
       "    <tr>\n",
       "      <th>75%</th>\n",
       "      <td>9.83</td>\n",
       "    </tr>\n",
       "    <tr>\n",
       "      <th>max</th>\n",
       "      <td>4,922.95</td>\n",
       "    </tr>\n",
       "  </tbody>\n",
       "</table>\n",
       "</div>"
      ],
      "text/plain": [
       "                  trip_duration\n",
       "membership                     \n",
       "Customer   count       2,516.00\n",
       "           mean          100.78\n",
       "           std           560.92\n",
       "           min             1.03\n",
       "           25%            10.48\n",
       "           50%            19.88\n",
       "           75%            45.18\n",
       "           max        10,932.32\n",
       "Subscriber count      15,440.00\n",
       "           mean           10.73\n",
       "           std            83.31\n",
       "           min             1.03\n",
       "           25%             4.88\n",
       "           50%             7.28\n",
       "           75%             9.83\n",
       "           max         4,922.95"
      ]
     },
     "execution_count": 247,
     "metadata": {},
     "output_type": "execute_result"
    }
   ],
   "source": [
    "# SJ trip data for each user type\n",
    "sj_trip_data_membership_2015.describe()"
   ]
  },
  {
   "cell_type": "markdown",
   "metadata": {},
   "source": [
    "### Palo Alto Trip Count and Membership info"
   ]
  },
  {
   "cell_type": "code",
   "execution_count": 248,
   "metadata": {
    "collapsed": false
   },
   "outputs": [
    {
     "data": {
      "text/html": [
       "<div>\n",
       "<table border=\"1\" class=\"dataframe\">\n",
       "  <thead>\n",
       "    <tr style=\"text-align: right;\">\n",
       "      <th></th>\n",
       "      <th>membership</th>\n",
       "      <th>trip_duration</th>\n",
       "    </tr>\n",
       "  </thead>\n",
       "  <tbody>\n",
       "    <tr>\n",
       "      <th>78</th>\n",
       "      <td>Customer</td>\n",
       "      <td>227.25</td>\n",
       "    </tr>\n",
       "    <tr>\n",
       "      <th>403</th>\n",
       "      <td>Subscriber</td>\n",
       "      <td>3.63</td>\n",
       "    </tr>\n",
       "    <tr>\n",
       "      <th>473</th>\n",
       "      <td>Customer</td>\n",
       "      <td>170.87</td>\n",
       "    </tr>\n",
       "    <tr>\n",
       "      <th>916</th>\n",
       "      <td>Subscriber</td>\n",
       "      <td>2.87</td>\n",
       "    </tr>\n",
       "    <tr>\n",
       "      <th>940</th>\n",
       "      <td>Customer</td>\n",
       "      <td>9.30</td>\n",
       "    </tr>\n",
       "  </tbody>\n",
       "</table>\n",
       "</div>"
      ],
      "text/plain": [
       "     membership  trip_duration\n",
       "78     Customer         227.25\n",
       "403  Subscriber           3.63\n",
       "473    Customer         170.87\n",
       "916  Subscriber           2.87\n",
       "940    Customer           9.30"
      ]
     },
     "execution_count": 248,
     "metadata": {},
     "output_type": "execute_result"
    }
   ],
   "source": [
    "pa_trip_data_2015 = pd.DataFrame(pa_trip_data_2015, columns=['user_type', 'trip_time'])\n",
    "pa_trip_data_2015.columns = ['membership', 'trip_duration']  \n",
    "pa_trip_data_2015.head()"
   ]
  },
  {
   "cell_type": "code",
   "execution_count": 249,
   "metadata": {
    "collapsed": false
   },
   "outputs": [
    {
     "data": {
      "text/html": [
       "<div>\n",
       "<table border=\"1\" class=\"dataframe\">\n",
       "  <thead>\n",
       "    <tr style=\"text-align: right;\">\n",
       "      <th></th>\n",
       "      <th>trip_duration</th>\n",
       "    </tr>\n",
       "  </thead>\n",
       "  <tbody>\n",
       "    <tr>\n",
       "      <th>count</th>\n",
       "      <td>3,073.00</td>\n",
       "    </tr>\n",
       "    <tr>\n",
       "      <th>mean</th>\n",
       "      <td>70.50</td>\n",
       "    </tr>\n",
       "    <tr>\n",
       "      <th>std</th>\n",
       "      <td>492.46</td>\n",
       "    </tr>\n",
       "    <tr>\n",
       "      <th>min</th>\n",
       "      <td>1.10</td>\n",
       "    </tr>\n",
       "    <tr>\n",
       "      <th>25%</th>\n",
       "      <td>4.80</td>\n",
       "    </tr>\n",
       "    <tr>\n",
       "      <th>50%</th>\n",
       "      <td>14.38</td>\n",
       "    </tr>\n",
       "    <tr>\n",
       "      <th>75%</th>\n",
       "      <td>33.63</td>\n",
       "    </tr>\n",
       "    <tr>\n",
       "      <th>max</th>\n",
       "      <td>18,892.33</td>\n",
       "    </tr>\n",
       "  </tbody>\n",
       "</table>\n",
       "</div>"
      ],
      "text/plain": [
       "       trip_duration\n",
       "count       3,073.00\n",
       "mean           70.50\n",
       "std           492.46\n",
       "min             1.10\n",
       "25%             4.80\n",
       "50%            14.38\n",
       "75%            33.63\n",
       "max        18,892.33"
      ]
     },
     "execution_count": 249,
     "metadata": {},
     "output_type": "execute_result"
    }
   ],
   "source": [
    "# PA trip data statistics for both user type\n",
    "pa_trip_data_2015.describe()"
   ]
  },
  {
   "cell_type": "code",
   "execution_count": 250,
   "metadata": {
    "collapsed": false
   },
   "outputs": [
    {
     "data": {
      "text/plain": [
       "<matplotlib.text.Text at 0x110f73978>"
      ]
     },
     "execution_count": 250,
     "metadata": {},
     "output_type": "execute_result"
    },
    {
     "data": {
      "image/png": "[encoded data removed]",
      "text/plain": [
       "<matplotlib.figure.Figure at 0x110f716d8>"
      ]
     },
     "metadata": {},
     "output_type": "display_data"
    }
   ],
   "source": [
    "# membership count (same as trip count) counts in Palo Alto\n",
    "pa_trip_data_membership_2015 = pa_trip_data_2015.groupby('membership')\n",
    "pa_count_2015 = pa_trip_data_membership_2015.count()['trip_duration']\n",
    "pa_count_2015.plot.pie(autopct='%.2f', fontsize=25, figsize=(8,8),colors=['g', 'c'])\n",
    "plt.ylabel('')\n",
    "plt.xlabel('Trip Count in Palo Alto in Percentage 2015', fontsize=20)"
   ]
  },
  {
   "cell_type": "code",
   "execution_count": 251,
   "metadata": {
    "collapsed": false
   },
   "outputs": [
    {
     "data": {
      "text/html": [
       "<div>\n",
       "<table border=\"1\" class=\"dataframe\">\n",
       "  <thead>\n",
       "    <tr style=\"text-align: right;\">\n",
       "      <th></th>\n",
       "      <th></th>\n",
       "      <th>trip_duration</th>\n",
       "    </tr>\n",
       "    <tr>\n",
       "      <th>membership</th>\n",
       "      <th></th>\n",
       "      <th></th>\n",
       "    </tr>\n",
       "  </thead>\n",
       "  <tbody>\n",
       "    <tr>\n",
       "      <th rowspan=\"8\" valign=\"top\">Customer</th>\n",
       "      <th>count</th>\n",
       "      <td>1,218.00</td>\n",
       "    </tr>\n",
       "    <tr>\n",
       "      <th>mean</th>\n",
       "      <td>147.18</td>\n",
       "    </tr>\n",
       "    <tr>\n",
       "      <th>std</th>\n",
       "      <td>756.34</td>\n",
       "    </tr>\n",
       "    <tr>\n",
       "      <th>min</th>\n",
       "      <td>1.37</td>\n",
       "    </tr>\n",
       "    <tr>\n",
       "      <th>25%</th>\n",
       "      <td>21.12</td>\n",
       "    </tr>\n",
       "    <tr>\n",
       "      <th>50%</th>\n",
       "      <td>44.82</td>\n",
       "    </tr>\n",
       "    <tr>\n",
       "      <th>75%</th>\n",
       "      <td>91.42</td>\n",
       "    </tr>\n",
       "    <tr>\n",
       "      <th>max</th>\n",
       "      <td>18,892.33</td>\n",
       "    </tr>\n",
       "    <tr>\n",
       "      <th rowspan=\"8\" valign=\"top\">Subscriber</th>\n",
       "      <th>count</th>\n",
       "      <td>1,855.00</td>\n",
       "    </tr>\n",
       "    <tr>\n",
       "      <th>mean</th>\n",
       "      <td>20.15</td>\n",
       "    </tr>\n",
       "    <tr>\n",
       "      <th>std</th>\n",
       "      <td>141.21</td>\n",
       "    </tr>\n",
       "    <tr>\n",
       "      <th>min</th>\n",
       "      <td>1.10</td>\n",
       "    </tr>\n",
       "    <tr>\n",
       "      <th>25%</th>\n",
       "      <td>3.97</td>\n",
       "    </tr>\n",
       "    <tr>\n",
       "      <th>50%</th>\n",
       "      <td>9.57</td>\n",
       "    </tr>\n",
       "    <tr>\n",
       "      <th>75%</th>\n",
       "      <td>14.47</td>\n",
       "    </tr>\n",
       "    <tr>\n",
       "      <th>max</th>\n",
       "      <td>3,540.47</td>\n",
       "    </tr>\n",
       "  </tbody>\n",
       "</table>\n",
       "</div>"
      ],
      "text/plain": [
       "                  trip_duration\n",
       "membership                     \n",
       "Customer   count       1,218.00\n",
       "           mean          147.18\n",
       "           std           756.34\n",
       "           min             1.37\n",
       "           25%            21.12\n",
       "           50%            44.82\n",
       "           75%            91.42\n",
       "           max        18,892.33\n",
       "Subscriber count       1,855.00\n",
       "           mean           20.15\n",
       "           std           141.21\n",
       "           min             1.10\n",
       "           25%             3.97\n",
       "           50%             9.57\n",
       "           75%            14.47\n",
       "           max         3,540.47"
      ]
     },
     "execution_count": 251,
     "metadata": {},
     "output_type": "execute_result"
    }
   ],
   "source": [
    "# PA trip data for each user type\n",
    "pa_trip_data_membership_2015.describe()"
   ]
  },
  {
   "cell_type": "markdown",
   "metadata": {},
   "source": [
    "### Redwood CIty Trip Count and Membership info"
   ]
  },
  {
   "cell_type": "code",
   "execution_count": 274,
   "metadata": {
    "collapsed": false
   },
   "outputs": [
    {
     "data": {
      "text/html": [
       "<div>\n",
       "<table border=\"1\" class=\"dataframe\">\n",
       "  <thead>\n",
       "    <tr style=\"text-align: right;\">\n",
       "      <th></th>\n",
       "      <th>membership</th>\n",
       "      <th>trip_duration</th>\n",
       "    </tr>\n",
       "  </thead>\n",
       "  <tbody>\n",
       "    <tr>\n",
       "      <th>752</th>\n",
       "      <td>Subscriber</td>\n",
       "      <td>5.10</td>\n",
       "    </tr>\n",
       "    <tr>\n",
       "      <th>859</th>\n",
       "      <td>Subscriber</td>\n",
       "      <td>5.22</td>\n",
       "    </tr>\n",
       "    <tr>\n",
       "      <th>1936</th>\n",
       "      <td>Customer</td>\n",
       "      <td>6.53</td>\n",
       "    </tr>\n",
       "    <tr>\n",
       "      <th>2115</th>\n",
       "      <td>Subscriber</td>\n",
       "      <td>4.00</td>\n",
       "    </tr>\n",
       "    <tr>\n",
       "      <th>2190</th>\n",
       "      <td>Subscriber</td>\n",
       "      <td>5.62</td>\n",
       "    </tr>\n",
       "  </tbody>\n",
       "</table>\n",
       "</div>"
      ],
      "text/plain": [
       "      membership  trip_duration\n",
       "752   Subscriber           5.10\n",
       "859   Subscriber           5.22\n",
       "1936    Customer           6.53\n",
       "2115  Subscriber           4.00\n",
       "2190  Subscriber           5.62"
      ]
     },
     "execution_count": 274,
     "metadata": {},
     "output_type": "execute_result"
    }
   ],
   "source": [
    "rc_trip_data_2015 = pd.DataFrame(rc_trip_data_2015, columns=['user_type', 'trip_time'])\n",
    "rc_trip_data_2015.columns = ['membership', 'trip_duration']  \n",
    "rc_trip_data_2015.head()"
   ]
  },
  {
   "cell_type": "code",
   "execution_count": 275,
   "metadata": {
    "collapsed": false
   },
   "outputs": [
    {
     "data": {
      "text/html": [
       "<div>\n",
       "<table border=\"1\" class=\"dataframe\">\n",
       "  <thead>\n",
       "    <tr style=\"text-align: right;\">\n",
       "      <th></th>\n",
       "      <th>trip_duration</th>\n",
       "    </tr>\n",
       "  </thead>\n",
       "  <tbody>\n",
       "    <tr>\n",
       "      <th>count</th>\n",
       "      <td>2,019.00</td>\n",
       "    </tr>\n",
       "    <tr>\n",
       "      <th>mean</th>\n",
       "      <td>38.13</td>\n",
       "    </tr>\n",
       "    <tr>\n",
       "      <th>std</th>\n",
       "      <td>350.76</td>\n",
       "    </tr>\n",
       "    <tr>\n",
       "      <th>min</th>\n",
       "      <td>1.13</td>\n",
       "    </tr>\n",
       "    <tr>\n",
       "      <th>25%</th>\n",
       "      <td>4.56</td>\n",
       "    </tr>\n",
       "    <tr>\n",
       "      <th>50%</th>\n",
       "      <td>10.35</td>\n",
       "    </tr>\n",
       "    <tr>\n",
       "      <th>75%</th>\n",
       "      <td>14.39</td>\n",
       "    </tr>\n",
       "    <tr>\n",
       "      <th>max</th>\n",
       "      <td>12,007.57</td>\n",
       "    </tr>\n",
       "  </tbody>\n",
       "</table>\n",
       "</div>"
      ],
      "text/plain": [
       "       trip_duration\n",
       "count       2,019.00\n",
       "mean           38.13\n",
       "std           350.76\n",
       "min             1.13\n",
       "25%             4.56\n",
       "50%            10.35\n",
       "75%            14.39\n",
       "max        12,007.57"
      ]
     },
     "execution_count": 275,
     "metadata": {},
     "output_type": "execute_result"
    }
   ],
   "source": [
    "# RC trip data statistics for both user type\n",
    "rc_trip_data_2015.describe()"
   ]
  },
  {
   "cell_type": "code",
   "execution_count": 276,
   "metadata": {
    "collapsed": false
   },
   "outputs": [
    {
     "data": {
      "text/plain": [
       "<matplotlib.text.Text at 0x1103d1a90>"
      ]
     },
     "execution_count": 276,
     "metadata": {},
     "output_type": "execute_result"
    },
    {
     "data": {
      "image/png": "[encoded data removed]",
      "text/plain": [
       "<matplotlib.figure.Figure at 0x117651828>"
      ]
     },
     "metadata": {},
     "output_type": "display_data"
    }
   ],
   "source": [
    "# membership count (same as trip count) counts in Redwood City\n",
    "rc_trip_data_membership_2015 = rc_trip_data_2015.groupby('membership')\n",
    "rc_count_2015 = rc_trip_data_membership_2015.count()['trip_duration']\n",
    "rc_count_2015.plot.pie(autopct='%.2f', fontsize=25, figsize=(8,8),colors=['g', 'c'])\n",
    "plt.ylabel('')\n",
    "plt.xlabel('Trip Count in Redwood City in Percentage 2015', fontsize=20)"
   ]
  },
  {
   "cell_type": "code",
   "execution_count": 278,
   "metadata": {
    "collapsed": false
   },
   "outputs": [
    {
     "data": {
      "text/html": [
       "<div>\n",
       "<table border=\"1\" class=\"dataframe\">\n",
       "  <thead>\n",
       "    <tr style=\"text-align: right;\">\n",
       "      <th></th>\n",
       "      <th></th>\n",
       "      <th>trip_duration</th>\n",
       "    </tr>\n",
       "    <tr>\n",
       "      <th>membership</th>\n",
       "      <th></th>\n",
       "      <th></th>\n",
       "    </tr>\n",
       "  </thead>\n",
       "  <tbody>\n",
       "    <tr>\n",
       "      <th rowspan=\"8\" valign=\"top\">Customer</th>\n",
       "      <th>count</th>\n",
       "      <td>331.00</td>\n",
       "    </tr>\n",
       "    <tr>\n",
       "      <th>mean</th>\n",
       "      <td>174.86</td>\n",
       "    </tr>\n",
       "    <tr>\n",
       "      <th>std</th>\n",
       "      <td>851.46</td>\n",
       "    </tr>\n",
       "    <tr>\n",
       "      <th>min</th>\n",
       "      <td>1.25</td>\n",
       "    </tr>\n",
       "    <tr>\n",
       "      <th>25%</th>\n",
       "      <td>12.89</td>\n",
       "    </tr>\n",
       "    <tr>\n",
       "      <th>50%</th>\n",
       "      <td>24.40</td>\n",
       "    </tr>\n",
       "    <tr>\n",
       "      <th>75%</th>\n",
       "      <td>70.12</td>\n",
       "    </tr>\n",
       "    <tr>\n",
       "      <th>max</th>\n",
       "      <td>12,007.57</td>\n",
       "    </tr>\n",
       "    <tr>\n",
       "      <th rowspan=\"8\" valign=\"top\">Subscriber</th>\n",
       "      <th>count</th>\n",
       "      <td>1,688.00</td>\n",
       "    </tr>\n",
       "    <tr>\n",
       "      <th>mean</th>\n",
       "      <td>11.31</td>\n",
       "    </tr>\n",
       "    <tr>\n",
       "      <th>std</th>\n",
       "      <td>31.06</td>\n",
       "    </tr>\n",
       "    <tr>\n",
       "      <th>min</th>\n",
       "      <td>1.13</td>\n",
       "    </tr>\n",
       "    <tr>\n",
       "      <th>25%</th>\n",
       "      <td>4.30</td>\n",
       "    </tr>\n",
       "    <tr>\n",
       "      <th>50%</th>\n",
       "      <td>7.53</td>\n",
       "    </tr>\n",
       "    <tr>\n",
       "      <th>75%</th>\n",
       "      <td>13.17</td>\n",
       "    </tr>\n",
       "    <tr>\n",
       "      <th>max</th>\n",
       "      <td>1,052.30</td>\n",
       "    </tr>\n",
       "  </tbody>\n",
       "</table>\n",
       "</div>"
      ],
      "text/plain": [
       "                  trip_duration\n",
       "membership                     \n",
       "Customer   count         331.00\n",
       "           mean          174.86\n",
       "           std           851.46\n",
       "           min             1.25\n",
       "           25%            12.89\n",
       "           50%            24.40\n",
       "           75%            70.12\n",
       "           max        12,007.57\n",
       "Subscriber count       1,688.00\n",
       "           mean           11.31\n",
       "           std            31.06\n",
       "           min             1.13\n",
       "           25%             4.30\n",
       "           50%             7.53\n",
       "           75%            13.17\n",
       "           max         1,052.30"
      ]
     },
     "execution_count": 278,
     "metadata": {},
     "output_type": "execute_result"
    }
   ],
   "source": [
    "# RC trip data for each user type\n",
    "rc_trip_data_membership_2015.describe()"
   ]
  },
  {
   "cell_type": "markdown",
   "metadata": {},
   "source": [
    "### Mountain View Trip Count and Membership info"
   ]
  },
  {
   "cell_type": "code",
   "execution_count": 279,
   "metadata": {
    "collapsed": false
   },
   "outputs": [
    {
     "data": {
      "text/html": [
       "<div>\n",
       "<table border=\"1\" class=\"dataframe\">\n",
       "  <thead>\n",
       "    <tr style=\"text-align: right;\">\n",
       "      <th></th>\n",
       "      <th>membership</th>\n",
       "      <th>trip_duration</th>\n",
       "    </tr>\n",
       "  </thead>\n",
       "  <tbody>\n",
       "    <tr>\n",
       "      <th>10</th>\n",
       "      <td>Customer</td>\n",
       "      <td>289.93</td>\n",
       "    </tr>\n",
       "    <tr>\n",
       "      <th>11</th>\n",
       "      <td>Customer</td>\n",
       "      <td>288.28</td>\n",
       "    </tr>\n",
       "    <tr>\n",
       "      <th>49</th>\n",
       "      <td>Subscriber</td>\n",
       "      <td>5.55</td>\n",
       "    </tr>\n",
       "    <tr>\n",
       "      <th>188</th>\n",
       "      <td>Customer</td>\n",
       "      <td>261.32</td>\n",
       "    </tr>\n",
       "    <tr>\n",
       "      <th>196</th>\n",
       "      <td>Customer</td>\n",
       "      <td>159.02</td>\n",
       "    </tr>\n",
       "  </tbody>\n",
       "</table>\n",
       "</div>"
      ],
      "text/plain": [
       "     membership  trip_duration\n",
       "10     Customer         289.93\n",
       "11     Customer         288.28\n",
       "49   Subscriber           5.55\n",
       "188    Customer         261.32\n",
       "196    Customer         159.02"
      ]
     },
     "execution_count": 279,
     "metadata": {},
     "output_type": "execute_result"
    }
   ],
   "source": [
    "mv_trip_data_2015 = pd.DataFrame(mv_trip_data_2015, columns=['user_type', 'trip_time'])\n",
    "mv_trip_data_2015.columns = ['membership', 'trip_duration']  \n",
    "mv_trip_data_2015.head()"
   ]
  },
  {
   "cell_type": "code",
   "execution_count": 280,
   "metadata": {
    "collapsed": false
   },
   "outputs": [
    {
     "data": {
      "text/html": [
       "<div>\n",
       "<table border=\"1\" class=\"dataframe\">\n",
       "  <thead>\n",
       "    <tr style=\"text-align: right;\">\n",
       "      <th></th>\n",
       "      <th>trip_duration</th>\n",
       "    </tr>\n",
       "  </thead>\n",
       "  <tbody>\n",
       "    <tr>\n",
       "      <th>count</th>\n",
       "      <td>9,999.00</td>\n",
       "    </tr>\n",
       "    <tr>\n",
       "      <th>mean</th>\n",
       "      <td>23.83</td>\n",
       "    </tr>\n",
       "    <tr>\n",
       "      <th>std</th>\n",
       "      <td>338.98</td>\n",
       "    </tr>\n",
       "    <tr>\n",
       "      <th>min</th>\n",
       "      <td>1.02</td>\n",
       "    </tr>\n",
       "    <tr>\n",
       "      <th>25%</th>\n",
       "      <td>3.97</td>\n",
       "    </tr>\n",
       "    <tr>\n",
       "      <th>50%</th>\n",
       "      <td>4.90</td>\n",
       "    </tr>\n",
       "    <tr>\n",
       "      <th>75%</th>\n",
       "      <td>7.62</td>\n",
       "    </tr>\n",
       "    <tr>\n",
       "      <th>max</th>\n",
       "      <td>30,876.50</td>\n",
       "    </tr>\n",
       "  </tbody>\n",
       "</table>\n",
       "</div>"
      ],
      "text/plain": [
       "       trip_duration\n",
       "count       9,999.00\n",
       "mean           23.83\n",
       "std           338.98\n",
       "min             1.02\n",
       "25%             3.97\n",
       "50%             4.90\n",
       "75%             7.62\n",
       "max        30,876.50"
      ]
     },
     "execution_count": 280,
     "metadata": {},
     "output_type": "execute_result"
    }
   ],
   "source": [
    "# MV trip data statistics for both user type\n",
    "mv_trip_data_2015.describe()"
   ]
  },
  {
   "cell_type": "code",
   "execution_count": 281,
   "metadata": {
    "collapsed": false
   },
   "outputs": [
    {
     "data": {
      "text/plain": [
       "<matplotlib.text.Text at 0x119243be0>"
      ]
     },
     "execution_count": 281,
     "metadata": {},
     "output_type": "execute_result"
    },
    {
     "data": {
      "image/png": "[encoded data removed]",
      "text/plain": [
       "<matplotlib.figure.Figure at 0x113dc01d0>"
      ]
     },
     "metadata": {},
     "output_type": "display_data"
    }
   ],
   "source": [
    "# membership count (same as trip count) counts in Mountain View\n",
    "mv_trip_data_membership_2015 = mv_trip_data_2015.groupby('membership')\n",
    "mv_count_2015 = mv_trip_data_membership_2015.count()['trip_duration']\n",
    "mv_count_2015.plot.pie(autopct='%.2f', fontsize=25, figsize=(8,8),colors=['g', 'c'])\n",
    "plt.ylabel('')\n",
    "plt.xlabel('Trip Count in Mountain View in Percentage 2015', fontsize=20)"
   ]
  },
  {
   "cell_type": "code",
   "execution_count": 282,
   "metadata": {
    "collapsed": false
   },
   "outputs": [
    {
     "data": {
      "text/html": [
       "<div>\n",
       "<table border=\"1\" class=\"dataframe\">\n",
       "  <thead>\n",
       "    <tr style=\"text-align: right;\">\n",
       "      <th></th>\n",
       "      <th></th>\n",
       "      <th>trip_duration</th>\n",
       "    </tr>\n",
       "    <tr>\n",
       "      <th>membership</th>\n",
       "      <th></th>\n",
       "      <th></th>\n",
       "    </tr>\n",
       "  </thead>\n",
       "  <tbody>\n",
       "    <tr>\n",
       "      <th rowspan=\"8\" valign=\"top\">Customer</th>\n",
       "      <th>count</th>\n",
       "      <td>1,243.00</td>\n",
       "    </tr>\n",
       "    <tr>\n",
       "      <th>mean</th>\n",
       "      <td>114.26</td>\n",
       "    </tr>\n",
       "    <tr>\n",
       "      <th>std</th>\n",
       "      <td>380.09</td>\n",
       "    </tr>\n",
       "    <tr>\n",
       "      <th>min</th>\n",
       "      <td>1.02</td>\n",
       "    </tr>\n",
       "    <tr>\n",
       "      <th>25%</th>\n",
       "      <td>13.02</td>\n",
       "    </tr>\n",
       "    <tr>\n",
       "      <th>50%</th>\n",
       "      <td>24.78</td>\n",
       "    </tr>\n",
       "    <tr>\n",
       "      <th>75%</th>\n",
       "      <td>84.70</td>\n",
       "    </tr>\n",
       "    <tr>\n",
       "      <th>max</th>\n",
       "      <td>9,211.62</td>\n",
       "    </tr>\n",
       "    <tr>\n",
       "      <th rowspan=\"8\" valign=\"top\">Subscriber</th>\n",
       "      <th>count</th>\n",
       "      <td>8,756.00</td>\n",
       "    </tr>\n",
       "    <tr>\n",
       "      <th>mean</th>\n",
       "      <td>11.00</td>\n",
       "    </tr>\n",
       "    <tr>\n",
       "      <th>std</th>\n",
       "      <td>330.76</td>\n",
       "    </tr>\n",
       "    <tr>\n",
       "      <th>min</th>\n",
       "      <td>1.02</td>\n",
       "    </tr>\n",
       "    <tr>\n",
       "      <th>25%</th>\n",
       "      <td>3.88</td>\n",
       "    </tr>\n",
       "    <tr>\n",
       "      <th>50%</th>\n",
       "      <td>4.65</td>\n",
       "    </tr>\n",
       "    <tr>\n",
       "      <th>75%</th>\n",
       "      <td>6.02</td>\n",
       "    </tr>\n",
       "    <tr>\n",
       "      <th>max</th>\n",
       "      <td>30,876.50</td>\n",
       "    </tr>\n",
       "  </tbody>\n",
       "</table>\n",
       "</div>"
      ],
      "text/plain": [
       "                  trip_duration\n",
       "membership                     \n",
       "Customer   count       1,243.00\n",
       "           mean          114.26\n",
       "           std           380.09\n",
       "           min             1.02\n",
       "           25%            13.02\n",
       "           50%            24.78\n",
       "           75%            84.70\n",
       "           max         9,211.62\n",
       "Subscriber count       8,756.00\n",
       "           mean           11.00\n",
       "           std           330.76\n",
       "           min             1.02\n",
       "           25%             3.88\n",
       "           50%             4.65\n",
       "           75%             6.02\n",
       "           max        30,876.50"
      ]
     },
     "execution_count": 282,
     "metadata": {},
     "output_type": "execute_result"
    }
   ],
   "source": [
    "# RC trip data for each user type\n",
    "mv_trip_data_membership_2015.describe()"
   ]
  },
  {
   "cell_type": "code",
   "execution_count": null,
   "metadata": {
    "collapsed": true
   },
   "outputs": [],
   "source": [
    "# number of trips for each membership compared with weather (part 3)\n",
    "# count trip id\n",
    "# weather for each month and each season"
   ]
  }
 ],
 "metadata": {
  "kernelspec": {
   "display_name": "Python 3",
   "language": "python",
   "name": "python3"
  },
  "language_info": {
   "codemirror_mode": {
    "name": "ipython",
    "version": 3
   },
   "file_extension": ".py",
   "mimetype": "text/x-python",
   "name": "python",
   "nbconvert_exporter": "python",
   "pygments_lexer": "ipython3",
   "version": "3.5.1"
  }
 },
 "nbformat": 4,
 "nbformat_minor": 0
}
