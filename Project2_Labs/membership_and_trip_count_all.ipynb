{
 "cells": [
  {
   "cell_type": "markdown",
   "metadata": {},
   "source": [
    "# The code here is for the analysis of membership type \n",
    "- Comparing subscriber and customer in total trip count and trip count per city\n",
    "- (Not This Part) Comparing subscriber and customer bike share usage on different weather at different time of the year"
   ]
  },
  {
   "cell_type": "markdown",
   "metadata": {},
   "source": [
    "### ------- Reading data and creating columns --------"
   ]
  },
  {
   "cell_type": "code",
   "execution_count": null,
   "metadata": {
    "collapsed": false
   },
   "outputs": [],
   "source": [
    "from pandas import DataFrame, read_csv\n",
    "import pandas as pd\n",
    "import numpy as np\n",
    "import matplotlib.pyplot as plt\n",
    "%matplotlib inline\n",
    "pd.options.display.float_format = '{:,.2f}'.format   # all results in 2 decimal points\n",
    "#from ggplot import *"
   ]
  },
  {
   "cell_type": "code",
   "execution_count": null,
   "metadata": {
    "collapsed": true
   },
   "outputs": [],
   "source": [
    "# formatting lambdas & functions\n",
    "#fnone = lambda x : '{0:g}'.format(float(x))\n",
    "#fshort = lambda x : '{:,.2f}'.format(x)\n",
    "\n",
    "def convert_float(val):\n",
    "    try:\n",
    "        return float(val)\n",
    "    except ValueError:\n",
    "        return 0\n",
    "\n",
    "# dictionary reference\n",
    "seasons_dict = {\n",
    "    1: 'Winter',2: 'Spring',3: 'Spring',4: 'Spring',\n",
    "    5: 'Summer',6: 'Summer',7: 'Summer',8: 'Autumn',\n",
    "    9: 'Autumn',10: 'Autumn',11: 'Winter',12: 'Winter'}\n",
    "\n",
    "city_dict = {\n",
    "    94107: 'San Francisco',\n",
    "    94063: 'Redwood City',\n",
    "    94301: 'Palo Alto', \n",
    "    94041: 'Mountain View', \n",
    "    95113: 'San Jose'}\n",
    "\n",
    "# header reference\n",
    "station_headers = ['station_id','station_name','lat','long',\n",
    "                   'dock_count','city','install_date']\n",
    "\n",
    "status_headers = ['station_id','bikes_free','docks_free','time']\n",
    "\n",
    "trip_headers = ['trip_id','trip_time',\n",
    "                'start_dt','start_station','start_terminal',\n",
    "                'end_dt','end_station','end_terminal',\n",
    "                'bike_num','user_type','ZIP']\n",
    "\n",
    "weather_headers = ['date',\n",
    "                   'max_temp','mean_temp','min_temp',\n",
    "                   'max_dp','mean_dp','min_dp',\n",
    "                   'max_hum','mean_hum','min_hum',\n",
    "                   'max_sea','mean_sea','min_sea',\n",
    "                   'max_vis','mean_vis','min_vis',\n",
    "                   'max_wind','mean_wind','max_gust',\n",
    "                   'rain_inches','cloud_cover','events',\n",
    "                   'wind_dir_degrees','ZIP']"
   ]
  },
  {
   "cell_type": "code",
   "execution_count": null,
   "metadata": {
    "collapsed": false
   },
   "outputs": [],
   "source": [
    "# read trip data for 2014 \n",
    "raw_data_201402 = pd.read_csv('201402_trip_data_new.csv', parse_dates=True)\n",
    "raw_data_201402.columns = trip_headers\n",
    "raw_data_201408 = pd.read_csv('201408_trip_data_new.csv', parse_dates=True)\n",
    "raw_data_201408.columns = trip_headers"
   ]
  },
  {
   "cell_type": "code",
   "execution_count": null,
   "metadata": {
    "collapsed": false
   },
   "outputs": [],
   "source": [
    "# joining 201402 and 201408 together\n",
    "raw_data_2014 = pd.concat([raw_data_201402, raw_data_201408])\n",
    "# convert duration column \"trip_time\" to unit of minutes\n",
    "raw_data_2014['trip_time'] = raw_data_2014['trip_time'] / 60   # trip time unit in minute"
   ]
  },
  {
   "cell_type": "code",
   "execution_count": null,
   "metadata": {
    "collapsed": false
   },
   "outputs": [],
   "source": [
    "# read trip data for 2015\n",
    "raw_data_2015 = pd.read_csv('201508_trip_data_new.csv', parse_dates=True)\n",
    "raw_data_2015.columns = trip_headers\n",
    "raw_data_2015['trip_time'] = raw_data_2015['trip_time'] / 60 # trip time unit in minute "
   ]
  },
  {
   "cell_type": "markdown",
   "metadata": {},
   "source": [
    "## Part 1 - Membership count in total and per city"
   ]
  },
  {
   "cell_type": "markdown",
   "metadata": {},
   "source": [
    "### ------------- Year 2014 ------------- "
   ]
  },
  {
   "cell_type": "code",
   "execution_count": null,
   "metadata": {
    "collapsed": false
   },
   "outputs": [],
   "source": [
    "raw_data_2014.head()"
   ]
  },
  {
   "cell_type": "code",
   "execution_count": null,
   "metadata": {
    "collapsed": false
   },
   "outputs": [],
   "source": [
    "# create new dataframes with columns related to only trip time (duration) and user type (subscription)\n",
    "duration_data_2014 = pd.DataFrame(raw_data_2014, columns=['user_type', 'trip_time'])\n",
    "duration_data_2014.columns = ['membership', 'trip_duration']  \n",
    "duration_data_2014.head()"
   ]
  },
  {
   "cell_type": "markdown",
   "metadata": {},
   "source": [
    "## Total Count and membership in total"
   ]
  },
  {
   "cell_type": "code",
   "execution_count": null,
   "metadata": {
    "collapsed": false
   },
   "outputs": [],
   "source": [
    "# duration description in total\n",
    "duration_data_2014.describe()"
   ]
  },
  {
   "cell_type": "code",
   "execution_count": null,
   "metadata": {
    "collapsed": false
   },
   "outputs": [],
   "source": [
    "# membership count (same as trip count) counts in total\n",
    "membership_2014 = duration_data_2014.groupby('membership')\n",
    "count_2014 = membership_2014.count()['trip_duration']\n",
    "count_2014.plot.pie(autopct='%.2f', fontsize=25, figsize=(8,8),colors=['g', 'c'])\n",
    "plt.ylabel('')\n",
    "plt.xlabel('Membership Total Count in Percentage 2014', fontsize=20)"
   ]
  },
  {
   "cell_type": "code",
   "execution_count": null,
   "metadata": {
    "collapsed": false
   },
   "outputs": [],
   "source": [
    "# statistics table for total customer and subscribers in 2014\n",
    "membership_2014.describe()"
   ]
  },
  {
   "cell_type": "code",
   "execution_count": null,
   "metadata": {
    "collapsed": false
   },
   "outputs": [],
   "source": [
    "# make a new table with min, max, mean for both membership\n",
    "mean_2014 = membership_2014.mean()['trip_duration'] / 60  # unit in hour\n",
    "min_2014 = membership_2014.min()['trip_duration'] / 60 # unit in hour  \n",
    "mid_2014 = membership_2014.quantile(0.5)['trip_duration'] / 60  # unit in hour\n",
    "#max_2014 = membership_2014.max()['trip_duration'] / 60 # unit in hour ---> too big\n",
    "\n",
    "member_time_2014 = pd.DataFrame({'Average': mean_2014, '50 percentile': mid_2014, 'Minimum': min_2014})\n",
    "member_time_2014.plot.bar(figsize=(8,8),fontsize=15)\n",
    "plt.xlabel('User Duration of Trip Total Count 2014', fontsize=25)"
   ]
  },
  {
   "cell_type": "markdown",
   "metadata": {},
   "source": [
    "## Trip Count and membershio info per city (SF, RC, PA, SJ, MV)"
   ]
  },
  {
   "cell_type": "code",
   "execution_count": null,
   "metadata": {
    "collapsed": false
   },
   "outputs": [],
   "source": [
    "# STATION_DATA\n",
    "# read station data, grou\n",
    "raw_data_1 = pd.read_csv('201402_station_data.csv')\n",
    "raw_data_1.columns = station_headers\n",
    "raw_data_2 = pd.read_csv('201408_station_data.csv')\n",
    "raw_data_2.columns = station_headers\n",
    "raw_data_3 = pd.read_csv('201508_station_data.csv') # current dataset\n",
    "raw_data_3.columns = station_headers\n",
    "\n",
    "# merged station datasets\n",
    "station_data = pd.concat([raw_data_1, raw_data_2, raw_data_3])\n",
    "station_data.head()"
   ]
  },
  {
   "cell_type": "code",
   "execution_count": null,
   "metadata": {
    "collapsed": false
   },
   "outputs": [],
   "source": [
    "# sort station ID by city\n",
    "san_jose_station_id = list(set(station_data[station_data['city']=='San Jose']['station_id']))\n",
    "san_francisco_station_id = list(set(station_data[station_data['city']=='San Francisco']['station_id']))\n",
    "redwood_city_station_id = list(set(station_data[station_data['city']=='Redwood City']['station_id']))\n",
    "palo_alto_station_id = list(set(station_data[station_data['city']=='Palo Alto']['station_id']))\n",
    "mountain_view_station_id = list(set(station_data[station_data['city']=='Mountain View']['station_id']))"
   ]
  },
  {
   "cell_type": "code",
   "execution_count": null,
   "metadata": {
    "collapsed": false
   },
   "outputs": [],
   "source": [
    "# filter raw trip data 2014 according to station ID\n",
    "sf_trip_data_2014 = raw_data_2014[raw_data_2014['start_terminal'].isin(palo_alto_station_id)]\n",
    "sj_trip_data_2014 = raw_data_2014[raw_data_2014['start_terminal'].isin(san_jose_station_id)]\n",
    "rc_trip_data_2014 = raw_data_2014[raw_data_2014['start_terminal'].isin(redwood_city_station_id)]\n",
    "pa_trip_data_2014 = raw_data_2014[raw_data_2014['start_terminal'].isin(palo_alto_station_id)]\n",
    "mv_trip_data_2014 = raw_data_2014[raw_data_2014['start_terminal'].isin(mountain_view_station_id)]"
   ]
  },
  {
   "cell_type": "markdown",
   "metadata": {},
   "source": [
    "### San Francisco Trip Count and Membership info"
   ]
  },
  {
   "cell_type": "code",
   "execution_count": null,
   "metadata": {
    "collapsed": false
   },
   "outputs": [],
   "source": [
    "sf_trip_data_2014 = pd.DataFrame(sf_trip_data_2014, columns=['user_type', 'trip_time'])\n",
    "sf_trip_data_2014.columns = ['membership', 'trip_duration']  \n",
    "sf_trip_data_2014.head()"
   ]
  },
  {
   "cell_type": "code",
   "execution_count": null,
   "metadata": {
    "collapsed": false
   },
   "outputs": [],
   "source": [
    "# SF trip data statistics for both user type\n",
    "sf_trip_data_2014.describe()"
   ]
  },
  {
   "cell_type": "code",
   "execution_count": null,
   "metadata": {
    "collapsed": false
   },
   "outputs": [],
   "source": [
    "# SF trip data for each user type\n",
    "sf_trip_data_membership_2014.describe()"
   ]
  },
  {
   "cell_type": "code",
   "execution_count": null,
   "metadata": {
    "collapsed": false
   },
   "outputs": [],
   "source": [
    "# membership count (same as trip count) counts in San Francisco\n",
    "sf_trip_data_membership_2014 = sf_trip_data_2014.groupby('membership')\n",
    "sf_count_2014 = sf_trip_data_membership_2014.count()['trip_duration']\n",
    "sf_count_2014.plot.pie(autopct='%.2f', fontsize=25, figsize=(8,8),colors=['g', 'c'])\n",
    "plt.ylabel('')\n",
    "plt.xlabel('Trip Count in San Francisco in Percentage 2014', fontsize=20)"
   ]
  },
  {
   "cell_type": "markdown",
   "metadata": {
    "collapsed": true
   },
   "source": [
    "### San Jose Trip Count and Membership info"
   ]
  },
  {
   "cell_type": "code",
   "execution_count": null,
   "metadata": {
    "collapsed": false
   },
   "outputs": [],
   "source": [
    "sj_trip_data_2014 = pd.DataFrame(sj_trip_data_2014, columns=['user_type', 'trip_time'])\n",
    "sj_trip_data_2014.columns = ['membership', 'trip_duration']  \n",
    "sj_trip_data_2014.head()"
   ]
  },
  {
   "cell_type": "code",
   "execution_count": null,
   "metadata": {
    "collapsed": false
   },
   "outputs": [],
   "source": [
    "# SJ trip data statistics for both user type\n",
    "sj_trip_data_2014.describe()"
   ]
  },
  {
   "cell_type": "code",
   "execution_count": null,
   "metadata": {
    "collapsed": false
   },
   "outputs": [],
   "source": [
    "# membership count (same as trip count) counts in San Jose\n",
    "sj_trip_data_membership_2014 = sj_trip_data_2014.groupby('membership')\n",
    "sj_count_2014 = sj_trip_data_membership_2014.count()['trip_duration']\n",
    "sj_count_2014.plot.pie(autopct='%.2f', fontsize=25, figsize=(8,8),colors=['g', 'c'])\n",
    "plt.ylabel('')\n",
    "plt.xlabel('Trip Count in San Jose in Percentage 2014', fontsize=20)"
   ]
  },
  {
   "cell_type": "code",
   "execution_count": null,
   "metadata": {
    "collapsed": false
   },
   "outputs": [],
   "source": [
    "# SJ trip data for each user type\n",
    "sj_trip_data_membership_2014.describe()"
   ]
  },
  {
   "cell_type": "markdown",
   "metadata": {
    "collapsed": true
   },
   "source": [
    "### Palo Alto Trip Count and Membership info"
   ]
  },
  {
   "cell_type": "code",
   "execution_count": null,
   "metadata": {
    "collapsed": false
   },
   "outputs": [],
   "source": [
    "pa_trip_data_2014 = pd.DataFrame(pa_trip_data_2014, columns=['user_type', 'trip_time'])\n",
    "pa_trip_data_2014.columns = ['membership', 'trip_duration']  \n",
    "pa_trip_data_2014.head()"
   ]
  },
  {
   "cell_type": "code",
   "execution_count": null,
   "metadata": {
    "collapsed": false
   },
   "outputs": [],
   "source": [
    "# PA trip data statistics for both user type\n",
    "pa_trip_data_2014.describe()"
   ]
  },
  {
   "cell_type": "code",
   "execution_count": null,
   "metadata": {
    "collapsed": false
   },
   "outputs": [],
   "source": [
    "# membership count (same as trip count) counts in Palo Alto\n",
    "pa_trip_data_membership_2014 = pa_trip_data_2014.groupby('membership')\n",
    "pa_count_2014 = pa_trip_data_membership_2014.count()['trip_duration']\n",
    "pa_count_2014.plot.pie(autopct='%.2f', fontsize=25, figsize=(8,8),colors=['g', 'c'])\n",
    "plt.ylabel('')\n",
    "plt.xlabel('Trip Count in Palo Alto in Percentage 2014', fontsize=20)"
   ]
  },
  {
   "cell_type": "code",
   "execution_count": null,
   "metadata": {
    "collapsed": false
   },
   "outputs": [],
   "source": [
    "# PA trip data for each user type\n",
    "pa_trip_data_membership_2014.describe()"
   ]
  },
  {
   "cell_type": "markdown",
   "metadata": {},
   "source": [
    "### Redwood CIty Trip Count and Membership info"
   ]
  },
  {
   "cell_type": "code",
   "execution_count": null,
   "metadata": {
    "collapsed": false
   },
   "outputs": [],
   "source": [
    "rc_trip_data_2014 = pd.DataFrame(rc_trip_data_2014, columns=['user_type', 'trip_time'])\n",
    "rc_trip_data_2014.columns = ['membership', 'trip_duration']  \n",
    "rc_trip_data_2014.head()"
   ]
  },
  {
   "cell_type": "code",
   "execution_count": null,
   "metadata": {
    "collapsed": false
   },
   "outputs": [],
   "source": [
    "# RC trip data statistics for both user type\n",
    "rc_trip_data_2014.describe()"
   ]
  },
  {
   "cell_type": "code",
   "execution_count": null,
   "metadata": {
    "collapsed": false
   },
   "outputs": [],
   "source": [
    "# membership count (same as trip count) counts in Redwood City\n",
    "rc_trip_data_membership_2014 = rc_trip_data_2014.groupby('membership')\n",
    "rc_count_2014 = rc_trip_data_membership_2014.count()['trip_duration']\n",
    "rc_count_2014.plot.pie(autopct='%.2f', fontsize=25, figsize=(8,8),colors=['g', 'c'])\n",
    "plt.ylabel('')\n",
    "plt.xlabel('Trip Count in Redwood City in Percentage 2014', fontsize=20)"
   ]
  },
  {
   "cell_type": "code",
   "execution_count": null,
   "metadata": {
    "collapsed": false
   },
   "outputs": [],
   "source": [
    "# RC trip data for each user type\n",
    "rc_trip_data_membership_2014.describe()"
   ]
  },
  {
   "cell_type": "markdown",
   "metadata": {},
   "source": [
    "### Mountain View Trip Count and Membership info"
   ]
  },
  {
   "cell_type": "code",
   "execution_count": null,
   "metadata": {
    "collapsed": false
   },
   "outputs": [],
   "source": [
    "mv_trip_data_2014 = pd.DataFrame(mv_trip_data_2014, columns=['user_type', 'trip_time'])\n",
    "mv_trip_data_2014.columns = ['membership', 'trip_duration']  \n",
    "mv_trip_data_2014.head()"
   ]
  },
  {
   "cell_type": "code",
   "execution_count": null,
   "metadata": {
    "collapsed": false
   },
   "outputs": [],
   "source": [
    "# MV trip data statistics for both user type\n",
    "mv_trip_data_2014.describe()"
   ]
  },
  {
   "cell_type": "code",
   "execution_count": null,
   "metadata": {
    "collapsed": false
   },
   "outputs": [],
   "source": [
    "# membership count (same as trip count) counts in Mountain View\n",
    "mv_trip_data_membership_2014 = mv_trip_data_2014.groupby('membership')\n",
    "mv_count_2014 = mv_trip_data_membership_2014.count()['trip_duration']\n",
    "mv_count_2014.plot.pie(autopct='%.2f', fontsize=25, figsize=(8,8),colors=['g', 'c'])\n",
    "plt.ylabel('')\n",
    "plt.xlabel('Trip Count in Mountain View in Percentage 2014', fontsize=20)"
   ]
  },
  {
   "cell_type": "code",
   "execution_count": null,
   "metadata": {
    "collapsed": false
   },
   "outputs": [],
   "source": [
    "# MV trip data for each user type\n",
    "mv_trip_data_membership_2014.describe()"
   ]
  },
  {
   "cell_type": "code",
   "execution_count": null,
   "metadata": {
    "collapsed": true
   },
   "outputs": [],
   "source": []
  },
  {
   "cell_type": "markdown",
   "metadata": {},
   "source": [
    "### ------------- Year 2015 ------------- "
   ]
  },
  {
   "cell_type": "code",
   "execution_count": null,
   "metadata": {
    "collapsed": false
   },
   "outputs": [],
   "source": [
    "raw_data_2015.head()"
   ]
  },
  {
   "cell_type": "code",
   "execution_count": null,
   "metadata": {
    "collapsed": false
   },
   "outputs": [],
   "source": [
    "# create new dataframes with columns related to only trip time (duration) and user type (subscription)\n",
    "duration_data_2015 = pd.DataFrame(raw_data_2015, columns=['user_type', 'trip_time'])\n",
    "duration_data_2015.columns = ['membership', 'trip_duration']  \n",
    "duration_data_2015.head()"
   ]
  },
  {
   "cell_type": "markdown",
   "metadata": {},
   "source": [
    "## Total Count and member in total"
   ]
  },
  {
   "cell_type": "code",
   "execution_count": null,
   "metadata": {
    "collapsed": false
   },
   "outputs": [],
   "source": [
    "# duration description in total --> notice count increases \n",
    "duration_data_2015.describe()"
   ]
  },
  {
   "cell_type": "code",
   "execution_count": null,
   "metadata": {
    "collapsed": false
   },
   "outputs": [],
   "source": [
    "# membership count (same as trip count) counts in total\n",
    "membership_2015 = duration_data_2015.groupby('membership')\n",
    "count_2015 = membership_2015.count()['trip_duration']\n",
    "count_2015.plot.pie(autopct='%.2f', fontsize=25, figsize=(8,8),colors=['g', 'c'])\n",
    "plt.ylabel('')\n",
    "plt.xlabel('Membership Total Count in Percentage 2015', fontsize=20)"
   ]
  },
  {
   "cell_type": "code",
   "execution_count": null,
   "metadata": {
    "collapsed": false
   },
   "outputs": [],
   "source": [
    "# statistics table for total customer and subscribers in 2015\n",
    "membership_2015.describe()"
   ]
  },
  {
   "cell_type": "code",
   "execution_count": null,
   "metadata": {
    "collapsed": false
   },
   "outputs": [],
   "source": [
    "# make a new table with min, max, mean for both membership\n",
    "mean_2015 = membership_2015.mean()['trip_duration'] / 60  # unit in hour\n",
    "min_2015 = membership_2015.min()['trip_duration'] / 60 # unit in hour  \n",
    "mid_2015 = membership_2015.quantile(0.5)['trip_duration'] / 60  # unit in hour\n",
    "#max_2015 = membership_2015.max()['trip_duration'] / 60 # unit in hour ---> too big\n",
    "\n",
    "member_time_2015 = pd.DataFrame({'Average': mean_2015, '50 percentile': mid_2015, 'Minimum': min_2015})\n",
    "member_time_2015.plot.bar(figsize=(8,8),fontsize=15)\n",
    "plt.xlabel('User Duration of Trip Total Count 2015', fontsize=25)"
   ]
  },
  {
   "cell_type": "markdown",
   "metadata": {},
   "source": [
    "## Trip Count and membership info per city (SF, RC, PA, SJ, MV)"
   ]
  },
  {
   "cell_type": "code",
   "execution_count": null,
   "metadata": {
    "collapsed": false
   },
   "outputs": [],
   "source": [
    "# filter raw trip data 2015 according to station ID\n",
    "sf_trip_data_2015 = raw_data_2015[raw_data_2015['start_terminal'].isin(palo_alto_station_id)]\n",
    "sj_trip_data_2015 = raw_data_2015[raw_data_2015['start_terminal'].isin(san_jose_station_id)]\n",
    "rc_trip_data_2015 = raw_data_2015[raw_data_2015['start_terminal'].isin(redwood_city_station_id)]\n",
    "pa_trip_data_2015 = raw_data_2015[raw_data_2015['start_terminal'].isin(palo_alto_station_id)]\n",
    "mv_trip_data_2015 = raw_data_2015[raw_data_2015['start_terminal'].isin(mountain_view_station_id)]"
   ]
  },
  {
   "cell_type": "markdown",
   "metadata": {},
   "source": [
    "### San Francisco Trip Count and Membership info"
   ]
  },
  {
   "cell_type": "code",
   "execution_count": null,
   "metadata": {
    "collapsed": false
   },
   "outputs": [],
   "source": [
    "sf_trip_data_2015 = pd.DataFrame(sf_trip_data_2015, columns=['user_type', 'trip_time'])\n",
    "sf_trip_data_2015.columns = ['membership', 'trip_duration']  \n",
    "sf_trip_data_2015.head()"
   ]
  },
  {
   "cell_type": "code",
   "execution_count": null,
   "metadata": {
    "collapsed": false
   },
   "outputs": [],
   "source": [
    "# SF trip data statistics for both user type\n",
    "sf_trip_data_2015.describe()"
   ]
  },
  {
   "cell_type": "code",
   "execution_count": null,
   "metadata": {
    "collapsed": false
   },
   "outputs": [],
   "source": [
    "# membership count (same as trip count) counts in San Francisco\n",
    "sf_trip_data_membership_2015 = sf_trip_data_2015.groupby('membership')\n",
    "sf_count_2015 = sf_trip_data_membership_2015.count()['trip_duration']\n",
    "sf_count_2015.plot.pie(autopct='%.2f', fontsize=25, figsize=(8,8),colors=['g', 'c'])\n",
    "plt.ylabel('')\n",
    "plt.xlabel('Trip Count in San Francisco in Percentage 2015', fontsize=20)"
   ]
  },
  {
   "cell_type": "code",
   "execution_count": null,
   "metadata": {
    "collapsed": false
   },
   "outputs": [],
   "source": [
    "# SF trip data for each user type\n",
    "sf_trip_data_membership_2015.describe()"
   ]
  },
  {
   "cell_type": "markdown",
   "metadata": {},
   "source": [
    "### San Jose Trip Count and Membership info"
   ]
  },
  {
   "cell_type": "code",
   "execution_count": null,
   "metadata": {
    "collapsed": false
   },
   "outputs": [],
   "source": [
    "sj_trip_data_2015 = pd.DataFrame(sj_trip_data_2015, columns=['user_type', 'trip_time'])\n",
    "sj_trip_data_2015.columns = ['membership', 'trip_duration']  \n",
    "sj_trip_data_2015.head()"
   ]
  },
  {
   "cell_type": "code",
   "execution_count": null,
   "metadata": {
    "collapsed": false
   },
   "outputs": [],
   "source": [
    "# SJ trip data statistics for both user type\n",
    "sj_trip_data_2015.describe()"
   ]
  },
  {
   "cell_type": "code",
   "execution_count": null,
   "metadata": {
    "collapsed": false
   },
   "outputs": [],
   "source": [
    "# membership count (same as trip count) counts in San Jose\n",
    "sj_trip_data_membership_2015 = sj_trip_data_2015.groupby('membership')\n",
    "sj_count_2015 = sj_trip_data_membership_2015.count()['trip_duration']\n",
    "sj_count_2015.plot.pie(autopct='%.2f', fontsize=25, figsize=(8,8),colors=['g', 'c'])\n",
    "plt.ylabel('')\n",
    "plt.xlabel('Trip Count in San Jose in Percentage 2015', fontsize=20)"
   ]
  },
  {
   "cell_type": "code",
   "execution_count": null,
   "metadata": {
    "collapsed": false
   },
   "outputs": [],
   "source": [
    "# SJ trip data for each user type\n",
    "sj_trip_data_membership_2015.describe()"
   ]
  },
  {
   "cell_type": "markdown",
   "metadata": {},
   "source": [
    "### Palo Alto Trip Count and Membership info"
   ]
  },
  {
   "cell_type": "code",
   "execution_count": null,
   "metadata": {
    "collapsed": false
   },
   "outputs": [],
   "source": [
    "pa_trip_data_2015 = pd.DataFrame(pa_trip_data_2015, columns=['user_type', 'trip_time'])\n",
    "pa_trip_data_2015.columns = ['membership', 'trip_duration']  \n",
    "pa_trip_data_2015.head()"
   ]
  },
  {
   "cell_type": "code",
   "execution_count": null,
   "metadata": {
    "collapsed": false
   },
   "outputs": [],
   "source": [
    "# PA trip data statistics for both user type\n",
    "pa_trip_data_2015.describe()"
   ]
  },
  {
   "cell_type": "code",
   "execution_count": null,
   "metadata": {
    "collapsed": false
   },
   "outputs": [],
   "source": [
    "# membership count (same as trip count) counts in Palo Alto\n",
    "pa_trip_data_membership_2015 = pa_trip_data_2015.groupby('membership')\n",
    "pa_count_2015 = pa_trip_data_membership_2015.count()['trip_duration']\n",
    "pa_count_2015.plot.pie(autopct='%.2f', fontsize=25, figsize=(8,8),colors=['g', 'c'])\n",
    "plt.ylabel('')\n",
    "plt.xlabel('Trip Count in Palo Alto in Percentage 2015', fontsize=20)"
   ]
  },
  {
   "cell_type": "code",
   "execution_count": null,
   "metadata": {
    "collapsed": false
   },
   "outputs": [],
   "source": [
    "# PA trip data for each user type\n",
    "pa_trip_data_membership_2015.describe()"
   ]
  },
  {
   "cell_type": "markdown",
   "metadata": {},
   "source": [
    "### Redwood CIty Trip Count and Membership info"
   ]
  },
  {
   "cell_type": "code",
   "execution_count": null,
   "metadata": {
    "collapsed": false
   },
   "outputs": [],
   "source": [
    "rc_trip_data_2015 = pd.DataFrame(rc_trip_data_2015, columns=['user_type', 'trip_time'])\n",
    "rc_trip_data_2015.columns = ['membership', 'trip_duration']  \n",
    "rc_trip_data_2015.head()"
   ]
  },
  {
   "cell_type": "code",
   "execution_count": null,
   "metadata": {
    "collapsed": false
   },
   "outputs": [],
   "source": [
    "# RC trip data statistics for both user type\n",
    "rc_trip_data_2015.describe()"
   ]
  },
  {
   "cell_type": "code",
   "execution_count": null,
   "metadata": {
    "collapsed": false
   },
   "outputs": [],
   "source": [
    "# membership count (same as trip count) counts in Redwood City\n",
    "rc_trip_data_membership_2015 = rc_trip_data_2015.groupby('membership')\n",
    "rc_count_2015 = rc_trip_data_membership_2015.count()['trip_duration']\n",
    "rc_count_2015.plot.pie(autopct='%.2f', fontsize=25, figsize=(8,8),colors=['g', 'c'])\n",
    "plt.ylabel('')\n",
    "plt.xlabel('Trip Count in Redwood City in Percentage 2015', fontsize=20)"
   ]
  },
  {
   "cell_type": "code",
   "execution_count": null,
   "metadata": {
    "collapsed": false
   },
   "outputs": [],
   "source": [
    "# RC trip data for each user type\n",
    "rc_trip_data_membership_2015.describe()"
   ]
  },
  {
   "cell_type": "markdown",
   "metadata": {},
   "source": [
    "### Mountain View Trip Count and Membership info"
   ]
  },
  {
   "cell_type": "code",
   "execution_count": null,
   "metadata": {
    "collapsed": false
   },
   "outputs": [],
   "source": [
    "mv_trip_data_2015 = pd.DataFrame(mv_trip_data_2015, columns=['user_type', 'trip_time'])\n",
    "mv_trip_data_2015.columns = ['membership', 'trip_duration']  \n",
    "mv_trip_data_2015.head()"
   ]
  },
  {
   "cell_type": "code",
   "execution_count": null,
   "metadata": {
    "collapsed": false
   },
   "outputs": [],
   "source": [
    "# MV trip data statistics for both user type\n",
    "mv_trip_data_2015.describe()"
   ]
  },
  {
   "cell_type": "code",
   "execution_count": null,
   "metadata": {
    "collapsed": false
   },
   "outputs": [],
   "source": [
    "# membership count (same as trip count) counts in Mountain View\n",
    "mv_trip_data_membership_2015 = mv_trip_data_2015.groupby('membership')\n",
    "mv_count_2015 = mv_trip_data_membership_2015.count()['trip_duration']\n",
    "mv_count_2015.plot.pie(autopct='%.2f', fontsize=25, figsize=(8,8),colors=['g', 'c'])\n",
    "plt.ylabel('')\n",
    "plt.xlabel('Trip Count in Mountain View in Percentage 2015', fontsize=20)"
   ]
  },
  {
   "cell_type": "code",
   "execution_count": null,
   "metadata": {
    "collapsed": false
   },
   "outputs": [],
   "source": [
    "# RC trip data for each user type\n",
    "mv_trip_data_membership_2015.describe()"
   ]
  },
  {
   "cell_type": "code",
   "execution_count": null,
   "metadata": {
    "collapsed": true
   },
   "outputs": [],
   "source": [
    "# number of trips for each membership compared with weather (part 3)\n",
    "# count trip id\n",
    "# weather for each month and each season"
   ]
  }
 ],
 "metadata": {
  "kernelspec": {
   "display_name": "Python 3",
   "language": "python",
   "name": "python3"
  },
  "language_info": {
   "codemirror_mode": {
    "name": "ipython",
    "version": 3
   },
   "file_extension": ".py",
   "mimetype": "text/x-python",
   "name": "python",
   "nbconvert_exporter": "python",
   "pygments_lexer": "ipython3",
   "version": "3.5.1"
  }
 },
 "nbformat": 4,
 "nbformat_minor": 0
}
