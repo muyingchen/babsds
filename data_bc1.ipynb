{
 "cells": [
  {
   "cell_type": "code",
   "execution_count": null,
   "metadata": {
    "collapsed": true
   },
   "outputs": [],
   "source": [
    "from pandas import DataFrame, read_csv\n",
    "import pandas as pd\n",
    "import numpy as np\n",
    "import matplotlib.pyplot as plt\n",
    "%matplotlib inline\n",
    "from ggplot import *"
   ]
  },
  {
   "cell_type": "code",
   "execution_count": null,
   "metadata": {
    "collapsed": true
   },
   "outputs": [],
   "source": [
    "# formatting lambdas & functions\n",
    "fnone = lambda x : '{0:g}'.format(float(x))\n",
    "fshort = lambda x : '{:,.2f}'.format(x)\n",
    "\n",
    "def convert_float(val):\n",
    "    try:\n",
    "        return float(val)\n",
    "    except ValueError:\n",
    "        return 0\n",
    "\n",
    "# dictionary reference\n",
    "seasons_dict = {\n",
    "    1: 'Winter',2: 'Spring',3: 'Spring',4: 'Spring',\n",
    "    5: 'Summer',6: 'Summer',7: 'Summer',8: 'Autumn',\n",
    "    9: 'Autumn',10: 'Autumn',11: 'Winter',12: 'Winter'}\n",
    "\n",
    "city_dict = {\n",
    "    94107: 'San Francisco',\n",
    "    94063: 'Redwood City',\n",
    "    94301: 'Palo Alto', \n",
    "    94041: 'Mountain View', \n",
    "    95113: 'San Jose'}\n",
    "\n",
    "# header reference\n",
    "station_headers = ['station_id','station_name','lat','long',\n",
    "                   'dock_count','city','install_date']\n",
    "\n",
    "status_headers = ['station_id','bikes_free','docks_free','time']\n",
    "\n",
    "trip_headers = ['trip_id','trip_time',\n",
    "                'start_dt','start_station','start_id',\n",
    "                'end_dt','end_station','end_id',\n",
    "                'bike_num','user_type','ZIP']\n",
    "\n",
    "weather_headers = ['date',\n",
    "                   'max_temp','mean_temp','min_temp',\n",
    "                   'max_dp','mean_dp','min_dp',\n",
    "                   'max_hum','mean_hum','min_hum',\n",
    "                   'max_sea','mean_sea','min_sea',\n",
    "                   'max_vis','mean_vis','min_vis',\n",
    "                   'max_wind','mean_wind','max_gust',\n",
    "                   'rain_inches','cloud_cover','events',\n",
    "                   'wind_dir_degrees','ZIP']"
   ]
  },
  {
   "cell_type": "code",
   "execution_count": null,
   "metadata": {
    "collapsed": true
   },
   "outputs": [],
   "source": [
    "# STATION_DATA\n",
    "raw_data_1 = pd.read_csv('201402_station_data.csv')\n",
    "raw_data_1.columns = station_headers\n",
    "raw_data_2 = pd.read_csv('201408_station_data.csv')\n",
    "raw_data_2.columns = station_headers\n",
    "raw_data_3 = pd.read_csv('201508_station_data.csv') # current dataset\n",
    "raw_data_3.columns = station_headers\n",
    "\n",
    "# merged station datasets\n",
    "station_data = raw_data_3.merge((raw_data_1.merge(raw_data_2, on='station_id', how='outer', suffixes=('_201402','_201408'))),\n",
    "                                 on='station_id', how='outer')\n",
    "\n",
    "# current station dataset\n",
    "station_cur = raw_data_3.set_index('station_id',drop=True)"
   ]
  },
  {
   "cell_type": "code",
   "execution_count": null,
   "metadata": {
    "collapsed": true
   },
   "outputs": [],
   "source": [
    "# STATUS_DATA\n",
    "raw_data_1 = pd.read_csv('201402_status_data.csv')\n",
    "raw_data_1.columns = status_headers\n",
    "raw_data_2 = pd.read_csv('201408_status_data.csv')\n",
    "raw_data_2.columns = status_headers\n",
    "raw_data_3 = pd.read_csv('201508_status_data.csv')\n",
    "raw_data_3.columns = status_headers\n",
    "\n",
    "status_data = pd.concat([raw_data_1, raw_data_2, raw_data_3])"
   ]
  },
  {
   "cell_type": "code",
   "execution_count": null,
   "metadata": {
    "collapsed": true
   },
   "outputs": [],
   "source": [
    "# TRIP_DATA\n",
    "raw_data_1a = pd.read_csv('201402_trip_data.csv', parse_dates=True)\n",
    "raw_data_1a.columns = trip_headers\n",
    "raw_data_2a = pd.read_csv('201408_trip_data.csv', parse_dates=True)\n",
    "raw_data_2a.columns = trip_headers\n",
    "raw_data_3a = pd.read_csv('201508_trip_data.csv', parse_dates=True)\n",
    "raw_data_3a.columns = trip_headers\n",
    "\n",
    "trip_data = pd.concat([raw_data_1a, raw_data_2a, raw_data_3a])\n",
    "trip_data.drop('ZIP', axis=1, inplace=True)\n",
    "\n",
    "trip_data['start_city'] = trip_data['start_id'].map(lambda_city)\n",
    "trip_data['end_city'] = trip_data['end_id'].map(lambda_city)"
   ]
  },
  {
   "cell_type": "code",
   "execution_count": null,
   "metadata": {
    "collapsed": true
   },
   "outputs": [],
   "source": [
    "# WEATHER_DATA\n",
    "raw_data_1b = pd.read_csv('201402_weather_data.csv', parse_dates=['Date'])\n",
    "raw_data_1b.columns = weather_headers\n",
    "raw_data_2b = pd.read_csv('201408_weather_data.csv', parse_dates=['PDT'])\n",
    "raw_data_2b.columns = weather_headers\n",
    "raw_data_3b = pd.read_csv('201508_weather_data.csv', parse_dates=['PDT'])\n",
    "raw_data_3b.columns = weather_headers\n",
    "\n",
    "weather_data = pd.concat([raw_data_1b, raw_data_2b, raw_data_3b])\n",
    "\n",
    "weather_data['season'] = weather_data['date'].dt.month.map(seasons_dict)\n",
    "weather_data['city'] = weather_data['ZIP'].map(city_dict)\n",
    "weather_data['max_sea'] = weather_data['max_sea'].map(fshort)\n",
    "weather_data['mean_sea'] = weather_data['mean_sea'].map(fshort)\n",
    "weather_data['min_sea'] = weather_data['min_sea'].map(fshort)\n",
    "weather_data['rain_inches'] = weather_data['rain_inches'].map(convert_float)\n",
    "\n",
    "weather_data.drop(['events'], axis=1, inplace=True)\n",
    "\n",
    "weather_data.index = weather_data['date']\n",
    "weather_data.drop(['date'], axis=1, inplace=True)"
   ]
  }
 ],
 "metadata": {
  "kernelspec": {
   "display_name": "Python 3",
   "language": "python",
   "name": "python3"
  },
  "language_info": {
   "codemirror_mode": {
    "name": "ipython",
    "version": 3
   },
   "file_extension": ".py",
   "mimetype": "text/x-python",
   "name": "python",
   "nbconvert_exporter": "python",
   "pygments_lexer": "ipython3",
   "version": "3.5.1"
  }
 },
 "nbformat": 4,
 "nbformat_minor": 0
}
